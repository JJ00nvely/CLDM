{
 "cells": [
  {
   "cell_type": "code",
   "execution_count": 2,
   "metadata": {},
   "outputs": [],
   "source": [
    "import json\n",
    "import torch\n",
    "import json\n",
    "import os\n",
    "from LayoutDM import CLDM\n",
    "from dataset import ImageLayout_Val\n",
    "from torch.utils.data import Dataset, DataLoader\n",
    "from diffusers import DDPMScheduler\n",
    "from PIL import Image\n",
    "import numpy as np"
   ]
  },
  {
   "cell_type": "code",
   "execution_count": 3,
   "metadata": {},
   "outputs": [],
   "source": [
    "diffusion = DDPMScheduler()"
   ]
  },
  {
   "cell_type": "code",
   "execution_count": 4,
   "metadata": {},
   "outputs": [],
   "source": [
    "device = f\"cuda:{4}\" if torch.cuda.is_available() else \"cpu\""
   ]
  },
  {
   "cell_type": "markdown",
   "metadata": {},
   "source": [
    "## Load Model with Seperate Param dict"
   ]
  },
  {
   "cell_type": "code",
   "execution_count": 17,
   "metadata": {},
   "outputs": [
    {
     "ename": "RuntimeError",
     "evalue": "Error(s) in loading state_dict for CLDM:\n\tMissing key(s) in state_dict: \"transformer.encoder.layers.0.temp_attention.q_fc.weight\", \"transformer.encoder.layers.0.temp_attention.q_fc.bias\", \"transformer.encoder.layers.0.temp_attention.k_fc.weight\", \"transformer.encoder.layers.0.temp_attention.k_fc.bias\", \"transformer.encoder.layers.0.temp_attention.v_fc.weight\", \"transformer.encoder.layers.0.temp_attention.v_fc.bias\", \"transformer.encoder.layers.0.temp_attention.out_fc.weight\", \"transformer.encoder.layers.0.temp_attention.out_fc.bias\", \"transformer.encoder.layers.0.residual3.norm.weight\", \"transformer.encoder.layers.0.residual3.norm.bias\", \"transformer.encoder.layers.1.temp_attention.q_fc.weight\", \"transformer.encoder.layers.1.temp_attention.q_fc.bias\", \"transformer.encoder.layers.1.temp_attention.k_fc.weight\", \"transformer.encoder.layers.1.temp_attention.k_fc.bias\", \"transformer.encoder.layers.1.temp_attention.v_fc.weight\", \"transformer.encoder.layers.1.temp_attention.v_fc.bias\", \"transformer.encoder.layers.1.temp_attention.out_fc.weight\", \"transformer.encoder.layers.1.temp_attention.out_fc.bias\", \"transformer.encoder.layers.1.residual3.norm.weight\", \"transformer.encoder.layers.1.residual3.norm.bias\", \"transformer.encoder.layers.2.temp_attention.q_fc.weight\", \"transformer.encoder.layers.2.temp_attention.q_fc.bias\", \"transformer.encoder.layers.2.temp_attention.k_fc.weight\", \"transformer.encoder.layers.2.temp_attention.k_fc.bias\", \"transformer.encoder.layers.2.temp_attention.v_fc.weight\", \"transformer.encoder.layers.2.temp_attention.v_fc.bias\", \"transformer.encoder.layers.2.temp_attention.out_fc.weight\", \"transformer.encoder.layers.2.temp_attention.out_fc.bias\", \"transformer.encoder.layers.2.residual3.norm.weight\", \"transformer.encoder.layers.2.residual3.norm.bias\", \"transformer.encoder.layers.3.temp_attention.q_fc.weight\", \"transformer.encoder.layers.3.temp_attention.q_fc.bias\", \"transformer.encoder.layers.3.temp_attention.k_fc.weight\", \"transformer.encoder.layers.3.temp_attention.k_fc.bias\", \"transformer.encoder.layers.3.temp_attention.v_fc.weight\", \"transformer.encoder.layers.3.temp_attention.v_fc.bias\", \"transformer.encoder.layers.3.temp_attention.out_fc.weight\", \"transformer.encoder.layers.3.temp_attention.out_fc.bias\", \"transformer.encoder.layers.3.residual3.norm.weight\", \"transformer.encoder.layers.3.residual3.norm.bias\", \"transformer.encoder.layers.4.temp_attention.q_fc.weight\", \"transformer.encoder.layers.4.temp_attention.q_fc.bias\", \"transformer.encoder.layers.4.temp_attention.k_fc.weight\", \"transformer.encoder.layers.4.temp_attention.k_fc.bias\", \"transformer.encoder.layers.4.temp_attention.v_fc.weight\", \"transformer.encoder.layers.4.temp_attention.v_fc.bias\", \"transformer.encoder.layers.4.temp_attention.out_fc.weight\", \"transformer.encoder.layers.4.temp_attention.out_fc.bias\", \"transformer.encoder.layers.4.residual3.norm.weight\", \"transformer.encoder.layers.4.residual3.norm.bias\", \"transformer.encoder.layers.5.temp_attention.q_fc.weight\", \"transformer.encoder.layers.5.temp_attention.q_fc.bias\", \"transformer.encoder.layers.5.temp_attention.k_fc.weight\", \"transformer.encoder.layers.5.temp_attention.k_fc.bias\", \"transformer.encoder.layers.5.temp_attention.v_fc.weight\", \"transformer.encoder.layers.5.temp_attention.v_fc.bias\", \"transformer.encoder.layers.5.temp_attention.out_fc.weight\", \"transformer.encoder.layers.5.temp_attention.out_fc.bias\", \"transformer.encoder.layers.5.residual3.norm.weight\", \"transformer.encoder.layers.5.residual3.norm.bias\". ",
     "output_type": "error",
     "traceback": [
      "\u001b[0;31m---------------------------------------------------------------------------\u001b[0m",
      "\u001b[0;31mRuntimeError\u001b[0m                              Traceback (most recent call last)",
      "Cell \u001b[0;32mIn[17], line 4\u001b[0m\n\u001b[1;32m      1\u001b[0m save_path \u001b[38;5;241m=\u001b[39m\u001b[38;5;124m\"\u001b[39m\u001b[38;5;124m/workspace/joonsm/City_Layout/log_dir/baselien_512/checkpoints/checkpoint-0/pytorch_model.bin\u001b[39m\u001b[38;5;124m\"\u001b[39m\n\u001b[1;32m      3\u001b[0m model \u001b[38;5;241m=\u001b[39m CLDM(use_temp\u001b[38;5;241m=\u001b[39m\u001b[38;5;28;01mTrue\u001b[39;00m)\n\u001b[0;32m----> 4\u001b[0m \u001b[43mmodel\u001b[49m\u001b[38;5;241;43m.\u001b[39;49m\u001b[43mload_state_dict\u001b[49m\u001b[43m(\u001b[49m\u001b[43mtorch\u001b[49m\u001b[38;5;241;43m.\u001b[39;49m\u001b[43mload\u001b[49m\u001b[43m(\u001b[49m\u001b[43msave_path\u001b[49m\u001b[43m)\u001b[49m\u001b[43m)\u001b[49m\n\u001b[1;32m      5\u001b[0m \u001b[38;5;66;03m# model = model.to(device)\u001b[39;00m\n\u001b[1;32m      6\u001b[0m \u001b[38;5;66;03m# model.eval()\u001b[39;00m\n",
      "File \u001b[0;32m/conda/joonsm/envs/CLDM/lib/python3.9/site-packages/torch/nn/modules/module.py:2152\u001b[0m, in \u001b[0;36mModule.load_state_dict\u001b[0;34m(self, state_dict, strict, assign)\u001b[0m\n\u001b[1;32m   2147\u001b[0m         error_msgs\u001b[38;5;241m.\u001b[39minsert(\n\u001b[1;32m   2148\u001b[0m             \u001b[38;5;241m0\u001b[39m, \u001b[38;5;124m'\u001b[39m\u001b[38;5;124mMissing key(s) in state_dict: \u001b[39m\u001b[38;5;132;01m{}\u001b[39;00m\u001b[38;5;124m. \u001b[39m\u001b[38;5;124m'\u001b[39m\u001b[38;5;241m.\u001b[39mformat(\n\u001b[1;32m   2149\u001b[0m                 \u001b[38;5;124m'\u001b[39m\u001b[38;5;124m, \u001b[39m\u001b[38;5;124m'\u001b[39m\u001b[38;5;241m.\u001b[39mjoin(\u001b[38;5;124mf\u001b[39m\u001b[38;5;124m'\u001b[39m\u001b[38;5;124m\"\u001b[39m\u001b[38;5;132;01m{\u001b[39;00mk\u001b[38;5;132;01m}\u001b[39;00m\u001b[38;5;124m\"\u001b[39m\u001b[38;5;124m'\u001b[39m \u001b[38;5;28;01mfor\u001b[39;00m k \u001b[38;5;129;01min\u001b[39;00m missing_keys)))\n\u001b[1;32m   2151\u001b[0m \u001b[38;5;28;01mif\u001b[39;00m \u001b[38;5;28mlen\u001b[39m(error_msgs) \u001b[38;5;241m>\u001b[39m \u001b[38;5;241m0\u001b[39m:\n\u001b[0;32m-> 2152\u001b[0m     \u001b[38;5;28;01mraise\u001b[39;00m \u001b[38;5;167;01mRuntimeError\u001b[39;00m(\u001b[38;5;124m'\u001b[39m\u001b[38;5;124mError(s) in loading state_dict for \u001b[39m\u001b[38;5;132;01m{}\u001b[39;00m\u001b[38;5;124m:\u001b[39m\u001b[38;5;130;01m\\n\u001b[39;00m\u001b[38;5;130;01m\\t\u001b[39;00m\u001b[38;5;132;01m{}\u001b[39;00m\u001b[38;5;124m'\u001b[39m\u001b[38;5;241m.\u001b[39mformat(\n\u001b[1;32m   2153\u001b[0m                        \u001b[38;5;28mself\u001b[39m\u001b[38;5;241m.\u001b[39m\u001b[38;5;18m__class__\u001b[39m\u001b[38;5;241m.\u001b[39m\u001b[38;5;18m__name__\u001b[39m, \u001b[38;5;124m\"\u001b[39m\u001b[38;5;130;01m\\n\u001b[39;00m\u001b[38;5;130;01m\\t\u001b[39;00m\u001b[38;5;124m\"\u001b[39m\u001b[38;5;241m.\u001b[39mjoin(error_msgs)))\n\u001b[1;32m   2154\u001b[0m \u001b[38;5;28;01mreturn\u001b[39;00m _IncompatibleKeys(missing_keys, unexpected_keys)\n",
      "\u001b[0;31mRuntimeError\u001b[0m: Error(s) in loading state_dict for CLDM:\n\tMissing key(s) in state_dict: \"transformer.encoder.layers.0.temp_attention.q_fc.weight\", \"transformer.encoder.layers.0.temp_attention.q_fc.bias\", \"transformer.encoder.layers.0.temp_attention.k_fc.weight\", \"transformer.encoder.layers.0.temp_attention.k_fc.bias\", \"transformer.encoder.layers.0.temp_attention.v_fc.weight\", \"transformer.encoder.layers.0.temp_attention.v_fc.bias\", \"transformer.encoder.layers.0.temp_attention.out_fc.weight\", \"transformer.encoder.layers.0.temp_attention.out_fc.bias\", \"transformer.encoder.layers.0.residual3.norm.weight\", \"transformer.encoder.layers.0.residual3.norm.bias\", \"transformer.encoder.layers.1.temp_attention.q_fc.weight\", \"transformer.encoder.layers.1.temp_attention.q_fc.bias\", \"transformer.encoder.layers.1.temp_attention.k_fc.weight\", \"transformer.encoder.layers.1.temp_attention.k_fc.bias\", \"transformer.encoder.layers.1.temp_attention.v_fc.weight\", \"transformer.encoder.layers.1.temp_attention.v_fc.bias\", \"transformer.encoder.layers.1.temp_attention.out_fc.weight\", \"transformer.encoder.layers.1.temp_attention.out_fc.bias\", \"transformer.encoder.layers.1.residual3.norm.weight\", \"transformer.encoder.layers.1.residual3.norm.bias\", \"transformer.encoder.layers.2.temp_attention.q_fc.weight\", \"transformer.encoder.layers.2.temp_attention.q_fc.bias\", \"transformer.encoder.layers.2.temp_attention.k_fc.weight\", \"transformer.encoder.layers.2.temp_attention.k_fc.bias\", \"transformer.encoder.layers.2.temp_attention.v_fc.weight\", \"transformer.encoder.layers.2.temp_attention.v_fc.bias\", \"transformer.encoder.layers.2.temp_attention.out_fc.weight\", \"transformer.encoder.layers.2.temp_attention.out_fc.bias\", \"transformer.encoder.layers.2.residual3.norm.weight\", \"transformer.encoder.layers.2.residual3.norm.bias\", \"transformer.encoder.layers.3.temp_attention.q_fc.weight\", \"transformer.encoder.layers.3.temp_attention.q_fc.bias\", \"transformer.encoder.layers.3.temp_attention.k_fc.weight\", \"transformer.encoder.layers.3.temp_attention.k_fc.bias\", \"transformer.encoder.layers.3.temp_attention.v_fc.weight\", \"transformer.encoder.layers.3.temp_attention.v_fc.bias\", \"transformer.encoder.layers.3.temp_attention.out_fc.weight\", \"transformer.encoder.layers.3.temp_attention.out_fc.bias\", \"transformer.encoder.layers.3.residual3.norm.weight\", \"transformer.encoder.layers.3.residual3.norm.bias\", \"transformer.encoder.layers.4.temp_attention.q_fc.weight\", \"transformer.encoder.layers.4.temp_attention.q_fc.bias\", \"transformer.encoder.layers.4.temp_attention.k_fc.weight\", \"transformer.encoder.layers.4.temp_attention.k_fc.bias\", \"transformer.encoder.layers.4.temp_attention.v_fc.weight\", \"transformer.encoder.layers.4.temp_attention.v_fc.bias\", \"transformer.encoder.layers.4.temp_attention.out_fc.weight\", \"transformer.encoder.layers.4.temp_attention.out_fc.bias\", \"transformer.encoder.layers.4.residual3.norm.weight\", \"transformer.encoder.layers.4.residual3.norm.bias\", \"transformer.encoder.layers.5.temp_attention.q_fc.weight\", \"transformer.encoder.layers.5.temp_attention.q_fc.bias\", \"transformer.encoder.layers.5.temp_attention.k_fc.weight\", \"transformer.encoder.layers.5.temp_attention.k_fc.bias\", \"transformer.encoder.layers.5.temp_attention.v_fc.weight\", \"transformer.encoder.layers.5.temp_attention.v_fc.bias\", \"transformer.encoder.layers.5.temp_attention.out_fc.weight\", \"transformer.encoder.layers.5.temp_attention.out_fc.bias\", \"transformer.encoder.layers.5.residual3.norm.weight\", \"transformer.encoder.layers.5.residual3.norm.bias\". "
     ]
    }
   ],
   "source": [
    "save_path =\"/workspace/joonsm/City_Layout/log_dir/baselien_512/checkpoints/checkpoint-0/pytorch_model.bin\"\n",
    "\n",
    "model = CLDM(use_temp=True)\n",
    "\n",
    "model.load_state_dict(torch.load(save_path))\n",
    "# model = model.to(device)\n",
    "# model.eval()"
   ]
  },
  {
   "cell_type": "code",
   "execution_count": 8,
   "metadata": {},
   "outputs": [
    {
     "data": {
      "text/plain": [
       "CLDM(\n",
       "  (visual_encoder): Dinov2Model(\n",
       "    (embeddings): Dinov2Embeddings(\n",
       "      (patch_embeddings): Dinov2PatchEmbeddings(\n",
       "        (projection): Conv2d(3, 768, kernel_size=(14, 14), stride=(14, 14))\n",
       "      )\n",
       "      (dropout): Dropout(p=0.0, inplace=False)\n",
       "    )\n",
       "    (encoder): Dinov2Encoder(\n",
       "      (layer): ModuleList(\n",
       "        (0-11): 12 x Dinov2Layer(\n",
       "          (norm1): LayerNorm((768,), eps=1e-06, elementwise_affine=True)\n",
       "          (attention): Dinov2Attention(\n",
       "            (attention): Dinov2SelfAttention(\n",
       "              (query): Linear(in_features=768, out_features=768, bias=True)\n",
       "              (key): Linear(in_features=768, out_features=768, bias=True)\n",
       "              (value): Linear(in_features=768, out_features=768, bias=True)\n",
       "              (dropout): Dropout(p=0.0, inplace=False)\n",
       "            )\n",
       "            (output): Dinov2SelfOutput(\n",
       "              (dense): Linear(in_features=768, out_features=768, bias=True)\n",
       "              (dropout): Dropout(p=0.0, inplace=False)\n",
       "            )\n",
       "          )\n",
       "          (layer_scale1): Dinov2LayerScale()\n",
       "          (drop_path): Identity()\n",
       "          (norm2): LayerNorm((768,), eps=1e-06, elementwise_affine=True)\n",
       "          (mlp): Dinov2MLP(\n",
       "            (fc1): Linear(in_features=768, out_features=3072, bias=True)\n",
       "            (activation): GELUActivation()\n",
       "            (fc2): Linear(in_features=3072, out_features=768, bias=True)\n",
       "          )\n",
       "          (layer_scale2): Dinov2LayerScale()\n",
       "        )\n",
       "      )\n",
       "    )\n",
       "    (layernorm): LayerNorm((768,), eps=1e-06, elementwise_affine=True)\n",
       "  )\n",
       "  (gpool): GPO(\n",
       "    (gru): GRU(32, 32, batch_first=True, bidirectional=True)\n",
       "    (linear): Linear(in_features=32, out_features=1, bias=False)\n",
       "  )\n",
       "  (image_proj): Linear(in_features=768, out_features=256, bias=True)\n",
       "  (seq_pos_enc): PositionalEncoding(\n",
       "    (dropout): Dropout(p=0.0, inplace=False)\n",
       "  )\n",
       "  (embed_timestep): TimestepEmbedder(\n",
       "    (seq_pos_enc): PositionalEncoding(\n",
       "      (dropout): Dropout(p=0.0, inplace=False)\n",
       "    )\n",
       "    (time_embed): Sequential(\n",
       "      (0): Linear(in_features=256, out_features=256, bias=True)\n",
       "      (1): SiLU()\n",
       "      (2): Linear(in_features=256, out_features=256, bias=True)\n",
       "    )\n",
       "  )\n",
       "  (transformer): Custom(\n",
       "    (encoder): Encoder(\n",
       "      (layers): ModuleList(\n",
       "        (0-5): 6 x tempcoder(\n",
       "          (self_attention): MultiHeadAttentionLayer(\n",
       "            (q_fc): Linear(in_features=256, out_features=256, bias=True)\n",
       "            (k_fc): Linear(in_features=256, out_features=256, bias=True)\n",
       "            (v_fc): Linear(in_features=256, out_features=256, bias=True)\n",
       "            (out_fc): Linear(in_features=256, out_features=256, bias=True)\n",
       "            (dropout): Dropout(p=0.0, inplace=False)\n",
       "          )\n",
       "          (temp_attention): MultiHeadAttentionLayer(\n",
       "            (q_fc): Linear(in_features=256, out_features=256, bias=True)\n",
       "            (k_fc): Linear(in_features=256, out_features=256, bias=True)\n",
       "            (v_fc): Linear(in_features=256, out_features=256, bias=True)\n",
       "            (out_fc): Linear(in_features=256, out_features=256, bias=True)\n",
       "            (dropout): Dropout(p=0.0, inplace=False)\n",
       "          )\n",
       "          (position_ff): PositionWiseFeedForwardLayer(\n",
       "            (fc1): Linear(in_features=256, out_features=512, bias=True)\n",
       "            (relu): ReLU()\n",
       "            (dropout): Dropout(p=0.0, inplace=False)\n",
       "            (fc2): Linear(in_features=512, out_features=256, bias=True)\n",
       "          )\n",
       "          (residual1): ResidualConnectionLayer(\n",
       "            (norm): LayerNorm((256,), eps=1e-05, elementwise_affine=True)\n",
       "            (dropout): Dropout(p=0.0, inplace=False)\n",
       "          )\n",
       "          (residual2): ResidualConnectionLayer(\n",
       "            (norm): LayerNorm((256,), eps=1e-05, elementwise_affine=True)\n",
       "            (dropout): Dropout(p=0.0, inplace=False)\n",
       "          )\n",
       "          (residual3): ResidualConnectionLayer(\n",
       "            (norm): LayerNorm((256,), eps=1e-05, elementwise_affine=True)\n",
       "            (dropout): Dropout(p=0.0, inplace=False)\n",
       "          )\n",
       "        )\n",
       "      )\n",
       "      (norm): LayerNorm((256,), eps=1e-05, elementwise_affine=True)\n",
       "    )\n",
       "  )\n",
       "  (decode): Linear(in_features=258, out_features=4, bias=True)\n",
       "  (size_emb): Sequential(\n",
       "    (0): Linear(in_features=2, out_features=128, bias=True)\n",
       "  )\n",
       "  (loc_emb): Sequential(\n",
       "    (0): Linear(in_features=2, out_features=128, bias=True)\n",
       "  )\n",
       ")"
      ]
     },
     "execution_count": 8,
     "metadata": {},
     "output_type": "execute_result"
    }
   ],
   "source": [
    "device = torch.device(f\"cuda:4\" if torch.cuda.is_available() else \"cpu\")\n",
    "save_path =\"/workspace/joonsm/City_Layout/log_dir/baselien_512/checkpoints/checkpoint-0/pytorch_model.bin\"\n",
    "# 모델 인스턴스 생성\n",
    "model = CLDM(use_temp=True)\n",
    "\n",
    "# 모델 가중치 로드\n",
    "model.load_state_dict(torch.load(save_path, map_location=device),strict=False)\n",
    "\n",
    "# 모델을 지정한 장치로 이동\n",
    "model.to(device)"
   ]
  },
  {
   "cell_type": "code",
   "execution_count": null,
   "metadata": {},
   "outputs": [],
   "source": [
    "model.transformer.attention.q_fc.weight"
   ]
  },
  {
   "cell_type": "code",
   "execution_count": null,
   "metadata": {},
   "outputs": [],
   "source": [
    "a['transformer.encoder.layers.0.position_ff.fc1.bias']"
   ]
  },
  {
   "cell_type": "code",
   "execution_count": null,
   "metadata": {},
   "outputs": [],
   "source": [
    "a= torch.load(save_path)"
   ]
  },
  {
   "cell_type": "code",
   "execution_count": null,
   "metadata": {},
   "outputs": [],
   "source": [
    "for batch_idx, sample in enumerate(loader):\n",
    "    print(f\"Batch {batch_idx} SR: {sample['sr']}\")\n",
    "    if batch_idx > 0:\n",
    "        break  # 첫 번째 배치만 확인"
   ]
  },
  {
   "cell_type": "code",
   "execution_count": null,
   "metadata": {},
   "outputs": [],
   "source": [
    "val_path = \"/nas2/lait/1000_Members/jjoonvely/CARLA/pre_seg_combined_val.json\""
   ]
  },
  {
   "cell_type": "code",
   "execution_count": null,
   "metadata": {},
   "outputs": [],
   "source": [
    "val = ImageLayout_Val(val_path)\n",
    "dataset = DataLoader(val, batch_size=len(val))\n",
    "val_data = next(iter(dataset))"
   ]
  },
  {
   "cell_type": "code",
   "execution_count": null,
   "metadata": {},
   "outputs": [],
   "source": [
    "num_sample  = val_data['box'].shape\n",
    "model.eval()\n",
    "noisy_batch = {'image':val_data['image'].to(device),\n",
    "               'box': torch.rand(*num_sample, dtype=torch.float32, device=device)}\n",
    "for i in range(1000)[::-1]:\n",
    "    t = torch.tensor([i]*num_sample[0], device=device)\n",
    "    with torch.no_grad():\n",
    "        noise_pred = model(noisy_batch, timesteps=t)\n",
    "        bbox_pred = diffusion.step(noise_pred, t[0].detach().item(),  noisy_batch['box'], return_dict=True)\n",
    "\n",
    "        noisy_batch['box'] = bbox_pred.prev_sample\n"
   ]
  },
  {
   "cell_type": "markdown",
   "metadata": {},
   "source": [
    "## Check the Area"
   ]
  },
  {
   "cell_type": "code",
   "execution_count": null,
   "metadata": {},
   "outputs": [],
   "source": [
    "predicted = bbox_pred.pred_original_sample\n",
    "src = val_data['sr']\n",
    "src_list = []\n",
    "for i in src:\n",
    "    src_ = Image.open(i)\n",
    "    src_list.append(src_)\n",
    "box = predicted\n",
    "box = box.cpu().numpy()\n",
    "box = (box + 1) / 2\n",
    "\n",
    "match_list = []\n",
    "\n",
    "for i in range(box.shape[0]):\n",
    "    img = src_list[i]\n",
    "    width, height = img.size\n",
    "    cx,cy,w,h = box[i]\n",
    "    x = int((cx - w / 2) * width)\n",
    "    y = int((cy - h / 2) * height)\n",
    "    x2 = int((cx + w / 2) * width)\n",
    "    y2 = int((cy + h / 2) * height)\n",
    "    boxes = (x,y,x2,y2)\n",
    "    crop = img.crop(boxes)\n",
    "    crop = np.array(crop)\n",
    "    blue_channel = crop[:,:,2]\n",
    "    blue_channel_flatten = blue_channel.flatten()\n",
    "    match_pixel_size = np.sum(blue_channel_flatten==128)/blue_channel_flatten.size\n",
    "    match_list.append(match_pixel_size)\n",
    "\n",
    "value = sum(match_list)/box.shape[0]"
   ]
  }
 ],
 "metadata": {
  "kernelspec": {
   "display_name": "CLDM",
   "language": "python",
   "name": "python3"
  },
  "language_info": {
   "codemirror_mode": {
    "name": "ipython",
    "version": 3
   },
   "file_extension": ".py",
   "mimetype": "text/x-python",
   "name": "python",
   "nbconvert_exporter": "python",
   "pygments_lexer": "ipython3",
   "version": "3.9.19"
  }
 },
 "nbformat": 4,
 "nbformat_minor": 2
}

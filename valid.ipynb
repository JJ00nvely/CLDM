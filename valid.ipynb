{
 "cells": [
  {
   "cell_type": "code",
   "execution_count": 2,
   "metadata": {},
   "outputs": [],
   "source": [
    "import json\n",
    "import torch\n",
    "import json\n",
    "import os\n",
    "from LayoutDM import CLDM\n",
    "from dataset import ImageLayout_Val\n",
    "from torch.utils.data import Dataset, DataLoader\n",
    "from diffusers import DDPMScheduler\n",
    "from PIL import Image\n",
    "import numpy as np\n",
    "import gc\n",
    "from tqdm import tqdm"
   ]
  },
  {
   "cell_type": "code",
   "execution_count": 3,
   "metadata": {},
   "outputs": [],
   "source": [
    "diffusion = DDPMScheduler(num_train_timesteps= 1000)"
   ]
  },
  {
   "cell_type": "code",
   "execution_count": 4,
   "metadata": {},
   "outputs": [],
   "source": [
    "device = f\"cuda:{6}\" if torch.cuda.is_available() else \"cpu\""
   ]
  },
  {
   "cell_type": "code",
   "execution_count": 5,
   "metadata": {},
   "outputs": [],
   "source": [
    "def seg_loss(predicted_box, sample, zero_count):\n",
    "    src = sample['sr']\n",
    "    src_list = []\n",
    "    \n",
    "    for i in src:\n",
    "        src_ = Image.open(i)\n",
    "        src_list.append(src_)\n",
    "    \n",
    "    box = predicted_box.cpu().numpy()\n",
    "    box = (box + 1) / 2\n",
    "    \n",
    "    match_list = []\n",
    "\n",
    "    for i in range(box.shape[0]):\n",
    "        img = src_list[i]\n",
    "        width, height = img.size\n",
    "        cx, cy, w, h = box[i]\n",
    "        x = int((cx - w / 2) * width)\n",
    "        y = int((cy - h / 2) * height)\n",
    "        x2 = int((cx + w / 2) * width)\n",
    "        y2 = int((cy + h / 2) * height)\n",
    "        boxes = (x, y, x2, y2)\n",
    "        \n",
    "        # 이미지 크롭\n",
    "        crop = img.crop(boxes)\n",
    "        crop = np.array(crop)\n",
    "\n",
    "\n",
    "        if crop.size == 0:\n",
    "            print(f\"Warning: Crop size is zero for box {boxes}.\")\n",
    "            match_list.append(0)  \n",
    "            zero_count+=1\n",
    "            continue\n",
    "        \n",
    "        blue_channel = crop[:, :, 2]\n",
    "        blue_channel_flatten = blue_channel.flatten()\n",
    "        \n",
    "\n",
    "        match_pixel_size = np.sum(blue_channel_flatten == 128) / blue_channel_flatten.size\n",
    "        match_list.append(match_pixel_size)\n",
    "    \n",
    "    # NaN 방지를 위해 match_list가 비어 있지 않은지 확인\n",
    "    if len(match_list) == 0:\n",
    "        print(\"Error: All crops have zero size. Returning NaN.\")\n",
    "        return float('nan')\n",
    "    \n",
    "    value = sum(match_list) / len(match_list)\n",
    "    print(value)\n",
    "    return value, zero_count"
   ]
  },
  {
   "cell_type": "markdown",
   "metadata": {},
   "source": [
    "## Load Model with Seperate Param dict"
   ]
  },
  {
   "cell_type": "code",
   "execution_count": 6,
   "metadata": {},
   "outputs": [],
   "source": [
    "val_path = \"/nas2/lait/1000_Members/jjoonvely/carla_new/pre_seg_combined_val.json\" "
   ]
  },
  {
   "cell_type": "code",
   "execution_count": 7,
   "metadata": {},
   "outputs": [],
   "source": [
    "val = ImageLayout_Val(val_path)\n",
    "dataset = DataLoader(val, batch_size=256)"
   ]
  },
  {
   "cell_type": "code",
   "execution_count": 8,
   "metadata": {},
   "outputs": [],
   "source": [
    "epoch = [100,150,200,250,300]"
   ]
  },
  {
   "cell_type": "code",
   "execution_count": 11,
   "metadata": {},
   "outputs": [
    {
     "name": "stderr",
     "output_type": "stream",
     "text": [
      "  0%|          | 0/9 [00:00<?, ?it/s]"
     ]
    },
    {
     "name": "stdout",
     "output_type": "stream",
     "text": [
      "Warning: Crop size is zero for box (406, 296, 406, 302).\n",
      "Warning: Crop size is zero for box (398, 281, 398, 283).\n"
     ]
    },
    {
     "name": "stderr",
     "output_type": "stream",
     "text": [
      " 11%|█         | 1/9 [03:53<31:11, 233.90s/it]"
     ]
    },
    {
     "name": "stdout",
     "output_type": "stream",
     "text": [
      "Warning: Crop size is zero for box (376, 289, 376, 295).\n",
      "0.6671114893710176\n",
      "3\n"
     ]
    },
    {
     "name": "stderr",
     "output_type": "stream",
     "text": [
      " 22%|██▏       | 2/9 [07:16<25:08, 215.44s/it]"
     ]
    },
    {
     "name": "stdout",
     "output_type": "stream",
     "text": [
      "0.6979320155629881\n",
      "3\n"
     ]
    },
    {
     "name": "stderr",
     "output_type": "stream",
     "text": [
      " 33%|███▎      | 3/9 [10:33<20:42, 207.00s/it]"
     ]
    },
    {
     "name": "stdout",
     "output_type": "stream",
     "text": [
      "0.680714820132087\n",
      "3\n",
      "Warning: Crop size is zero for box (396, 286, 397, 286).\n"
     ]
    },
    {
     "name": "stderr",
     "output_type": "stream",
     "text": [
      " 44%|████▍     | 4/9 [14:07<17:30, 210.01s/it]"
     ]
    },
    {
     "name": "stdout",
     "output_type": "stream",
     "text": [
      "Warning: Crop size is zero for box (419, 294, 424, 294).\n",
      "0.7080360125993962\n",
      "5\n"
     ]
    },
    {
     "name": "stderr",
     "output_type": "stream",
     "text": [
      " 56%|█████▌    | 5/9 [18:13<14:51, 222.98s/it]"
     ]
    },
    {
     "name": "stdout",
     "output_type": "stream",
     "text": [
      "Warning: Crop size is zero for box (401, 289, 401, 295).\n",
      "0.6916217882870705\n",
      "6\n"
     ]
    },
    {
     "name": "stderr",
     "output_type": "stream",
     "text": [
      " 67%|██████▋   | 6/9 [22:04<11:16, 225.58s/it]"
     ]
    },
    {
     "name": "stdout",
     "output_type": "stream",
     "text": [
      "0.6976600310917832\n",
      "6\n",
      "Warning: Crop size is zero for box (399, 297, 402, 297).\n",
      "Warning: Crop size is zero for box (401, 283, 401, 286).\n",
      "Warning: Crop size is zero for box (404, 281, 406, 281).\n"
     ]
    },
    {
     "name": "stderr",
     "output_type": "stream",
     "text": [
      " 78%|███████▊  | 7/9 [25:45<07:28, 224.01s/it]"
     ]
    },
    {
     "name": "stdout",
     "output_type": "stream",
     "text": [
      "0.6985024807333452\n",
      "9\n",
      "Warning: Crop size is zero for box (408, 304, 414, 304).\n"
     ]
    },
    {
     "name": "stderr",
     "output_type": "stream",
     "text": [
      " 89%|████████▉ | 8/9 [29:49<03:50, 230.43s/it]"
     ]
    },
    {
     "name": "stdout",
     "output_type": "stream",
     "text": [
      "0.5393047652732719\n",
      "10\n"
     ]
    },
    {
     "name": "stderr",
     "output_type": "stream",
     "text": [
      "100%|██████████| 9/9 [31:50<00:00, 212.33s/it]"
     ]
    },
    {
     "name": "stdout",
     "output_type": "stream",
     "text": [
      "0.4319607455510853\n",
      "10\n"
     ]
    },
    {
     "name": "stderr",
     "output_type": "stream",
     "text": [
      "\n",
      " 11%|█         | 1/9 [03:54<31:13, 234.17s/it]"
     ]
    },
    {
     "name": "stdout",
     "output_type": "stream",
     "text": [
      "0.7807626370025701\n",
      "0\n",
      "Warning: Crop size is zero for box (415, 299, 415, 303).\n"
     ]
    },
    {
     "name": "stderr",
     "output_type": "stream",
     "text": [
      " 22%|██▏       | 2/9 [07:37<26:33, 227.58s/it]"
     ]
    },
    {
     "name": "stdout",
     "output_type": "stream",
     "text": [
      "0.822963909222528\n",
      "1\n",
      "Warning: Crop size is zero for box (402, 298, 402, 304).\n"
     ]
    },
    {
     "name": "stderr",
     "output_type": "stream",
     "text": [
      " 33%|███▎      | 3/9 [11:22<22:40, 226.77s/it]"
     ]
    },
    {
     "name": "stdout",
     "output_type": "stream",
     "text": [
      "0.8227911538353345\n",
      "2\n",
      "Warning: Crop size is zero for box (408, 303, 408, 303).\n"
     ]
    },
    {
     "name": "stderr",
     "output_type": "stream",
     "text": [
      " 44%|████▍     | 4/9 [15:06<18:46, 225.36s/it]"
     ]
    },
    {
     "name": "stdout",
     "output_type": "stream",
     "text": [
      "0.8237969517698219\n",
      "3\n"
     ]
    },
    {
     "name": "stderr",
     "output_type": "stream",
     "text": [
      " 56%|█████▌    | 5/9 [18:47<14:55, 223.85s/it]"
     ]
    },
    {
     "name": "stdout",
     "output_type": "stream",
     "text": [
      "0.7763608246670627\n",
      "3\n"
     ]
    },
    {
     "name": "stderr",
     "output_type": "stream",
     "text": [
      " 67%|██████▋   | 6/9 [22:40<11:21, 227.04s/it]"
     ]
    },
    {
     "name": "stdout",
     "output_type": "stream",
     "text": [
      "0.8062254853459676\n",
      "3\n",
      "Warning: Crop size is zero for box (400, 307, 400, 312).\n"
     ]
    },
    {
     "name": "stderr",
     "output_type": "stream",
     "text": [
      " 78%|███████▊  | 7/9 [26:30<07:35, 227.87s/it]"
     ]
    },
    {
     "name": "stdout",
     "output_type": "stream",
     "text": [
      "0.7874479116092563\n",
      "4\n",
      "Warning: Crop size is zero for box (392, 324, 396, 324).\n",
      "Warning: Crop size is zero for box (436, 358, 436, 377).\n"
     ]
    },
    {
     "name": "stderr",
     "output_type": "stream",
     "text": [
      " 89%|████████▉ | 8/9 [30:12<03:46, 226.11s/it]"
     ]
    },
    {
     "name": "stdout",
     "output_type": "stream",
     "text": [
      "0.6987819423734535\n",
      "6\n"
     ]
    },
    {
     "name": "stderr",
     "output_type": "stream",
     "text": [
      "100%|██████████| 9/9 [32:16<00:00, 215.20s/it]"
     ]
    },
    {
     "name": "stdout",
     "output_type": "stream",
     "text": [
      "0.6282182984460464\n",
      "6\n"
     ]
    },
    {
     "name": "stderr",
     "output_type": "stream",
     "text": [
      "\n",
      " 11%|█         | 1/9 [03:54<31:15, 234.47s/it]"
     ]
    },
    {
     "name": "stdout",
     "output_type": "stream",
     "text": [
      "0.7631597852310826\n",
      "0\n"
     ]
    },
    {
     "name": "stderr",
     "output_type": "stream",
     "text": [
      " 22%|██▏       | 2/9 [07:25<25:45, 220.72s/it]"
     ]
    },
    {
     "name": "stdout",
     "output_type": "stream",
     "text": [
      "0.8021768269353181\n",
      "0\n"
     ]
    },
    {
     "name": "stderr",
     "output_type": "stream",
     "text": [
      " 33%|███▎      | 3/9 [11:28<23:04, 230.72s/it]"
     ]
    },
    {
     "name": "stdout",
     "output_type": "stream",
     "text": [
      "0.8357307153256627\n",
      "0\n"
     ]
    },
    {
     "name": "stderr",
     "output_type": "stream",
     "text": [
      " 44%|████▍     | 4/9 [15:13<19:02, 228.42s/it]"
     ]
    },
    {
     "name": "stdout",
     "output_type": "stream",
     "text": [
      "0.8087874543675672\n",
      "0\n"
     ]
    },
    {
     "name": "stderr",
     "output_type": "stream",
     "text": [
      " 56%|█████▌    | 5/9 [18:44<14:49, 222.28s/it]"
     ]
    },
    {
     "name": "stdout",
     "output_type": "stream",
     "text": [
      "0.8169837780649737\n",
      "0\n"
     ]
    },
    {
     "name": "stderr",
     "output_type": "stream",
     "text": [
      " 67%|██████▋   | 6/9 [22:38<11:18, 226.28s/it]"
     ]
    },
    {
     "name": "stdout",
     "output_type": "stream",
     "text": [
      "0.803213278230208\n",
      "0\n"
     ]
    },
    {
     "name": "stderr",
     "output_type": "stream",
     "text": [
      " 78%|███████▊  | 7/9 [26:27<07:34, 227.32s/it]"
     ]
    },
    {
     "name": "stdout",
     "output_type": "stream",
     "text": [
      "0.793596257860088\n",
      "0\n"
     ]
    },
    {
     "name": "stderr",
     "output_type": "stream",
     "text": [
      " 89%|████████▉ | 8/9 [30:23<03:49, 229.83s/it]"
     ]
    },
    {
     "name": "stdout",
     "output_type": "stream",
     "text": [
      "0.7189074356853353\n",
      "0\n"
     ]
    },
    {
     "name": "stderr",
     "output_type": "stream",
     "text": [
      "100%|██████████| 9/9 [32:20<00:00, 215.59s/it]"
     ]
    },
    {
     "name": "stdout",
     "output_type": "stream",
     "text": [
      "0.5624968278457235\n",
      "0\n"
     ]
    },
    {
     "name": "stderr",
     "output_type": "stream",
     "text": [
      "\n",
      " 11%|█         | 1/9 [03:41<29:28, 221.08s/it]"
     ]
    },
    {
     "name": "stdout",
     "output_type": "stream",
     "text": [
      "0.7516591225201111\n",
      "0\n"
     ]
    },
    {
     "name": "stderr",
     "output_type": "stream",
     "text": [
      " 22%|██▏       | 2/9 [07:19<25:38, 219.75s/it]"
     ]
    },
    {
     "name": "stdout",
     "output_type": "stream",
     "text": [
      "0.7620499306694175\n",
      "0\n"
     ]
    },
    {
     "name": "stderr",
     "output_type": "stream",
     "text": [
      " 33%|███▎      | 3/9 [11:25<23:09, 231.61s/it]"
     ]
    },
    {
     "name": "stdout",
     "output_type": "stream",
     "text": [
      "0.7686184826685093\n",
      "0\n"
     ]
    },
    {
     "name": "stderr",
     "output_type": "stream",
     "text": [
      " 44%|████▍     | 4/9 [15:13<19:10, 230.16s/it]"
     ]
    },
    {
     "name": "stdout",
     "output_type": "stream",
     "text": [
      "0.8101438627912981\n",
      "0\n"
     ]
    },
    {
     "name": "stderr",
     "output_type": "stream",
     "text": [
      " 56%|█████▌    | 5/9 [18:59<15:14, 228.60s/it]"
     ]
    },
    {
     "name": "stdout",
     "output_type": "stream",
     "text": [
      "0.7700208553959342\n",
      "0\n"
     ]
    },
    {
     "name": "stderr",
     "output_type": "stream",
     "text": [
      " 67%|██████▋   | 6/9 [22:34<11:12, 224.07s/it]"
     ]
    },
    {
     "name": "stdout",
     "output_type": "stream",
     "text": [
      "0.7783066706833531\n",
      "0\n"
     ]
    },
    {
     "name": "stderr",
     "output_type": "stream",
     "text": [
      " 78%|███████▊  | 7/9 [26:29<07:34, 227.49s/it]"
     ]
    },
    {
     "name": "stdout",
     "output_type": "stream",
     "text": [
      "0.7992962476899308\n",
      "0\n"
     ]
    },
    {
     "name": "stderr",
     "output_type": "stream",
     "text": [
      " 89%|████████▉ | 8/9 [30:28<03:51, 231.37s/it]"
     ]
    },
    {
     "name": "stdout",
     "output_type": "stream",
     "text": [
      "0.6564657910550509\n",
      "0\n"
     ]
    },
    {
     "name": "stderr",
     "output_type": "stream",
     "text": [
      "100%|██████████| 9/9 [32:32<00:00, 216.90s/it]"
     ]
    },
    {
     "name": "stdout",
     "output_type": "stream",
     "text": [
      "0.5618794930759113\n",
      "0\n"
     ]
    },
    {
     "name": "stderr",
     "output_type": "stream",
     "text": [
      "\n",
      " 11%|█         | 1/9 [03:58<31:46, 238.27s/it]"
     ]
    },
    {
     "name": "stdout",
     "output_type": "stream",
     "text": [
      "0.8184171286232694\n",
      "0\n"
     ]
    },
    {
     "name": "stderr",
     "output_type": "stream",
     "text": [
      " 22%|██▏       | 2/9 [07:45<27:03, 231.88s/it]"
     ]
    },
    {
     "name": "stdout",
     "output_type": "stream",
     "text": [
      "0.8720270949410808\n",
      "0\n"
     ]
    },
    {
     "name": "stderr",
     "output_type": "stream",
     "text": [
      " 33%|███▎      | 3/9 [11:27<22:44, 227.47s/it]"
     ]
    },
    {
     "name": "stdout",
     "output_type": "stream",
     "text": [
      "0.8555487813278698\n",
      "0\n"
     ]
    },
    {
     "name": "stderr",
     "output_type": "stream",
     "text": [
      " 44%|████▍     | 4/9 [15:03<18:34, 222.83s/it]"
     ]
    },
    {
     "name": "stdout",
     "output_type": "stream",
     "text": [
      "0.8876349727279031\n",
      "0\n"
     ]
    },
    {
     "name": "stderr",
     "output_type": "stream",
     "text": [
      " 56%|█████▌    | 5/9 [19:04<15:18, 229.52s/it]"
     ]
    },
    {
     "name": "stdout",
     "output_type": "stream",
     "text": [
      "0.882640431692447\n",
      "0\n"
     ]
    },
    {
     "name": "stderr",
     "output_type": "stream",
     "text": [
      " 67%|██████▋   | 6/9 [22:51<11:25, 228.49s/it]"
     ]
    },
    {
     "name": "stdout",
     "output_type": "stream",
     "text": [
      "0.8936254381489235\n",
      "0\n"
     ]
    },
    {
     "name": "stderr",
     "output_type": "stream",
     "text": [
      " 78%|███████▊  | 7/9 [26:26<07:28, 224.18s/it]"
     ]
    },
    {
     "name": "stdout",
     "output_type": "stream",
     "text": [
      "0.8907291202407682\n",
      "0\n"
     ]
    },
    {
     "name": "stderr",
     "output_type": "stream",
     "text": [
      " 89%|████████▉ | 8/9 [30:19<03:47, 227.00s/it]"
     ]
    },
    {
     "name": "stdout",
     "output_type": "stream",
     "text": [
      "0.7485442818691056\n",
      "0\n"
     ]
    },
    {
     "name": "stderr",
     "output_type": "stream",
     "text": [
      "100%|██████████| 9/9 [32:33<00:00, 217.05s/it]"
     ]
    },
    {
     "name": "stdout",
     "output_type": "stream",
     "text": [
      "0.675669929832084\n",
      "0\n"
     ]
    },
    {
     "name": "stderr",
     "output_type": "stream",
     "text": [
      "\n"
     ]
    }
   ],
   "source": [
    "src={0: {'score': 0.5814610461090901, 'zero_count': 67}}\n",
    "for index,value in enumerate(epoch):\n",
    "    save_path = f\"/workspace/joonsm/City_Layout/log_dir/baseline_512/checkpoints/checkpoint-{value}/pytorch_model.bin\"\n",
    "    model = CLDM(use_temp=False)\n",
    "    model.load_state_dict(torch.load(save_path, map_location=device))\n",
    "    model = model.to(device)\n",
    "    model.eval()\n",
    "    zero_count = 0\n",
    "    batch_value = []\n",
    "    step = 0\n",
    "    with torch.no_grad():\n",
    "        for step,batch in tqdm(enumerate(dataset), total=len(dataset)):\n",
    "            shape = batch['box'].shape\n",
    "            noisy_batch = {'image':batch['image'].to(device),\n",
    "                    'box': torch.rand(*shape, dtype=torch.float32, device=device)}\n",
    "            for i in range(250)[::-1]:\n",
    "                t = torch.tensor([i]*shape[0], device=device)\n",
    "                with torch.no_grad():\n",
    "                    noise_pred = model(noisy_batch, timesteps=t)\n",
    "                    bbox_pred = diffusion.step(noise_pred, t[0].detach().item(),  noisy_batch['box'], return_dict=True)\n",
    "                    noisy_batch['box'] = bbox_pred.prev_sample\n",
    "            predicted = bbox_pred.prev_sample\n",
    "            value,zero_count = seg_loss(predicted, batch,zero_count)\n",
    "            print(zero_count)\n",
    "            batch_value.append(value)\n",
    "            step +=1 \n",
    "\n",
    "        final = sum(batch_value)/step\n",
    "        src[index]={'score': final, 'zero_count':zero_count}\n",
    "    del model\n",
    "    gc.collect()\n"
   ]
  },
  {
   "cell_type": "code",
   "execution_count": 12,
   "metadata": {},
   "outputs": [
    {
     "data": {
      "text/plain": [
       "{0: {'score': 0.6458715720668938, 'zero_count': 10},\n",
       " 1: {'score': 0.77192767936356, 'zero_count': 6},\n",
       " 2: {'score': 0.767228039949551, 'zero_count': 0},\n",
       " 3: {'score': 0.7398267173943907, 'zero_count': 0},\n",
       " 4: {'score': 0.8360930199337169, 'zero_count': 0}}"
      ]
     },
     "execution_count": 12,
     "metadata": {},
     "output_type": "execute_result"
    }
   ],
   "source": [
    "src"
   ]
  },
  {
   "cell_type": "code",
   "execution_count": null,
   "metadata": {},
   "outputs": [],
   "source": []
  }
 ],
 "metadata": {
  "kernelspec": {
   "display_name": "CLDM",
   "language": "python",
   "name": "python3"
  },
  "language_info": {
   "codemirror_mode": {
    "name": "ipython",
    "version": 3
   },
   "file_extension": ".py",
   "mimetype": "text/x-python",
   "name": "python",
   "nbconvert_exporter": "python",
   "pygments_lexer": "ipython3",
   "version": "3.9.19"
  }
 },
 "nbformat": 4,
 "nbformat_minor": 2
}

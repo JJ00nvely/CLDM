{
 "cells": [
  {
   "cell_type": "code",
   "execution_count": 1,
   "metadata": {},
   "outputs": [
    {
     "name": "stderr",
     "output_type": "stream",
     "text": [
      "/workspace/joonsm/anaconda3/envs/CLDM/lib/python3.9/site-packages/tqdm/auto.py:21: TqdmWarning: IProgress not found. Please update jupyter and ipywidgets. See https://ipywidgets.readthedocs.io/en/stable/user_install.html\n",
      "  from .autonotebook import tqdm as notebook_tqdm\n"
     ]
    }
   ],
   "source": [
    "import json\n",
    "import torch\n",
    "import json\n",
    "import os\n",
    "from LayoutDM import CLDM\n",
    "from torch.utils.data import DataLoader\n",
    "from diffusers import DDPMScheduler\n",
    "from PIL import Image\n",
    "import numpy as np\n",
    "from dataset import ImageLayout\n",
    "import gc\n",
    "from tqdm import tqdm"
   ]
  },
  {
   "cell_type": "markdown",
   "metadata": {},
   "source": [
    "## Load Model with Seperate Param dict"
   ]
  },
  {
   "cell_type": "code",
   "execution_count": 2,
   "metadata": {},
   "outputs": [
    {
     "name": "stdout",
     "output_type": "stream",
     "text": [
      "Using device: cuda:5\n"
     ]
    }
   ],
   "source": [
    "device = torch.device('cuda:5' if torch.cuda.is_available() else 'cpu')\n",
    "print(f'Using device: {device}')"
   ]
  },
  {
   "cell_type": "code",
   "execution_count": 4,
   "metadata": {},
   "outputs": [],
   "source": [
    "diffusion = DDPMScheduler(num_train_timesteps=250, prediction_type='sample', clip_sample=True)"
   ]
  },
  {
   "cell_type": "code",
   "execution_count": 3,
   "metadata": {},
   "outputs": [],
   "source": [
    "def seg_loss(predicted_box, sample, zero_count):\n",
    "    src = sample['sr']\n",
    "    src_list = []\n",
    "    \n",
    "    for i in src:\n",
    "        src_ = Image.open(i)\n",
    "        src_list.append(src_)\n",
    "    \n",
    "    box = predicted_box.cpu().numpy()\n",
    "    box = (box + 1) / 2\n",
    "    \n",
    "    match_list = []\n",
    "\n",
    "    for i in range(box.shape[0]):\n",
    "        img = src_list[i]\n",
    "        width, height = img.size\n",
    "        cx, cy, w, h = box[i]\n",
    "        x = int((cx - w / 2) * width)\n",
    "        y = int((cy - h / 2) * height)\n",
    "        x2 = int((cx + w / 2) * width)\n",
    "        y2 = int((cy + h / 2) * height)\n",
    "        boxes = (x, y, x2, y2)\n",
    "        \n",
    "        # 이미지 크롭\n",
    "        crop = img.crop(boxes)\n",
    "        crop = np.array(crop)\n",
    "\n",
    "\n",
    "        if crop.size == 0:\n",
    "            print(f\"Warning: Crop size is zero for box {boxes}.\")\n",
    "            match_list.append(0)  \n",
    "            zero_count+=1\n",
    "            continue\n",
    "        \n",
    "        blue_channel = crop[:, :, 2]\n",
    "        blue_channel_flatten = blue_channel.flatten()\n",
    "        \n",
    "\n",
    "        match_pixel_size = np.sum(blue_channel_flatten == 128) / blue_channel_flatten.size\n",
    "        match_list.append(match_pixel_size)\n",
    "    \n",
    "    # NaN 방지를 위해 match_list가 비어 있지 않은지 확인\n",
    "    if len(match_list) == 0:\n",
    "        print(\"Error: All crops have zero size. Returning NaN.\")\n",
    "        return float('nan')\n",
    "    \n",
    "    value = sum(match_list) / len(match_list)\n",
    "    print(value)\n",
    "    return value, zero_count"
   ]
  },
  {
   "cell_type": "markdown",
   "metadata": {},
   "source": [
    "## Load Model with Seperate Param Dict"
   ]
  },
  {
   "cell_type": "code",
   "execution_count": 5,
   "metadata": {},
   "outputs": [],
   "source": [
    "val = ImageLayout(type='val')\n",
    "dataset = DataLoader(val, batch_size=256)"
   ]
  },
  {
   "cell_type": "code",
   "execution_count": 6,
   "metadata": {},
   "outputs": [],
   "source": [
    "epoch =[50,100,150,200,250,300,350,400,450,500]"
   ]
  },
  {
   "cell_type": "code",
   "execution_count": 7,
   "metadata": {},
   "outputs": [
    {
     "name": "stderr",
     "output_type": "stream",
     "text": [
      "  0%|          | 0/9 [00:00<?, ?it/s]"
     ]
    },
    {
     "name": "stdout",
     "output_type": "stream",
     "text": [
      "Warning: Crop size is zero for box (407, 272, 407, 272).\n",
      "Warning: Crop size is zero for box (433, 278, 433, 282).\n",
      "Warning: Crop size is zero for box (371, 280, 371, 286).\n"
     ]
    },
    {
     "name": "stderr",
     "output_type": "stream",
     "text": [
      " 11%|█         | 1/9 [01:42<13:42, 102.81s/it]"
     ]
    },
    {
     "name": "stdout",
     "output_type": "stream",
     "text": [
      "0.3104280299220361\n",
      "3\n",
      "Warning: Crop size is zero for box (489, 283, 506, 283).\n",
      "Warning: Crop size is zero for box (358, 274, 358, 277).\n"
     ]
    },
    {
     "name": "stderr",
     "output_type": "stream",
     "text": [
      " 22%|██▏       | 2/9 [03:27<12:05, 103.69s/it]"
     ]
    },
    {
     "name": "stdout",
     "output_type": "stream",
     "text": [
      "0.24534482550987977\n",
      "5\n"
     ]
    },
    {
     "name": "stderr",
     "output_type": "stream",
     "text": [
      " 33%|███▎      | 3/9 [07:00<15:21, 153.60s/it]"
     ]
    },
    {
     "name": "stdout",
     "output_type": "stream",
     "text": [
      "0.3090861652759628\n",
      "5\n"
     ]
    },
    {
     "name": "stderr",
     "output_type": "stream",
     "text": [
      " 44%|████▍     | 4/9 [10:25<14:31, 174.22s/it]"
     ]
    },
    {
     "name": "stdout",
     "output_type": "stream",
     "text": [
      "0.271743584698855\n",
      "5\n",
      "Warning: Crop size is zero for box (382, 296, 382, 306).\n",
      "Warning: Crop size is zero for box (392, 277, 392, 286).\n"
     ]
    },
    {
     "name": "stderr",
     "output_type": "stream",
     "text": [
      " 56%|█████▌    | 5/9 [15:38<14:56, 224.11s/it]"
     ]
    },
    {
     "name": "stdout",
     "output_type": "stream",
     "text": [
      "0.3137387383284165\n",
      "7\n"
     ]
    },
    {
     "name": "stderr",
     "output_type": "stream",
     "text": [
      " 67%|██████▋   | 6/9 [20:47<12:38, 252.99s/it]"
     ]
    },
    {
     "name": "stdout",
     "output_type": "stream",
     "text": [
      "0.33119956261887834\n",
      "7\n",
      "Warning: Crop size is zero for box (405, 271, 405, 277).\n",
      "0.2659713160260648\n"
     ]
    },
    {
     "name": "stderr",
     "output_type": "stream",
     "text": [
      " 78%|███████▊  | 7/9 [26:02<09:06, 273.23s/it]"
     ]
    },
    {
     "name": "stdout",
     "output_type": "stream",
     "text": [
      "8\n",
      "Warning: Crop size is zero for box (401, 256, 401, 259).\n"
     ]
    },
    {
     "name": "stderr",
     "output_type": "stream",
     "text": [
      " 89%|████████▉ | 8/9 [31:11<04:44, 284.68s/it]"
     ]
    },
    {
     "name": "stdout",
     "output_type": "stream",
     "text": [
      "0.3457719582384782\n",
      "9\n"
     ]
    },
    {
     "name": "stderr",
     "output_type": "stream",
     "text": [
      "100%|██████████| 9/9 [33:40<00:00, 224.52s/it]"
     ]
    },
    {
     "name": "stdout",
     "output_type": "stream",
     "text": [
      "0.3912896419885556\n",
      "9\n"
     ]
    },
    {
     "name": "stderr",
     "output_type": "stream",
     "text": [
      "\n",
      " 11%|█         | 1/9 [05:14<41:54, 314.30s/it]"
     ]
    },
    {
     "name": "stdout",
     "output_type": "stream",
     "text": [
      "0.47509861788060953\n",
      "0\n"
     ]
    },
    {
     "name": "stderr",
     "output_type": "stream",
     "text": [
      " 22%|██▏       | 2/9 [10:29<36:44, 314.93s/it]"
     ]
    },
    {
     "name": "stdout",
     "output_type": "stream",
     "text": [
      "0.4476966377906927\n",
      "0\n"
     ]
    },
    {
     "name": "stderr",
     "output_type": "stream",
     "text": [
      " 33%|███▎      | 3/9 [15:41<31:20, 313.35s/it]"
     ]
    },
    {
     "name": "stdout",
     "output_type": "stream",
     "text": [
      "0.4744161594759754\n",
      "0\n"
     ]
    },
    {
     "name": "stderr",
     "output_type": "stream",
     "text": [
      " 44%|████▍     | 4/9 [20:58<26:14, 315.00s/it]"
     ]
    },
    {
     "name": "stdout",
     "output_type": "stream",
     "text": [
      "0.4348650918194513\n",
      "0\n"
     ]
    },
    {
     "name": "stderr",
     "output_type": "stream",
     "text": [
      " 56%|█████▌    | 5/9 [26:10<20:55, 313.79s/it]"
     ]
    },
    {
     "name": "stdout",
     "output_type": "stream",
     "text": [
      "0.4733996354687169\n",
      "0\n"
     ]
    },
    {
     "name": "stderr",
     "output_type": "stream",
     "text": [
      " 67%|██████▋   | 6/9 [31:24<15:42, 314.09s/it]"
     ]
    },
    {
     "name": "stdout",
     "output_type": "stream",
     "text": [
      "0.447535119338585\n",
      "0\n"
     ]
    },
    {
     "name": "stderr",
     "output_type": "stream",
     "text": [
      " 78%|███████▊  | 7/9 [36:39<10:28, 314.31s/it]"
     ]
    },
    {
     "name": "stdout",
     "output_type": "stream",
     "text": [
      "0.4682645970257384\n",
      "0\n"
     ]
    },
    {
     "name": "stderr",
     "output_type": "stream",
     "text": [
      " 89%|████████▉ | 8/9 [41:54<05:14, 314.57s/it]"
     ]
    },
    {
     "name": "stdout",
     "output_type": "stream",
     "text": [
      "0.3662558725231278\n",
      "0\n"
     ]
    },
    {
     "name": "stderr",
     "output_type": "stream",
     "text": [
      "100%|██████████| 9/9 [44:21<00:00, 295.73s/it]"
     ]
    },
    {
     "name": "stdout",
     "output_type": "stream",
     "text": [
      "0.18601917521562333\n",
      "0\n"
     ]
    },
    {
     "name": "stderr",
     "output_type": "stream",
     "text": [
      "\n",
      " 11%|█         | 1/9 [05:17<42:19, 317.46s/it]"
     ]
    },
    {
     "name": "stdout",
     "output_type": "stream",
     "text": [
      "0.42099564011685836\n",
      "0\n"
     ]
    },
    {
     "name": "stderr",
     "output_type": "stream",
     "text": [
      " 22%|██▏       | 2/9 [10:34<37:01, 317.31s/it]"
     ]
    },
    {
     "name": "stdout",
     "output_type": "stream",
     "text": [
      "0.3585371541498864\n",
      "0\n"
     ]
    },
    {
     "name": "stderr",
     "output_type": "stream",
     "text": [
      " 33%|███▎      | 3/9 [15:52<31:44, 317.48s/it]"
     ]
    },
    {
     "name": "stdout",
     "output_type": "stream",
     "text": [
      "0.4034783932790318\n",
      "0\n"
     ]
    },
    {
     "name": "stderr",
     "output_type": "stream",
     "text": [
      " 44%|████▍     | 4/9 [21:11<26:30, 318.16s/it]"
     ]
    },
    {
     "name": "stdout",
     "output_type": "stream",
     "text": [
      "0.39744907762938875\n",
      "0\n"
     ]
    },
    {
     "name": "stderr",
     "output_type": "stream",
     "text": [
      " 56%|█████▌    | 5/9 [26:31<21:14, 318.63s/it]"
     ]
    },
    {
     "name": "stdout",
     "output_type": "stream",
     "text": [
      "0.4218897083505425\n",
      "0\n"
     ]
    },
    {
     "name": "stderr",
     "output_type": "stream",
     "text": [
      " 67%|██████▋   | 6/9 [31:47<15:53, 317.83s/it]"
     ]
    },
    {
     "name": "stdout",
     "output_type": "stream",
     "text": [
      "0.3490201139827277\n",
      "0\n"
     ]
    },
    {
     "name": "stderr",
     "output_type": "stream",
     "text": [
      " 78%|███████▊  | 7/9 [37:10<10:38, 319.43s/it]"
     ]
    },
    {
     "name": "stdout",
     "output_type": "stream",
     "text": [
      "0.4168542910307083\n",
      "0\n"
     ]
    },
    {
     "name": "stderr",
     "output_type": "stream",
     "text": [
      " 89%|████████▉ | 8/9 [42:26<05:18, 318.47s/it]"
     ]
    },
    {
     "name": "stdout",
     "output_type": "stream",
     "text": [
      "0.3622822011771834\n",
      "0\n"
     ]
    },
    {
     "name": "stderr",
     "output_type": "stream",
     "text": [
      "100%|██████████| 9/9 [44:59<00:00, 299.89s/it]"
     ]
    },
    {
     "name": "stdout",
     "output_type": "stream",
     "text": [
      "0.3133703441199627\n",
      "0\n"
     ]
    },
    {
     "name": "stderr",
     "output_type": "stream",
     "text": [
      "\n",
      "  0%|          | 0/9 [00:00<?, ?it/s]"
     ]
    },
    {
     "name": "stdout",
     "output_type": "stream",
     "text": [
      "Warning: Crop size is zero for box (347, 247, 359, 247).\n",
      "Warning: Crop size is zero for box (396, 273, 396, 275).\n",
      "Warning: Crop size is zero for box (420, 263, 420, 266).\n",
      "Warning: Crop size is zero for box (392, 291, 392, 297).\n"
     ]
    },
    {
     "name": "stderr",
     "output_type": "stream",
     "text": [
      " 11%|█         | 1/9 [05:23<43:05, 323.20s/it]"
     ]
    },
    {
     "name": "stdout",
     "output_type": "stream",
     "text": [
      "0.3859369586407576\n",
      "4\n"
     ]
    },
    {
     "name": "stderr",
     "output_type": "stream",
     "text": [
      " 22%|██▏       | 2/9 [10:46<37:43, 323.34s/it]"
     ]
    },
    {
     "name": "stdout",
     "output_type": "stream",
     "text": [
      "0.48320322958961553\n",
      "4\n",
      "Warning: Crop size is zero for box (409, 271, 418, 271).\n"
     ]
    },
    {
     "name": "stderr",
     "output_type": "stream",
     "text": [
      " 33%|███▎      | 3/9 [16:06<32:11, 321.89s/it]"
     ]
    },
    {
     "name": "stdout",
     "output_type": "stream",
     "text": [
      "0.46389580528580415\n",
      "5\n",
      "Warning: Crop size is zero for box (266, 298, 281, 298).\n"
     ]
    },
    {
     "name": "stderr",
     "output_type": "stream",
     "text": [
      " 44%|████▍     | 4/9 [21:29<26:51, 322.33s/it]"
     ]
    },
    {
     "name": "stdout",
     "output_type": "stream",
     "text": [
      "0.5073851197168262\n",
      "6\n"
     ]
    },
    {
     "name": "stderr",
     "output_type": "stream",
     "text": [
      " 56%|█████▌    | 5/9 [26:52<21:30, 322.62s/it]"
     ]
    },
    {
     "name": "stdout",
     "output_type": "stream",
     "text": [
      "0.49603939562323995\n",
      "6\n",
      "Warning: Crop size is zero for box (365, 261, 371, 261).\n",
      "Warning: Crop size is zero for box (392, 259, 402, 259).\n"
     ]
    },
    {
     "name": "stderr",
     "output_type": "stream",
     "text": [
      " 67%|██████▋   | 6/9 [32:16<16:08, 323.00s/it]"
     ]
    },
    {
     "name": "stdout",
     "output_type": "stream",
     "text": [
      "0.4645767183370223\n",
      "8\n",
      "Warning: Crop size is zero for box (323, 296, 323, 298).\n"
     ]
    },
    {
     "name": "stderr",
     "output_type": "stream",
     "text": [
      " 78%|███████▊  | 7/9 [37:34<10:42, 321.46s/it]"
     ]
    },
    {
     "name": "stdout",
     "output_type": "stream",
     "text": [
      "Warning: Crop size is zero for box (332, 270, 340, 270).\n",
      "0.46284015576484855\n",
      "10\n",
      "Warning: Crop size is zero for box (399, 289, 399, 292).\n"
     ]
    },
    {
     "name": "stderr",
     "output_type": "stream",
     "text": [
      " 89%|████████▉ | 8/9 [43:01<05:22, 322.95s/it]"
     ]
    },
    {
     "name": "stdout",
     "output_type": "stream",
     "text": [
      "0.31324421904979827\n",
      "11\n"
     ]
    },
    {
     "name": "stderr",
     "output_type": "stream",
     "text": [
      "100%|██████████| 9/9 [45:30<00:00, 303.35s/it]"
     ]
    },
    {
     "name": "stdout",
     "output_type": "stream",
     "text": [
      "0.23435695245324473\n",
      "11\n"
     ]
    },
    {
     "name": "stderr",
     "output_type": "stream",
     "text": [
      "\n",
      " 11%|█         | 1/9 [05:16<42:14, 316.86s/it]"
     ]
    },
    {
     "name": "stdout",
     "output_type": "stream",
     "text": [
      "0.18298570152593407\n",
      "0\n",
      "Warning: Crop size is zero for box (444, 263, 465, 263).\n"
     ]
    },
    {
     "name": "stderr",
     "output_type": "stream",
     "text": [
      " 22%|██▏       | 2/9 [10:36<37:09, 318.51s/it]"
     ]
    },
    {
     "name": "stdout",
     "output_type": "stream",
     "text": [
      "0.13639918742912657\n",
      "1\n"
     ]
    },
    {
     "name": "stderr",
     "output_type": "stream",
     "text": [
      " 33%|███▎      | 3/9 [15:55<31:52, 318.80s/it]"
     ]
    },
    {
     "name": "stdout",
     "output_type": "stream",
     "text": [
      "0.16445437214985276\n",
      "1\n"
     ]
    },
    {
     "name": "stderr",
     "output_type": "stream",
     "text": [
      " 44%|████▍     | 4/9 [21:12<26:29, 317.88s/it]"
     ]
    },
    {
     "name": "stdout",
     "output_type": "stream",
     "text": [
      "0.15868652663198837\n",
      "1\n",
      "Warning: Crop size is zero for box (440, 266, 447, 266).\n",
      "Warning: Crop size is zero for box (464, 268, 474, 268).\n"
     ]
    },
    {
     "name": "stderr",
     "output_type": "stream",
     "text": [
      " 56%|█████▌    | 5/9 [26:34<21:17, 319.48s/it]"
     ]
    },
    {
     "name": "stdout",
     "output_type": "stream",
     "text": [
      "0.2161375219316468\n",
      "3\n"
     ]
    },
    {
     "name": "stderr",
     "output_type": "stream",
     "text": [
      " 67%|██████▋   | 6/9 [31:50<15:55, 318.47s/it]"
     ]
    },
    {
     "name": "stdout",
     "output_type": "stream",
     "text": [
      "0.1185071370896285\n",
      "3\n"
     ]
    },
    {
     "name": "stderr",
     "output_type": "stream",
     "text": [
      " 78%|███████▊  | 7/9 [37:10<10:37, 318.73s/it]"
     ]
    },
    {
     "name": "stdout",
     "output_type": "stream",
     "text": [
      "0.20258022529719075\n",
      "3\n"
     ]
    },
    {
     "name": "stderr",
     "output_type": "stream",
     "text": [
      " 89%|████████▉ | 8/9 [42:29<05:18, 318.96s/it]"
     ]
    },
    {
     "name": "stdout",
     "output_type": "stream",
     "text": [
      "0.38898653758107515\n",
      "3\n"
     ]
    },
    {
     "name": "stderr",
     "output_type": "stream",
     "text": [
      "100%|██████████| 9/9 [45:02<00:00, 300.25s/it]"
     ]
    },
    {
     "name": "stdout",
     "output_type": "stream",
     "text": [
      "0.4177192871575171\n",
      "3\n"
     ]
    },
    {
     "name": "stderr",
     "output_type": "stream",
     "text": [
      "\n",
      "  0%|          | 0/9 [00:00<?, ?it/s]"
     ]
    },
    {
     "name": "stdout",
     "output_type": "stream",
     "text": [
      "Warning: Crop size is zero for box (394, 281, 394, 289).\n",
      "Warning: Crop size is zero for box (491, 260, 507, 260).\n"
     ]
    },
    {
     "name": "stderr",
     "output_type": "stream",
     "text": [
      " 11%|█         | 1/9 [05:11<41:33, 311.69s/it]"
     ]
    },
    {
     "name": "stdout",
     "output_type": "stream",
     "text": [
      "0.28771420691571287\n",
      "2\n",
      "Warning: Crop size is zero for box (416, 277, 416, 284).\n",
      "Warning: Crop size is zero for box (408, 285, 408, 290).\n",
      "Warning: Crop size is zero for box (378, 290, 378, 294).\n",
      "Warning: Crop size is zero for box (412, 276, 412, 282).\n",
      "Warning: Crop size is zero for box (419, 281, 419, 288).\n"
     ]
    },
    {
     "name": "stderr",
     "output_type": "stream",
     "text": [
      " 22%|██▏       | 2/9 [10:26<36:33, 313.39s/it]"
     ]
    },
    {
     "name": "stdout",
     "output_type": "stream",
     "text": [
      "0.2655054502370157\n",
      "7\n",
      "Warning: Crop size is zero for box (435, 274, 435, 282).\n",
      "Warning: Crop size is zero for box (444, 261, 446, 261).\n",
      "Warning: Crop size is zero for box (382, 265, 382, 275).\n"
     ]
    },
    {
     "name": "stderr",
     "output_type": "stream",
     "text": [
      " 33%|███▎      | 3/9 [15:40<31:23, 313.93s/it]"
     ]
    },
    {
     "name": "stdout",
     "output_type": "stream",
     "text": [
      "0.2851135696052294\n",
      "10\n",
      "Warning: Crop size is zero for box (414, 267, 414, 278).\n",
      "Warning: Crop size is zero for box (338, 289, 338, 295).\n"
     ]
    },
    {
     "name": "stderr",
     "output_type": "stream",
     "text": [
      " 44%|████▍     | 4/9 [20:56<26:12, 314.42s/it]"
     ]
    },
    {
     "name": "stdout",
     "output_type": "stream",
     "text": [
      "0.24878294287235192\n",
      "12\n",
      "Warning: Crop size is zero for box (412, 292, 412, 298).\n",
      "Warning: Crop size is zero for box (416, 281, 416, 282).\n"
     ]
    },
    {
     "name": "stderr",
     "output_type": "stream",
     "text": [
      " 56%|█████▌    | 5/9 [26:05<20:50, 312.55s/it]"
     ]
    },
    {
     "name": "stdout",
     "output_type": "stream",
     "text": [
      "0.29809780448547024\n",
      "14\n",
      "Warning: Crop size is zero for box (448, 291, 448, 299).\n"
     ]
    },
    {
     "name": "stderr",
     "output_type": "stream",
     "text": [
      " 67%|██████▋   | 6/9 [31:22<15:42, 314.24s/it]"
     ]
    },
    {
     "name": "stdout",
     "output_type": "stream",
     "text": [
      "0.3244971314248172\n",
      "15\n"
     ]
    },
    {
     "name": "stderr",
     "output_type": "stream",
     "text": [
      " 78%|███████▊  | 7/9 [36:33<10:26, 313.20s/it]"
     ]
    },
    {
     "name": "stdout",
     "output_type": "stream",
     "text": [
      "0.2794524018440588\n",
      "15\n",
      "Warning: Crop size is zero for box (425, 283, 425, 290).\n"
     ]
    },
    {
     "name": "stderr",
     "output_type": "stream",
     "text": [
      " 89%|████████▉ | 8/9 [41:47<05:13, 313.41s/it]"
     ]
    },
    {
     "name": "stdout",
     "output_type": "stream",
     "text": [
      "0.44602016452964927\n",
      "16\n",
      "Warning: Crop size is zero for box (379, 300, 379, 305).\n",
      "Warning: Crop size is zero for box (411, 276, 411, 281).\n"
     ]
    },
    {
     "name": "stderr",
     "output_type": "stream",
     "text": [
      "100%|██████████| 9/9 [44:15<00:00, 295.02s/it]"
     ]
    },
    {
     "name": "stdout",
     "output_type": "stream",
     "text": [
      "0.388015679349415\n",
      "18\n"
     ]
    },
    {
     "name": "stderr",
     "output_type": "stream",
     "text": [
      "\n",
      "  0%|          | 0/9 [00:00<?, ?it/s]"
     ]
    },
    {
     "name": "stdout",
     "output_type": "stream",
     "text": [
      "Warning: Crop size is zero for box (407, 275, 407, 285).\n",
      "Warning: Crop size is zero for box (402, 279, 402, 283).\n",
      "Warning: Crop size is zero for box (413, 294, 413, 299).\n"
     ]
    },
    {
     "name": "stderr",
     "output_type": "stream",
     "text": [
      " 11%|█         | 1/9 [05:24<43:13, 324.21s/it]"
     ]
    },
    {
     "name": "stdout",
     "output_type": "stream",
     "text": [
      "0.4204906595829496\n",
      "3\n",
      "Warning: Crop size is zero for box (388, 290, 388, 297).\n",
      "Warning: Crop size is zero for box (415, 292, 415, 299).\n",
      "Warning: Crop size is zero for box (417, 300, 417, 305).\n",
      "Warning: Crop size is zero for box (413, 287, 413, 290).\n",
      "Warning: Crop size is zero for box (432, 288, 432, 294).\n",
      "Warning: Crop size is zero for box (448, 281, 448, 284).\n",
      "Warning: Crop size is zero for box (417, 298, 417, 308).\n",
      "Warning: Crop size is zero for box (411, 265, 412, 265).\n",
      "Warning: Crop size is zero for box (447, 275, 447, 276).\n"
     ]
    },
    {
     "name": "stderr",
     "output_type": "stream",
     "text": [
      " 22%|██▏       | 2/9 [10:48<37:50, 324.38s/it]"
     ]
    },
    {
     "name": "stdout",
     "output_type": "stream",
     "text": [
      "0.3765165324248293\n",
      "12\n",
      "Warning: Crop size is zero for box (434, 284, 434, 288).\n",
      "Warning: Crop size is zero for box (412, 287, 412, 291).\n",
      "Warning: Crop size is zero for box (416, 282, 416, 287).\n",
      "Warning: Crop size is zero for box (400, 279, 400, 283).\n",
      "Warning: Crop size is zero for box (445, 280, 445, 283).\n",
      "Warning: Crop size is zero for box (435, 284, 435, 288).\n"
     ]
    },
    {
     "name": "stderr",
     "output_type": "stream",
     "text": [
      " 33%|███▎      | 3/9 [16:13<32:27, 324.53s/it]"
     ]
    },
    {
     "name": "stdout",
     "output_type": "stream",
     "text": [
      "0.4585153059918615\n",
      "18\n",
      "Warning: Crop size is zero for box (426, 286, 426, 293).\n",
      "Warning: Crop size is zero for box (413, 286, 413, 293).\n",
      "Warning: Crop size is zero for box (364, 298, 364, 303).\n"
     ]
    },
    {
     "name": "stderr",
     "output_type": "stream",
     "text": [
      " 44%|████▍     | 4/9 [21:35<26:57, 323.50s/it]"
     ]
    },
    {
     "name": "stdout",
     "output_type": "stream",
     "text": [
      "0.44973617897015267\n",
      "21\n",
      "Warning: Crop size is zero for box (407, 287, 407, 290).\n",
      "Warning: Crop size is zero for box (437, 284, 437, 287).\n"
     ]
    },
    {
     "name": "stderr",
     "output_type": "stream",
     "text": [
      " 56%|█████▌    | 5/9 [26:59<21:35, 323.85s/it]"
     ]
    },
    {
     "name": "stdout",
     "output_type": "stream",
     "text": [
      "0.4756014007110805\n",
      "23\n",
      "Warning: Crop size is zero for box (418, 289, 418, 292).\n",
      "Warning: Crop size is zero for box (415, 295, 415, 298).\n",
      "Warning: Crop size is zero for box (407, 280, 407, 281).\n",
      "Warning: Crop size is zero for box (413, 293, 413, 299).\n",
      "Warning: Crop size is zero for box (394, 290, 394, 298).\n",
      "Warning: Crop size is zero for box (387, 286, 387, 293).\n"
     ]
    },
    {
     "name": "stderr",
     "output_type": "stream",
     "text": [
      " 67%|██████▋   | 6/9 [32:24<16:12, 324.01s/it]"
     ]
    },
    {
     "name": "stdout",
     "output_type": "stream",
     "text": [
      "0.4649200763500673\n",
      "29\n",
      "Warning: Crop size is zero for box (409, 292, 409, 299).\n",
      "Warning: Crop size is zero for box (422, 289, 422, 296).\n",
      "Warning: Crop size is zero for box (405, 292, 405, 295).\n"
     ]
    },
    {
     "name": "stderr",
     "output_type": "stream",
     "text": [
      " 78%|███████▊  | 7/9 [37:48<10:48, 324.26s/it]"
     ]
    },
    {
     "name": "stdout",
     "output_type": "stream",
     "text": [
      "0.421651826612726\n",
      "32\n",
      "Warning: Crop size is zero for box (409, 300, 409, 304).\n",
      "Warning: Crop size is zero for box (416, 297, 416, 302).\n",
      "Warning: Crop size is zero for box (380, 310, 380, 317).\n"
     ]
    },
    {
     "name": "stderr",
     "output_type": "stream",
     "text": [
      " 89%|████████▉ | 8/9 [43:13<05:24, 324.43s/it]"
     ]
    },
    {
     "name": "stdout",
     "output_type": "stream",
     "text": [
      "0.4251353102799296\n",
      "35\n"
     ]
    },
    {
     "name": "stderr",
     "output_type": "stream",
     "text": [
      "100%|██████████| 9/9 [45:46<00:00, 305.13s/it]"
     ]
    },
    {
     "name": "stdout",
     "output_type": "stream",
     "text": [
      "0.3910933793835847\n",
      "35\n"
     ]
    },
    {
     "name": "stderr",
     "output_type": "stream",
     "text": [
      "\n",
      " 11%|█         | 1/9 [05:16<42:12, 316.52s/it]"
     ]
    },
    {
     "name": "stdout",
     "output_type": "stream",
     "text": [
      "0.5219199729026822\n",
      "0\n"
     ]
    },
    {
     "name": "stderr",
     "output_type": "stream",
     "text": [
      " 22%|██▏       | 2/9 [10:33<36:58, 316.88s/it]"
     ]
    },
    {
     "name": "stdout",
     "output_type": "stream",
     "text": [
      "0.5295901497805284\n",
      "0\n",
      "Warning: Crop size is zero for box (390, 290, 390, 298).\n"
     ]
    },
    {
     "name": "stderr",
     "output_type": "stream",
     "text": [
      " 33%|███▎      | 3/9 [15:45<31:27, 314.51s/it]"
     ]
    },
    {
     "name": "stdout",
     "output_type": "stream",
     "text": [
      "0.5627610308450554\n",
      "1\n",
      "Warning: Crop size is zero for box (376, 287, 376, 296).\n",
      "Warning: Crop size is zero for box (350, 299, 350, 305).\n"
     ]
    },
    {
     "name": "stderr",
     "output_type": "stream",
     "text": [
      " 44%|████▍     | 4/9 [21:04<26:22, 316.46s/it]"
     ]
    },
    {
     "name": "stdout",
     "output_type": "stream",
     "text": [
      "0.5775253091101801\n",
      "3\n",
      "Warning: Crop size is zero for box (421, 291, 421, 298).\n",
      "Warning: Crop size is zero for box (369, 284, 369, 287).\n"
     ]
    },
    {
     "name": "stderr",
     "output_type": "stream",
     "text": [
      " 56%|█████▌    | 5/9 [26:14<20:56, 314.08s/it]"
     ]
    },
    {
     "name": "stdout",
     "output_type": "stream",
     "text": [
      "0.5877303670991939\n",
      "5\n"
     ]
    },
    {
     "name": "stderr",
     "output_type": "stream",
     "text": [
      " 67%|██████▋   | 6/9 [31:34<15:47, 315.93s/it]"
     ]
    },
    {
     "name": "stdout",
     "output_type": "stream",
     "text": [
      "0.5353524513562563\n",
      "5\n",
      "Warning: Crop size is zero for box (385, 287, 385, 294).\n"
     ]
    },
    {
     "name": "stderr",
     "output_type": "stream",
     "text": [
      " 78%|███████▊  | 7/9 [36:48<10:30, 315.36s/it]"
     ]
    },
    {
     "name": "stdout",
     "output_type": "stream",
     "text": [
      "0.5440748562687371\n",
      "6\n",
      "Warning: Crop size is zero for box (399, 302, 399, 310).\n",
      "Warning: Crop size is zero for box (402, 292, 402, 296).\n",
      "Warning: Crop size is zero for box (392, 286, 392, 291).\n",
      "Warning: Crop size is zero for box (415, 295, 415, 307).\n"
     ]
    },
    {
     "name": "stderr",
     "output_type": "stream",
     "text": [
      " 89%|████████▉ | 8/9 [42:05<05:15, 316.00s/it]"
     ]
    },
    {
     "name": "stdout",
     "output_type": "stream",
     "text": [
      "0.5622864804485738\n",
      "10\n"
     ]
    },
    {
     "name": "stderr",
     "output_type": "stream",
     "text": [
      "100%|██████████| 9/9 [44:37<00:00, 297.46s/it]"
     ]
    },
    {
     "name": "stdout",
     "output_type": "stream",
     "text": [
      "0.4835903203651347\n",
      "10\n"
     ]
    },
    {
     "name": "stderr",
     "output_type": "stream",
     "text": [
      "\n",
      " 11%|█         | 1/9 [05:21<42:54, 321.82s/it]"
     ]
    },
    {
     "name": "stdout",
     "output_type": "stream",
     "text": [
      "0.5232510667356967\n",
      "0\n"
     ]
    },
    {
     "name": "stderr",
     "output_type": "stream",
     "text": [
      " 22%|██▏       | 2/9 [10:40<37:18, 319.72s/it]"
     ]
    },
    {
     "name": "stdout",
     "output_type": "stream",
     "text": [
      "0.4277935906191279\n",
      "0\n"
     ]
    },
    {
     "name": "stderr",
     "output_type": "stream",
     "text": [
      " 33%|███▎      | 3/9 [16:01<32:01, 320.29s/it]"
     ]
    },
    {
     "name": "stdout",
     "output_type": "stream",
     "text": [
      "0.5391247885767612\n",
      "0\n"
     ]
    },
    {
     "name": "stderr",
     "output_type": "stream",
     "text": [
      " 44%|████▍     | 4/9 [21:22<26:43, 320.60s/it]"
     ]
    },
    {
     "name": "stdout",
     "output_type": "stream",
     "text": [
      "0.5397740815463319\n",
      "0\n"
     ]
    },
    {
     "name": "stderr",
     "output_type": "stream",
     "text": [
      " 56%|█████▌    | 5/9 [26:43<21:23, 320.76s/it]"
     ]
    },
    {
     "name": "stdout",
     "output_type": "stream",
     "text": [
      "0.48344349320085317\n",
      "0\n"
     ]
    },
    {
     "name": "stderr",
     "output_type": "stream",
     "text": [
      " 67%|██████▋   | 6/9 [32:04<16:02, 320.89s/it]"
     ]
    },
    {
     "name": "stdout",
     "output_type": "stream",
     "text": [
      "0.47961641706701225\n",
      "0\n"
     ]
    },
    {
     "name": "stderr",
     "output_type": "stream",
     "text": [
      " 78%|███████▊  | 7/9 [37:25<10:41, 320.84s/it]"
     ]
    },
    {
     "name": "stdout",
     "output_type": "stream",
     "text": [
      "0.49687659344760376\n",
      "0\n"
     ]
    },
    {
     "name": "stderr",
     "output_type": "stream",
     "text": [
      " 89%|████████▉ | 8/9 [42:46<05:20, 320.99s/it]"
     ]
    },
    {
     "name": "stdout",
     "output_type": "stream",
     "text": [
      "0.5024776363846384\n",
      "0\n"
     ]
    },
    {
     "name": "stderr",
     "output_type": "stream",
     "text": [
      "100%|██████████| 9/9 [45:17<00:00, 301.95s/it]"
     ]
    },
    {
     "name": "stdout",
     "output_type": "stream",
     "text": [
      "0.28755630633211793\n",
      "0\n"
     ]
    },
    {
     "name": "stderr",
     "output_type": "stream",
     "text": [
      "\n",
      " 11%|█         | 1/9 [05:08<41:08, 308.54s/it]"
     ]
    },
    {
     "name": "stdout",
     "output_type": "stream",
     "text": [
      "0.5758247227186912\n",
      "0\n"
     ]
    },
    {
     "name": "stderr",
     "output_type": "stream",
     "text": [
      " 22%|██▏       | 2/9 [10:25<36:34, 313.53s/it]"
     ]
    },
    {
     "name": "stdout",
     "output_type": "stream",
     "text": [
      "0.4959273199092962\n",
      "0\n"
     ]
    },
    {
     "name": "stderr",
     "output_type": "stream",
     "text": [
      " 33%|███▎      | 3/9 [15:37<31:15, 312.61s/it]"
     ]
    },
    {
     "name": "stdout",
     "output_type": "stream",
     "text": [
      "0.541704970975854\n",
      "0\n"
     ]
    },
    {
     "name": "stderr",
     "output_type": "stream",
     "text": [
      " 44%|████▍     | 4/9 [20:49<26:03, 312.69s/it]"
     ]
    },
    {
     "name": "stdout",
     "output_type": "stream",
     "text": [
      "0.5012515095734907\n",
      "0\n"
     ]
    },
    {
     "name": "stderr",
     "output_type": "stream",
     "text": [
      " 56%|█████▌    | 5/9 [26:01<20:49, 312.44s/it]"
     ]
    },
    {
     "name": "stdout",
     "output_type": "stream",
     "text": [
      "0.4892898392575362\n",
      "0\n"
     ]
    },
    {
     "name": "stderr",
     "output_type": "stream",
     "text": [
      " 67%|██████▋   | 6/9 [31:16<15:39, 313.24s/it]"
     ]
    },
    {
     "name": "stdout",
     "output_type": "stream",
     "text": [
      "0.5636140246548162\n",
      "0\n"
     ]
    },
    {
     "name": "stderr",
     "output_type": "stream",
     "text": [
      " 78%|███████▊  | 7/9 [36:31<10:27, 313.69s/it]"
     ]
    },
    {
     "name": "stdout",
     "output_type": "stream",
     "text": [
      "0.5099135689968932\n",
      "0\n",
      "Warning: Crop size is zero for box (412, 299, 412, 308).\n",
      "Warning: Crop size is zero for box (409, 300, 409, 310).\n"
     ]
    },
    {
     "name": "stderr",
     "output_type": "stream",
     "text": [
      " 89%|████████▉ | 8/9 [41:46<05:14, 314.15s/it]"
     ]
    },
    {
     "name": "stdout",
     "output_type": "stream",
     "text": [
      "0.5458432240683982\n",
      "2\n"
     ]
    },
    {
     "name": "stderr",
     "output_type": "stream",
     "text": [
      "100%|██████████| 9/9 [44:14<00:00, 294.92s/it]"
     ]
    },
    {
     "name": "stdout",
     "output_type": "stream",
     "text": [
      "0.2582441341849833\n",
      "2\n"
     ]
    },
    {
     "name": "stderr",
     "output_type": "stream",
     "text": [
      "\n"
     ]
    }
   ],
   "source": [
    "src={}\n",
    "for index,value in enumerate(epoch):\n",
    "    save_path = f\"/workspace/joonsm/City_Layout/log_dir/FPN[18]_freeze/checkpoints/checkpoint-{value}/pytorch_model.bin\"\n",
    "    model = CLDM(use_temp=False,backbone_name='resnet18')\n",
    "    model.load_state_dict(torch.load(save_path, map_location=device))\n",
    "    model = model.to(device)\n",
    "    model.eval()\n",
    "    zero_count = 0\n",
    "    batch_value = []\n",
    "    step = 0\n",
    "    with torch.no_grad():\n",
    "        for step,batch in tqdm(enumerate(dataset), total=len(dataset)):\n",
    "            shape = batch['box'].shape\n",
    "            noisy_batch = {'image':batch['image'].to(device),\n",
    "                    'box': torch.rand(*shape, dtype=torch.float32, device=device)}\n",
    "            for i in range(250)[::-1]:\n",
    "                t = torch.tensor([i]*shape[0], device=device)\n",
    "                with torch.no_grad():\n",
    "                    noise_pred = model(noisy_batch, timesteps=t)\n",
    "                    bbox_pred = diffusion.step(noise_pred, t[0].detach().item(),  noisy_batch['box'], return_dict=True)\n",
    "                    noisy_batch['box'] = bbox_pred.prev_sample\n",
    "            predicted = bbox_pred.prev_sample\n",
    "            value,zero_count = seg_loss(predicted, batch,zero_count)\n",
    "            print(zero_count)\n",
    "            batch_value.append(value)\n",
    "            step +=1 \n",
    "\n",
    "        final = sum(batch_value)/step\n",
    "        src[index]={'score': final, 'zero_count':zero_count}\n",
    "    del model\n",
    "    gc.collect()"
   ]
  },
  {
   "cell_type": "code",
   "execution_count": 8,
   "metadata": {},
   "outputs": [
    {
     "data": {
      "text/plain": [
       "{0: {'score': 0.3093970914007919, 'zero_count': 9},\n",
       " 1: {'score': 0.4192834340598356, 'zero_count': 0},\n",
       " 2: {'score': 0.38265299153736554, 'zero_count': 0},\n",
       " 3: {'score': 0.42349761716235085, 'zero_count': 11},\n",
       " 4: {'score': 0.2207173885326622, 'zero_count': 3},\n",
       " 5: {'score': 0.31368881680708, 'zero_count': 18},\n",
       " 6: {'score': 0.4315178522563535, 'zero_count': 35},\n",
       " 7: {'score': 0.544981215352927, 'zero_count': 10},\n",
       " 8: {'score': 0.47554599710112705, 'zero_count': 0},\n",
       " 9: {'score': 0.4979570349266622, 'zero_count': 2}}"
      ]
     },
     "execution_count": 8,
     "metadata": {},
     "output_type": "execute_result"
    }
   ],
   "source": [
    "src"
   ]
  }
 ],
 "metadata": {
  "kernelspec": {
   "display_name": "CLDM",
   "language": "python",
   "name": "python3"
  },
  "language_info": {
   "codemirror_mode": {
    "name": "ipython",
    "version": 3
   },
   "file_extension": ".py",
   "mimetype": "text/x-python",
   "name": "python",
   "nbconvert_exporter": "python",
   "pygments_lexer": "ipython3",
   "version": "3.9.19"
  }
 },
 "nbformat": 4,
 "nbformat_minor": 2
}

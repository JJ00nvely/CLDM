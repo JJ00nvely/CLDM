{
 "cells": [
  {
   "cell_type": "code",
   "execution_count": 4,
   "metadata": {},
   "outputs": [],
   "source": [
    "import json\n",
    "import torch\n",
    "import json\n",
    "import os\n",
    "from LayoutDM import CLDM\n",
    "from torch.utils.data import Dataset, DataLoader\n",
    "from diffusers import DDPMScheduler\n",
    "from PIL import Image\n",
    "import numpy as np"
   ]
  },
  {
   "cell_type": "code",
   "execution_count": 5,
   "metadata": {},
   "outputs": [],
   "source": [
    "diffusion = DDPMScheduler()"
   ]
  },
  {
   "cell_type": "code",
   "execution_count": 6,
   "metadata": {},
   "outputs": [],
   "source": [
    "device = f\"cuda:{5}\" if torch.cuda.is_available() else \"cpu\""
   ]
  },
  {
   "cell_type": "markdown",
   "metadata": {},
   "source": [
    "## Load Model with Seperate Param dict"
   ]
  },
  {
   "cell_type": "code",
   "execution_count": 7,
   "metadata": {},
   "outputs": [
    {
     "ename": "RuntimeError",
     "evalue": "Error(s) in loading state_dict for CLDM:\n\tMissing key(s) in state_dict: \"transformer.encoder.layers.0.temp_attention.q_fc.weight\", \"transformer.encoder.layers.0.temp_attention.q_fc.bias\", \"transformer.encoder.layers.0.temp_attention.k_fc.weight\", \"transformer.encoder.layers.0.temp_attention.k_fc.bias\", \"transformer.encoder.layers.0.temp_attention.v_fc.weight\", \"transformer.encoder.layers.0.temp_attention.v_fc.bias\", \"transformer.encoder.layers.0.temp_attention.out_fc.weight\", \"transformer.encoder.layers.0.temp_attention.out_fc.bias\", \"transformer.encoder.layers.0.residual3.norm.weight\", \"transformer.encoder.layers.0.residual3.norm.bias\", \"transformer.encoder.layers.1.temp_attention.q_fc.weight\", \"transformer.encoder.layers.1.temp_attention.q_fc.bias\", \"transformer.encoder.layers.1.temp_attention.k_fc.weight\", \"transformer.encoder.layers.1.temp_attention.k_fc.bias\", \"transformer.encoder.layers.1.temp_attention.v_fc.weight\", \"transformer.encoder.layers.1.temp_attention.v_fc.bias\", \"transformer.encoder.layers.1.temp_attention.out_fc.weight\", \"transformer.encoder.layers.1.temp_attention.out_fc.bias\", \"transformer.encoder.layers.1.residual3.norm.weight\", \"transformer.encoder.layers.1.residual3.norm.bias\", \"transformer.encoder.layers.2.temp_attention.q_fc.weight\", \"transformer.encoder.layers.2.temp_attention.q_fc.bias\", \"transformer.encoder.layers.2.temp_attention.k_fc.weight\", \"transformer.encoder.layers.2.temp_attention.k_fc.bias\", \"transformer.encoder.layers.2.temp_attention.v_fc.weight\", \"transformer.encoder.layers.2.temp_attention.v_fc.bias\", \"transformer.encoder.layers.2.temp_attention.out_fc.weight\", \"transformer.encoder.layers.2.temp_attention.out_fc.bias\", \"transformer.encoder.layers.2.residual3.norm.weight\", \"transformer.encoder.layers.2.residual3.norm.bias\", \"transformer.encoder.layers.3.temp_attention.q_fc.weight\", \"transformer.encoder.layers.3.temp_attention.q_fc.bias\", \"transformer.encoder.layers.3.temp_attention.k_fc.weight\", \"transformer.encoder.layers.3.temp_attention.k_fc.bias\", \"transformer.encoder.layers.3.temp_attention.v_fc.weight\", \"transformer.encoder.layers.3.temp_attention.v_fc.bias\", \"transformer.encoder.layers.3.temp_attention.out_fc.weight\", \"transformer.encoder.layers.3.temp_attention.out_fc.bias\", \"transformer.encoder.layers.3.residual3.norm.weight\", \"transformer.encoder.layers.3.residual3.norm.bias\", \"transformer.encoder.layers.4.temp_attention.q_fc.weight\", \"transformer.encoder.layers.4.temp_attention.q_fc.bias\", \"transformer.encoder.layers.4.temp_attention.k_fc.weight\", \"transformer.encoder.layers.4.temp_attention.k_fc.bias\", \"transformer.encoder.layers.4.temp_attention.v_fc.weight\", \"transformer.encoder.layers.4.temp_attention.v_fc.bias\", \"transformer.encoder.layers.4.temp_attention.out_fc.weight\", \"transformer.encoder.layers.4.temp_attention.out_fc.bias\", \"transformer.encoder.layers.4.residual3.norm.weight\", \"transformer.encoder.layers.4.residual3.norm.bias\", \"transformer.encoder.layers.5.temp_attention.q_fc.weight\", \"transformer.encoder.layers.5.temp_attention.q_fc.bias\", \"transformer.encoder.layers.5.temp_attention.k_fc.weight\", \"transformer.encoder.layers.5.temp_attention.k_fc.bias\", \"transformer.encoder.layers.5.temp_attention.v_fc.weight\", \"transformer.encoder.layers.5.temp_attention.v_fc.bias\", \"transformer.encoder.layers.5.temp_attention.out_fc.weight\", \"transformer.encoder.layers.5.temp_attention.out_fc.bias\", \"transformer.encoder.layers.5.residual3.norm.weight\", \"transformer.encoder.layers.5.residual3.norm.bias\". ",
     "output_type": "error",
     "traceback": [
      "\u001b[0;31m---------------------------------------------------------------------------\u001b[0m",
      "\u001b[0;31mRuntimeError\u001b[0m                              Traceback (most recent call last)",
      "Cell \u001b[0;32mIn[7], line 4\u001b[0m\n\u001b[1;32m      1\u001b[0m save_path \u001b[38;5;241m=\u001b[39m\u001b[38;5;124m'\u001b[39m\u001b[38;5;124m/workspace/joonsm/City_Layout/log_dir/FPN[resnet50]_freeze/checkpoints/checkpoint-0/pytorch_model.bin\u001b[39m\u001b[38;5;124m'\u001b[39m\n\u001b[1;32m      3\u001b[0m model \u001b[38;5;241m=\u001b[39m CLDM(use_temp\u001b[38;5;241m=\u001b[39m\u001b[38;5;28;01mTrue\u001b[39;00m)\n\u001b[0;32m----> 4\u001b[0m \u001b[43mmodel\u001b[49m\u001b[38;5;241;43m.\u001b[39;49m\u001b[43mload_state_dict\u001b[49m\u001b[43m(\u001b[49m\u001b[43mtorch\u001b[49m\u001b[38;5;241;43m.\u001b[39;49m\u001b[43mload\u001b[49m\u001b[43m(\u001b[49m\u001b[43msave_path\u001b[49m\u001b[43m)\u001b[49m\u001b[43m)\u001b[49m\n\u001b[1;32m      5\u001b[0m model \u001b[38;5;241m=\u001b[39m model\u001b[38;5;241m.\u001b[39mto(device)\n\u001b[1;32m      6\u001b[0m model\u001b[38;5;241m.\u001b[39meval()\n",
      "File \u001b[0;32m~/anaconda3/envs/CLDM/lib/python3.9/site-packages/torch/nn/modules/module.py:2041\u001b[0m, in \u001b[0;36mModule.load_state_dict\u001b[0;34m(self, state_dict, strict)\u001b[0m\n\u001b[1;32m   2036\u001b[0m         error_msgs\u001b[38;5;241m.\u001b[39minsert(\n\u001b[1;32m   2037\u001b[0m             \u001b[38;5;241m0\u001b[39m, \u001b[38;5;124m'\u001b[39m\u001b[38;5;124mMissing key(s) in state_dict: \u001b[39m\u001b[38;5;132;01m{}\u001b[39;00m\u001b[38;5;124m. \u001b[39m\u001b[38;5;124m'\u001b[39m\u001b[38;5;241m.\u001b[39mformat(\n\u001b[1;32m   2038\u001b[0m                 \u001b[38;5;124m'\u001b[39m\u001b[38;5;124m, \u001b[39m\u001b[38;5;124m'\u001b[39m\u001b[38;5;241m.\u001b[39mjoin(\u001b[38;5;124m'\u001b[39m\u001b[38;5;124m\"\u001b[39m\u001b[38;5;132;01m{}\u001b[39;00m\u001b[38;5;124m\"\u001b[39m\u001b[38;5;124m'\u001b[39m\u001b[38;5;241m.\u001b[39mformat(k) \u001b[38;5;28;01mfor\u001b[39;00m k \u001b[38;5;129;01min\u001b[39;00m missing_keys)))\n\u001b[1;32m   2040\u001b[0m \u001b[38;5;28;01mif\u001b[39;00m \u001b[38;5;28mlen\u001b[39m(error_msgs) \u001b[38;5;241m>\u001b[39m \u001b[38;5;241m0\u001b[39m:\n\u001b[0;32m-> 2041\u001b[0m     \u001b[38;5;28;01mraise\u001b[39;00m \u001b[38;5;167;01mRuntimeError\u001b[39;00m(\u001b[38;5;124m'\u001b[39m\u001b[38;5;124mError(s) in loading state_dict for \u001b[39m\u001b[38;5;132;01m{}\u001b[39;00m\u001b[38;5;124m:\u001b[39m\u001b[38;5;130;01m\\n\u001b[39;00m\u001b[38;5;130;01m\\t\u001b[39;00m\u001b[38;5;132;01m{}\u001b[39;00m\u001b[38;5;124m'\u001b[39m\u001b[38;5;241m.\u001b[39mformat(\n\u001b[1;32m   2042\u001b[0m                        \u001b[38;5;28mself\u001b[39m\u001b[38;5;241m.\u001b[39m\u001b[38;5;18m__class__\u001b[39m\u001b[38;5;241m.\u001b[39m\u001b[38;5;18m__name__\u001b[39m, \u001b[38;5;124m\"\u001b[39m\u001b[38;5;130;01m\\n\u001b[39;00m\u001b[38;5;130;01m\\t\u001b[39;00m\u001b[38;5;124m\"\u001b[39m\u001b[38;5;241m.\u001b[39mjoin(error_msgs)))\n\u001b[1;32m   2043\u001b[0m \u001b[38;5;28;01mreturn\u001b[39;00m _IncompatibleKeys(missing_keys, unexpected_keys)\n",
      "\u001b[0;31mRuntimeError\u001b[0m: Error(s) in loading state_dict for CLDM:\n\tMissing key(s) in state_dict: \"transformer.encoder.layers.0.temp_attention.q_fc.weight\", \"transformer.encoder.layers.0.temp_attention.q_fc.bias\", \"transformer.encoder.layers.0.temp_attention.k_fc.weight\", \"transformer.encoder.layers.0.temp_attention.k_fc.bias\", \"transformer.encoder.layers.0.temp_attention.v_fc.weight\", \"transformer.encoder.layers.0.temp_attention.v_fc.bias\", \"transformer.encoder.layers.0.temp_attention.out_fc.weight\", \"transformer.encoder.layers.0.temp_attention.out_fc.bias\", \"transformer.encoder.layers.0.residual3.norm.weight\", \"transformer.encoder.layers.0.residual3.norm.bias\", \"transformer.encoder.layers.1.temp_attention.q_fc.weight\", \"transformer.encoder.layers.1.temp_attention.q_fc.bias\", \"transformer.encoder.layers.1.temp_attention.k_fc.weight\", \"transformer.encoder.layers.1.temp_attention.k_fc.bias\", \"transformer.encoder.layers.1.temp_attention.v_fc.weight\", \"transformer.encoder.layers.1.temp_attention.v_fc.bias\", \"transformer.encoder.layers.1.temp_attention.out_fc.weight\", \"transformer.encoder.layers.1.temp_attention.out_fc.bias\", \"transformer.encoder.layers.1.residual3.norm.weight\", \"transformer.encoder.layers.1.residual3.norm.bias\", \"transformer.encoder.layers.2.temp_attention.q_fc.weight\", \"transformer.encoder.layers.2.temp_attention.q_fc.bias\", \"transformer.encoder.layers.2.temp_attention.k_fc.weight\", \"transformer.encoder.layers.2.temp_attention.k_fc.bias\", \"transformer.encoder.layers.2.temp_attention.v_fc.weight\", \"transformer.encoder.layers.2.temp_attention.v_fc.bias\", \"transformer.encoder.layers.2.temp_attention.out_fc.weight\", \"transformer.encoder.layers.2.temp_attention.out_fc.bias\", \"transformer.encoder.layers.2.residual3.norm.weight\", \"transformer.encoder.layers.2.residual3.norm.bias\", \"transformer.encoder.layers.3.temp_attention.q_fc.weight\", \"transformer.encoder.layers.3.temp_attention.q_fc.bias\", \"transformer.encoder.layers.3.temp_attention.k_fc.weight\", \"transformer.encoder.layers.3.temp_attention.k_fc.bias\", \"transformer.encoder.layers.3.temp_attention.v_fc.weight\", \"transformer.encoder.layers.3.temp_attention.v_fc.bias\", \"transformer.encoder.layers.3.temp_attention.out_fc.weight\", \"transformer.encoder.layers.3.temp_attention.out_fc.bias\", \"transformer.encoder.layers.3.residual3.norm.weight\", \"transformer.encoder.layers.3.residual3.norm.bias\", \"transformer.encoder.layers.4.temp_attention.q_fc.weight\", \"transformer.encoder.layers.4.temp_attention.q_fc.bias\", \"transformer.encoder.layers.4.temp_attention.k_fc.weight\", \"transformer.encoder.layers.4.temp_attention.k_fc.bias\", \"transformer.encoder.layers.4.temp_attention.v_fc.weight\", \"transformer.encoder.layers.4.temp_attention.v_fc.bias\", \"transformer.encoder.layers.4.temp_attention.out_fc.weight\", \"transformer.encoder.layers.4.temp_attention.out_fc.bias\", \"transformer.encoder.layers.4.residual3.norm.weight\", \"transformer.encoder.layers.4.residual3.norm.bias\", \"transformer.encoder.layers.5.temp_attention.q_fc.weight\", \"transformer.encoder.layers.5.temp_attention.q_fc.bias\", \"transformer.encoder.layers.5.temp_attention.k_fc.weight\", \"transformer.encoder.layers.5.temp_attention.k_fc.bias\", \"transformer.encoder.layers.5.temp_attention.v_fc.weight\", \"transformer.encoder.layers.5.temp_attention.v_fc.bias\", \"transformer.encoder.layers.5.temp_attention.out_fc.weight\", \"transformer.encoder.layers.5.temp_attention.out_fc.bias\", \"transformer.encoder.layers.5.residual3.norm.weight\", \"transformer.encoder.layers.5.residual3.norm.bias\". "
     ]
    }
   ],
   "source": [
    "save_path ='/workspace/joonsm/City_Layout/log_dir/FPN[resnet50]_freeze/checkpoints/checkpoint-0/pytorch_model.bin'\n",
    "\n",
    "model = CLDM(use_temp=True)\n",
    "model.load_state_dict(torch.load(save_path))\n",
    "model = model.to(device)\n",
    "model.eval()"
   ]
  },
  {
   "cell_type": "code",
   "execution_count": null,
   "metadata": {},
   "outputs": [],
   "source": [
    "model.transformer.attention.q_fc.weight"
   ]
  },
  {
   "cell_type": "code",
   "execution_count": null,
   "metadata": {},
   "outputs": [],
   "source": [
    "a['transformer.encoder.layers.0.position_ff.fc1.bias']"
   ]
  },
  {
   "cell_type": "code",
   "execution_count": null,
   "metadata": {},
   "outputs": [],
   "source": [
    "a= torch.load(save_path)"
   ]
  },
  {
   "cell_type": "code",
   "execution_count": null,
   "metadata": {},
   "outputs": [],
   "source": [
    "for batch_idx, sample in enumerate(loader):\n",
    "    print(f\"Batch {batch_idx} SR: {sample['sr']}\")\n",
    "    if batch_idx > 0:\n",
    "        break  # 첫 번째 배치만 확인"
   ]
  },
  {
   "cell_type": "code",
   "execution_count": null,
   "metadata": {},
   "outputs": [],
   "source": [
    "val_path = \"/nas2/lait/1000_Members/jjoonvely/CARLA/pre_seg_combined_val.json\""
   ]
  },
  {
   "cell_type": "code",
   "execution_count": null,
   "metadata": {},
   "outputs": [],
   "source": [
    "val = ImageLayout_Val(val_path)\n",
    "dataset = DataLoader(val, batch_size=len(val))\n",
    "val_data = next(iter(dataset))"
   ]
  },
  {
   "cell_type": "code",
   "execution_count": null,
   "metadata": {},
   "outputs": [],
   "source": [
    "num_sample  = val_data['box'].shape\n",
    "model.eval()\n",
    "noisy_batch = {'image':val_data['image'].to(device),\n",
    "               'box': torch.rand(*num_sample, dtype=torch.float32, device=device)}\n",
    "for i in range(1000)[::-1]:\n",
    "    t = torch.tensor([i]*num_sample[0], device=device)\n",
    "    with torch.no_grad():\n",
    "        noise_pred = model(noisy_batch, timesteps=t)\n",
    "        bbox_pred = diffusion.step(noise_pred, t[0].detach().item(),  noisy_batch['box'], return_dict=True)\n",
    "\n",
    "        noisy_batch['box'] = bbox_pred.prev_sample\n"
   ]
  },
  {
   "cell_type": "markdown",
   "metadata": {},
   "source": [
    "## Check the Area"
   ]
  },
  {
   "cell_type": "code",
   "execution_count": null,
   "metadata": {},
   "outputs": [],
   "source": [
    "predicted = bbox_pred.pred_original_sample\n",
    "src = val_data['sr']\n",
    "src_list = []\n",
    "for i in src:\n",
    "    src_ = Image.open(i)\n",
    "    src_list.append(src_)\n",
    "box = predicted\n",
    "box = box.cpu().numpy()\n",
    "box = (box + 1) / 2\n",
    "\n",
    "match_list = []\n",
    "\n",
    "for i in range(box.shape[0]):\n",
    "    img = src_list[i]\n",
    "    width, height = img.size\n",
    "    cx,cy,w,h = box[i]\n",
    "    x = int((cx - w / 2) * width)\n",
    "    y = int((cy - h / 2) * height)\n",
    "    x2 = int((cx + w / 2) * width)\n",
    "    y2 = int((cy + h / 2) * height)\n",
    "    boxes = (x,y,x2,y2)\n",
    "    crop = img.crop(boxes)\n",
    "    crop = np.array(crop)\n",
    "    blue_channel = crop[:,:,2]\n",
    "    blue_channel_flatten = blue_channel.flatten()\n",
    "    match_pixel_size = np.sum(blue_channel_flatten==128)/blue_channel_flatten.size\n",
    "    match_list.append(match_pixel_size)\n",
    "\n",
    "value = sum(match_list)/box.shape[0]"
   ]
  }
 ],
 "metadata": {
  "kernelspec": {
   "display_name": "CLDM",
   "language": "python",
   "name": "python3"
  },
  "language_info": {
   "codemirror_mode": {
    "name": "ipython",
    "version": 3
   },
   "file_extension": ".py",
   "mimetype": "text/x-python",
   "name": "python",
   "nbconvert_exporter": "python",
   "pygments_lexer": "ipython3",
   "version": "3.9.19"
  }
 },
 "nbformat": 4,
 "nbformat_minor": 2
}

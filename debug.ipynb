{
 "cells": [
  {
   "cell_type": "code",
   "execution_count": 1,
   "metadata": {},
   "outputs": [
    {
     "name": "stderr",
     "output_type": "stream",
     "text": [
      "/workspace/joonsm/anaconda3/envs/CLDM/lib/python3.9/site-packages/tqdm/auto.py:21: TqdmWarning: IProgress not found. Please update jupyter and ipywidgets. See https://ipywidgets.readthedocs.io/en/stable/user_install.html\n",
      "  from .autonotebook import tqdm as notebook_tqdm\n"
     ]
    }
   ],
   "source": [
    "import torch\n",
    "from torch.utils.data import DataLoader\n",
    "from extractor.image import ImageFeatureExtractor \n",
    "from dataset import ImageLayout\n",
    "from einops import rearrange\n",
    "from PIL import Image"
   ]
  },
  {
   "cell_type": "code",
   "execution_count": 2,
   "metadata": {},
   "outputs": [],
   "source": [
    "a = ImageFeatureExtractor(backbone_name='resnet18').eval()"
   ]
  },
  {
   "cell_type": "code",
   "execution_count": 3,
   "metadata": {},
   "outputs": [],
   "source": [
    "c= ImageLayout(type='val')"
   ]
  },
  {
   "cell_type": "code",
   "execution_count": 4,
   "metadata": {},
   "outputs": [],
   "source": [
    "from torch.utils.data import DataLoader"
   ]
  },
  {
   "cell_type": "code",
   "execution_count": 58,
   "metadata": {},
   "outputs": [],
   "source": [
    "loader = DataLoader(c, batch_size=128, shuffle=True)"
   ]
  },
  {
   "cell_type": "code",
   "execution_count": 64,
   "metadata": {},
   "outputs": [],
   "source": [
    "sample = next(iter(loader))"
   ]
  },
  {
   "cell_type": "code",
   "execution_count": 65,
   "metadata": {},
   "outputs": [],
   "source": [
    "box1= sample['box_cond'][0:64]\n",
    "box2= sample['box_cond'][64:]"
   ]
  },
  {
   "cell_type": "code",
   "execution_count": 66,
   "metadata": {},
   "outputs": [],
   "source": [
    "from loss import giou"
   ]
  },
  {
   "cell_type": "code",
   "execution_count": 68,
   "metadata": {},
   "outputs": [
    {
     "data": {
      "text/plain": [
       "tensor(-0.9176)"
      ]
     },
     "execution_count": 68,
     "metadata": {},
     "output_type": "execute_result"
    }
   ],
   "source": [
    "giou(box1,box2).min()"
   ]
  },
  {
   "cell_type": "code",
   "execution_count": 36,
   "metadata": {},
   "outputs": [
    {
     "data": {
      "text/plain": [
       "(tensor(-0.0625), tensor(0.1467), tensor(-0.9350), tensor(-0.9000))"
      ]
     },
     "execution_count": 36,
     "metadata": {},
     "output_type": "execute_result"
    }
   ],
   "source": [
    "x,y,w,h"
   ]
  },
  {
   "cell_type": "code",
   "execution_count": 18,
   "metadata": {},
   "outputs": [
    {
     "data": {
      "text/plain": [
       "<torch._C.Generator at 0x7f73625af9b0>"
      ]
     },
     "execution_count": 18,
     "metadata": {},
     "output_type": "execute_result"
    }
   ],
   "source": [
    "import numpy as np\n",
    "\n",
    "np.random.seed(0)\n",
    "torch.manual_seed(0)"
   ]
  },
  {
   "cell_type": "code",
   "execution_count": 19,
   "metadata": {},
   "outputs": [],
   "source": [
    "bsd = sample['image'].clone()"
   ]
  },
  {
   "cell_type": "code",
   "execution_count": 20,
   "metadata": {},
   "outputs": [],
   "source": [
    "import torch\n",
    "\n",
    "torch.backends.cudnn.deterministic = True\n",
    "torch.backends.cudnn.benchmark = False\n"
   ]
  },
  {
   "cell_type": "code",
   "execution_count": 25,
   "metadata": {},
   "outputs": [],
   "source": [
    "for i in range(5):\n",
    "    bsd = sample['image'].detach()\n",
    "    a(bsd).var()"
   ]
  },
  {
   "cell_type": "code",
   "execution_count": 27,
   "metadata": {},
   "outputs": [
    {
     "data": {
      "text/plain": [
       "tensor(863239.6875, grad_fn=<VarBackward0>)"
      ]
     },
     "execution_count": 27,
     "metadata": {},
     "output_type": "execute_result"
    }
   ],
   "source": [
    "a(bsd).var()"
   ]
  },
  {
   "cell_type": "code",
   "execution_count": 44,
   "metadata": {},
   "outputs": [
    {
     "data": {
      "text/plain": [
       "tensor(0.5169, grad_fn=<VarBackward0>)"
      ]
     },
     "execution_count": 44,
     "metadata": {},
     "output_type": "execute_result"
    }
   ],
   "source": [
    "a(sample['image']).var()"
   ]
  },
  {
   "cell_type": "code",
   "execution_count": null,
   "metadata": {},
   "outputs": [],
   "source": [
    "extrs = ImageFeatureExtractor(backbone_name='resnet50')"
   ]
  },
  {
   "cell_type": "code",
   "execution_count": null,
   "metadata": {},
   "outputs": [],
   "source": [
    "from dataset import ImageLayout"
   ]
  },
  {
   "cell_type": "code",
   "execution_count": null,
   "metadata": {},
   "outputs": [],
   "source": [
    "train = ImageLayout()"
   ]
  },
  {
   "cell_type": "code",
   "execution_count": null,
   "metadata": {},
   "outputs": [],
   "source": [
    "loader = DataLoader(train, batch_size=2)"
   ]
  },
  {
   "cell_type": "code",
   "execution_count": null,
   "metadata": {},
   "outputs": [],
   "source": [
    "sample = next(iter(loader))"
   ]
  },
  {
   "cell_type": "code",
   "execution_count": 141,
   "metadata": {},
   "outputs": [
    {
     "ename": "NameError",
     "evalue": "name 'extrs' is not defined",
     "output_type": "error",
     "traceback": [
      "\u001b[0;31m---------------------------------------------------------------------------\u001b[0m",
      "\u001b[0;31mNameError\u001b[0m                                 Traceback (most recent call last)",
      "Cell \u001b[0;32mIn[141], line 1\u001b[0m\n\u001b[0;32m----> 1\u001b[0m \u001b[43mextrs\u001b[49m(sample[\u001b[38;5;124m'\u001b[39m\u001b[38;5;124mimage\u001b[39m\u001b[38;5;124m'\u001b[39m])\n",
      "\u001b[0;31mNameError\u001b[0m: name 'extrs' is not defined"
     ]
    }
   ],
   "source": [
    "extrs(sample['image'])"
   ]
  },
  {
   "cell_type": "code",
   "execution_count": null,
   "metadata": {},
   "outputs": [],
   "source": [
    "torch.Size([2, 256, 23, 23])"
   ]
  },
  {
   "cell_type": "code",
   "execution_count": null,
   "metadata": {},
   "outputs": [],
   "source": [
    "sample['image']"
   ]
  },
  {
   "cell_type": "code",
   "execution_count": null,
   "metadata": {},
   "outputs": [],
   "source": [
    "from PIL import Image"
   ]
  },
  {
   "cell_type": "code",
   "execution_count": null,
   "metadata": {},
   "outputs": [
    {
     "data": {
      "text/plain": [
       "'Town01/-6.-8.8inpaintseg/Town01.-6.-8.8.462.0.png'"
      ]
     },
     "metadata": {},
     "output_type": "display_data"
    }
   ],
   "source": [
    "train.frame_list[0]"
   ]
  },
  {
   "cell_type": "code",
   "execution_count": null,
   "metadata": {},
   "outputs": [],
   "source": [
    "import os"
   ]
  },
  {
   "cell_type": "code",
   "execution_count": null,
   "metadata": {},
   "outputs": [],
   "source": [
    "sss = os.path.join('/nas2/lait/1000_Members/jjoonvely/carla_new',train.frame_list[0])"
   ]
  },
  {
   "cell_type": "code",
   "execution_count": null,
   "metadata": {},
   "outputs": [],
   "source": [
    "b= Image.open(sss)"
   ]
  },
  {
   "cell_type": "code",
   "execution_count": null,
   "metadata": {},
   "outputs": [],
   "source": [
    "from torchvision import transforms"
   ]
  },
  {
   "cell_type": "code",
   "execution_count": null,
   "metadata": {},
   "outputs": [],
   "source": [
    "transform = transforms.Compose([\n",
    "        transforms.Resize((400,300)),\n",
    "        transforms.ToTensor()\n",
    "        ])"
   ]
  },
  {
   "cell_type": "code",
   "execution_count": null,
   "metadata": {},
   "outputs": [],
   "source": [
    "import torch"
   ]
  },
  {
   "cell_type": "code",
   "execution_count": null,
   "metadata": {},
   "outputs": [],
   "source": [
    "from einops import rearrange"
   ]
  },
  {
   "cell_type": "code",
   "execution_count": null,
   "metadata": {},
   "outputs": [],
   "source": [
    "enc_output= torch.rand(2,2,2)"
   ]
  },
  {
   "cell_type": "code",
   "execution_count": null,
   "metadata": {},
   "outputs": [],
   "source": [
    "enc_output= torch.rand(256,4,256)"
   ]
  },
  {
   "cell_type": "code",
   "execution_count": null,
   "metadata": {},
   "outputs": [
    {
     "data": {
      "text/plain": [
       "tensor([[[0.1451, 0.0833]]])"
      ]
     },
     "metadata": {},
     "output_type": "display_data"
    }
   ],
   "source": [
    "\n",
    "enc_output"
   ]
  },
  {
   "cell_type": "code",
   "execution_count": null,
   "metadata": {},
   "outputs": [],
   "source": [
    "enc_output = rearrange(enc_output,'b c d -> b  (c d)' )"
   ]
  },
  {
   "cell_type": "code",
   "execution_count": null,
   "metadata": {},
   "outputs": [
    {
     "data": {
      "text/plain": [
       "torch.Size([256, 512])"
      ]
     },
     "metadata": {},
     "output_type": "display_data"
    }
   ],
   "source": [
    "enc_output.size()"
   ]
  },
  {
   "cell_type": "code",
   "execution_count": null,
   "metadata": {},
   "outputs": [
    {
     "data": {
      "text/plain": [
       "torch.Size([1, 4])"
      ]
     },
     "metadata": {},
     "output_type": "display_data"
    }
   ],
   "source": [
    "\n",
    "\n",
    "enc_output.squeeze(1).size()"
   ]
  },
  {
   "cell_type": "code",
   "execution_count": 75,
   "metadata": {},
   "outputs": [
    {
     "name": "stdout",
     "output_type": "stream",
     "text": [
      "tensor([[[[nan, nan, nan,  ..., nan, nan, nan],\n",
      "          [nan, nan, nan,  ..., nan, nan, nan],\n",
      "          [nan, nan, nan,  ..., nan, nan, nan],\n",
      "          ...,\n",
      "          [nan, nan, nan,  ..., nan, nan, nan],\n",
      "          [nan, nan, nan,  ..., nan, nan, nan],\n",
      "          [nan, nan, nan,  ..., nan, nan, nan]],\n",
      "\n",
      "         [[nan, nan, nan,  ..., nan, nan, nan],\n",
      "          [nan, nan, nan,  ..., nan, nan, nan],\n",
      "          [nan, nan, nan,  ..., nan, nan, nan],\n",
      "          ...,\n",
      "          [nan, nan, nan,  ..., nan, nan, nan],\n",
      "          [nan, nan, nan,  ..., nan, nan, nan],\n",
      "          [nan, nan, nan,  ..., nan, nan, nan]],\n",
      "\n",
      "         [[nan, nan, nan,  ..., nan, nan, nan],\n",
      "          [nan, nan, nan,  ..., nan, nan, nan],\n",
      "          [nan, nan, nan,  ..., nan, nan, nan],\n",
      "          ...,\n",
      "          [nan, nan, nan,  ..., nan, nan, nan],\n",
      "          [nan, nan, nan,  ..., nan, nan, nan],\n",
      "          [nan, nan, nan,  ..., nan, nan, nan]],\n",
      "\n",
      "         ...,\n",
      "\n",
      "         [[nan, nan, nan,  ..., nan, nan, nan],\n",
      "          [nan, nan, nan,  ..., nan, nan, nan],\n",
      "          [nan, nan, nan,  ..., nan, nan, nan],\n",
      "          ...,\n",
      "          [nan, nan, nan,  ..., nan, nan, nan],\n",
      "          [nan, nan, nan,  ..., nan, nan, nan],\n",
      "          [nan, nan, nan,  ..., nan, nan, nan]],\n",
      "\n",
      "         [[nan, nan, nan,  ..., nan, nan, nan],\n",
      "          [nan, nan, nan,  ..., nan, nan, nan],\n",
      "          [nan, nan, nan,  ..., nan, nan, nan],\n",
      "          ...,\n",
      "          [nan, nan, nan,  ..., nan, nan, nan],\n",
      "          [nan, nan, nan,  ..., nan, nan, nan],\n",
      "          [nan, nan, nan,  ..., nan, nan, nan]],\n",
      "\n",
      "         [[nan, nan, nan,  ..., nan, nan, nan],\n",
      "          [nan, nan, nan,  ..., nan, nan, nan],\n",
      "          [nan, nan, nan,  ..., nan, nan, nan],\n",
      "          ...,\n",
      "          [nan, nan, nan,  ..., nan, nan, nan],\n",
      "          [nan, nan, nan,  ..., nan, nan, nan],\n",
      "          [nan, nan, nan,  ..., nan, nan, nan]]],\n",
      "\n",
      "\n",
      "        [[[nan, nan, nan,  ..., nan, nan, nan],\n",
      "          [nan, nan, nan,  ..., nan, nan, nan],\n",
      "          [nan, nan, nan,  ..., nan, nan, nan],\n",
      "          ...,\n",
      "          [nan, nan, nan,  ..., nan, nan, nan],\n",
      "          [nan, nan, nan,  ..., nan, nan, nan],\n",
      "          [nan, nan, nan,  ..., nan, nan, nan]],\n",
      "\n",
      "         [[nan, nan, nan,  ..., nan, nan, nan],\n",
      "          [nan, nan, nan,  ..., nan, nan, nan],\n",
      "          [nan, nan, nan,  ..., nan, nan, nan],\n",
      "          ...,\n",
      "          [nan, nan, nan,  ..., nan, nan, nan],\n",
      "          [nan, nan, nan,  ..., nan, nan, nan],\n",
      "          [nan, nan, nan,  ..., nan, nan, nan]],\n",
      "\n",
      "         [[nan, nan, nan,  ..., nan, nan, nan],\n",
      "          [nan, nan, nan,  ..., nan, nan, nan],\n",
      "          [nan, nan, nan,  ..., nan, nan, nan],\n",
      "          ...,\n",
      "          [nan, nan, nan,  ..., nan, nan, nan],\n",
      "          [nan, nan, nan,  ..., nan, nan, nan],\n",
      "          [nan, nan, nan,  ..., nan, nan, nan]],\n",
      "\n",
      "         ...,\n",
      "\n",
      "         [[nan, nan, nan,  ..., nan, nan, nan],\n",
      "          [nan, nan, nan,  ..., nan, nan, nan],\n",
      "          [nan, nan, nan,  ..., nan, nan, nan],\n",
      "          ...,\n",
      "          [nan, nan, nan,  ..., nan, nan, nan],\n",
      "          [nan, nan, nan,  ..., nan, nan, nan],\n",
      "          [nan, nan, nan,  ..., nan, nan, nan]],\n",
      "\n",
      "         [[nan, nan, nan,  ..., nan, nan, nan],\n",
      "          [nan, nan, nan,  ..., nan, nan, nan],\n",
      "          [nan, nan, nan,  ..., nan, nan, nan],\n",
      "          ...,\n",
      "          [nan, nan, nan,  ..., nan, nan, nan],\n",
      "          [nan, nan, nan,  ..., nan, nan, nan],\n",
      "          [nan, nan, nan,  ..., nan, nan, nan]],\n",
      "\n",
      "         [[nan, nan, nan,  ..., nan, nan, nan],\n",
      "          [nan, nan, nan,  ..., nan, nan, nan],\n",
      "          [nan, nan, nan,  ..., nan, nan, nan],\n",
      "          ...,\n",
      "          [nan, nan, nan,  ..., nan, nan, nan],\n",
      "          [nan, nan, nan,  ..., nan, nan, nan],\n",
      "          [nan, nan, nan,  ..., nan, nan, nan]]],\n",
      "\n",
      "\n",
      "        [[[nan, nan, nan,  ..., nan, nan, nan],\n",
      "          [nan, nan, nan,  ..., nan, nan, nan],\n",
      "          [nan, nan, nan,  ..., nan, nan, nan],\n",
      "          ...,\n",
      "          [nan, nan, nan,  ..., nan, nan, nan],\n",
      "          [nan, nan, nan,  ..., nan, nan, nan],\n",
      "          [nan, nan, nan,  ..., nan, nan, nan]],\n",
      "\n",
      "         [[nan, nan, nan,  ..., nan, nan, nan],\n",
      "          [nan, nan, nan,  ..., nan, nan, nan],\n",
      "          [nan, nan, nan,  ..., nan, nan, nan],\n",
      "          ...,\n",
      "          [nan, nan, nan,  ..., nan, nan, nan],\n",
      "          [nan, nan, nan,  ..., nan, nan, nan],\n",
      "          [nan, nan, nan,  ..., nan, nan, nan]],\n",
      "\n",
      "         [[nan, nan, nan,  ..., nan, nan, nan],\n",
      "          [nan, nan, nan,  ..., nan, nan, nan],\n",
      "          [nan, nan, nan,  ..., nan, nan, nan],\n",
      "          ...,\n",
      "          [nan, nan, nan,  ..., nan, nan, nan],\n",
      "          [nan, nan, nan,  ..., nan, nan, nan],\n",
      "          [nan, nan, nan,  ..., nan, nan, nan]],\n",
      "\n",
      "         ...,\n",
      "\n",
      "         [[nan, nan, nan,  ..., nan, nan, nan],\n",
      "          [nan, nan, nan,  ..., nan, nan, nan],\n",
      "          [nan, nan, nan,  ..., nan, nan, nan],\n",
      "          ...,\n",
      "          [nan, nan, nan,  ..., nan, nan, nan],\n",
      "          [nan, nan, nan,  ..., nan, nan, nan],\n",
      "          [nan, nan, nan,  ..., nan, nan, nan]],\n",
      "\n",
      "         [[nan, nan, nan,  ..., nan, nan, nan],\n",
      "          [nan, nan, nan,  ..., nan, nan, nan],\n",
      "          [nan, nan, nan,  ..., nan, nan, nan],\n",
      "          ...,\n",
      "          [nan, nan, nan,  ..., nan, nan, nan],\n",
      "          [nan, nan, nan,  ..., nan, nan, nan],\n",
      "          [nan, nan, nan,  ..., nan, nan, nan]],\n",
      "\n",
      "         [[nan, nan, nan,  ..., nan, nan, nan],\n",
      "          [nan, nan, nan,  ..., nan, nan, nan],\n",
      "          [nan, nan, nan,  ..., nan, nan, nan],\n",
      "          ...,\n",
      "          [nan, nan, nan,  ..., nan, nan, nan],\n",
      "          [nan, nan, nan,  ..., nan, nan, nan],\n",
      "          [nan, nan, nan,  ..., nan, nan, nan]]],\n",
      "\n",
      "\n",
      "        ...,\n",
      "\n",
      "\n",
      "        [[[nan, nan, nan,  ..., nan, nan, nan],\n",
      "          [nan, nan, nan,  ..., nan, nan, nan],\n",
      "          [nan, nan, nan,  ..., nan, nan, nan],\n",
      "          ...,\n",
      "          [nan, nan, nan,  ..., nan, nan, nan],\n",
      "          [nan, nan, nan,  ..., nan, nan, nan],\n",
      "          [nan, nan, nan,  ..., nan, nan, nan]],\n",
      "\n",
      "         [[nan, nan, nan,  ..., nan, nan, nan],\n",
      "          [nan, nan, nan,  ..., nan, nan, nan],\n",
      "          [nan, nan, nan,  ..., nan, nan, nan],\n",
      "          ...,\n",
      "          [nan, nan, nan,  ..., nan, nan, nan],\n",
      "          [nan, nan, nan,  ..., nan, nan, nan],\n",
      "          [nan, nan, nan,  ..., nan, nan, nan]],\n",
      "\n",
      "         [[nan, nan, nan,  ..., nan, nan, nan],\n",
      "          [nan, nan, nan,  ..., nan, nan, nan],\n",
      "          [nan, nan, nan,  ..., nan, nan, nan],\n",
      "          ...,\n",
      "          [nan, nan, nan,  ..., nan, nan, nan],\n",
      "          [nan, nan, nan,  ..., nan, nan, nan],\n",
      "          [nan, nan, nan,  ..., nan, nan, nan]],\n",
      "\n",
      "         ...,\n",
      "\n",
      "         [[nan, nan, nan,  ..., nan, nan, nan],\n",
      "          [nan, nan, nan,  ..., nan, nan, nan],\n",
      "          [nan, nan, nan,  ..., nan, nan, nan],\n",
      "          ...,\n",
      "          [nan, nan, nan,  ..., nan, nan, nan],\n",
      "          [nan, nan, nan,  ..., nan, nan, nan],\n",
      "          [nan, nan, nan,  ..., nan, nan, nan]],\n",
      "\n",
      "         [[nan, nan, nan,  ..., nan, nan, nan],\n",
      "          [nan, nan, nan,  ..., nan, nan, nan],\n",
      "          [nan, nan, nan,  ..., nan, nan, nan],\n",
      "          ...,\n",
      "          [nan, nan, nan,  ..., nan, nan, nan],\n",
      "          [nan, nan, nan,  ..., nan, nan, nan],\n",
      "          [nan, nan, nan,  ..., nan, nan, nan]],\n",
      "\n",
      "         [[nan, nan, nan,  ..., nan, nan, nan],\n",
      "          [nan, nan, nan,  ..., nan, nan, nan],\n",
      "          [nan, nan, nan,  ..., nan, nan, nan],\n",
      "          ...,\n",
      "          [nan, nan, nan,  ..., nan, nan, nan],\n",
      "          [nan, nan, nan,  ..., nan, nan, nan],\n",
      "          [nan, nan, nan,  ..., nan, nan, nan]]],\n",
      "\n",
      "\n",
      "        [[[nan, nan, nan,  ..., nan, nan, nan],\n",
      "          [nan, nan, nan,  ..., nan, nan, nan],\n",
      "          [nan, nan, nan,  ..., nan, nan, nan],\n",
      "          ...,\n",
      "          [nan, nan, nan,  ..., nan, nan, nan],\n",
      "          [nan, nan, nan,  ..., nan, nan, nan],\n",
      "          [nan, nan, nan,  ..., nan, nan, nan]],\n",
      "\n",
      "         [[nan, nan, nan,  ..., nan, nan, nan],\n",
      "          [nan, nan, nan,  ..., nan, nan, nan],\n",
      "          [nan, nan, nan,  ..., nan, nan, nan],\n",
      "          ...,\n",
      "          [nan, nan, nan,  ..., nan, nan, nan],\n",
      "          [nan, nan, nan,  ..., nan, nan, nan],\n",
      "          [nan, nan, nan,  ..., nan, nan, nan]],\n",
      "\n",
      "         [[nan, nan, nan,  ..., nan, nan, nan],\n",
      "          [nan, nan, nan,  ..., nan, nan, nan],\n",
      "          [nan, nan, nan,  ..., nan, nan, nan],\n",
      "          ...,\n",
      "          [nan, nan, nan,  ..., nan, nan, nan],\n",
      "          [nan, nan, nan,  ..., nan, nan, nan],\n",
      "          [nan, nan, nan,  ..., nan, nan, nan]],\n",
      "\n",
      "         ...,\n",
      "\n",
      "         [[nan, nan, nan,  ..., nan, nan, nan],\n",
      "          [nan, nan, nan,  ..., nan, nan, nan],\n",
      "          [nan, nan, nan,  ..., nan, nan, nan],\n",
      "          ...,\n",
      "          [nan, nan, nan,  ..., nan, nan, nan],\n",
      "          [nan, nan, nan,  ..., nan, nan, nan],\n",
      "          [nan, nan, nan,  ..., nan, nan, nan]],\n",
      "\n",
      "         [[nan, nan, nan,  ..., nan, nan, nan],\n",
      "          [nan, nan, nan,  ..., nan, nan, nan],\n",
      "          [nan, nan, nan,  ..., nan, nan, nan],\n",
      "          ...,\n",
      "          [nan, nan, nan,  ..., nan, nan, nan],\n",
      "          [nan, nan, nan,  ..., nan, nan, nan],\n",
      "          [nan, nan, nan,  ..., nan, nan, nan]],\n",
      "\n",
      "         [[nan, nan, nan,  ..., nan, nan, nan],\n",
      "          [nan, nan, nan,  ..., nan, nan, nan],\n",
      "          [nan, nan, nan,  ..., nan, nan, nan],\n",
      "          ...,\n",
      "          [nan, nan, nan,  ..., nan, nan, nan],\n",
      "          [nan, nan, nan,  ..., nan, nan, nan],\n",
      "          [nan, nan, nan,  ..., nan, nan, nan]]],\n",
      "\n",
      "\n",
      "        [[[nan, nan, nan,  ..., nan, nan, nan],\n",
      "          [nan, nan, nan,  ..., nan, nan, nan],\n",
      "          [nan, nan, nan,  ..., nan, nan, nan],\n",
      "          ...,\n",
      "          [nan, nan, nan,  ..., nan, nan, nan],\n",
      "          [nan, nan, nan,  ..., nan, nan, nan],\n",
      "          [nan, nan, nan,  ..., nan, nan, nan]],\n",
      "\n",
      "         [[nan, nan, nan,  ..., nan, nan, nan],\n",
      "          [nan, nan, nan,  ..., nan, nan, nan],\n",
      "          [nan, nan, nan,  ..., nan, nan, nan],\n",
      "          ...,\n",
      "          [nan, nan, nan,  ..., nan, nan, nan],\n",
      "          [nan, nan, nan,  ..., nan, nan, nan],\n",
      "          [nan, nan, nan,  ..., nan, nan, nan]],\n",
      "\n",
      "         [[nan, nan, nan,  ..., nan, nan, nan],\n",
      "          [nan, nan, nan,  ..., nan, nan, nan],\n",
      "          [nan, nan, nan,  ..., nan, nan, nan],\n",
      "          ...,\n",
      "          [nan, nan, nan,  ..., nan, nan, nan],\n",
      "          [nan, nan, nan,  ..., nan, nan, nan],\n",
      "          [nan, nan, nan,  ..., nan, nan, nan]],\n",
      "\n",
      "         ...,\n",
      "\n",
      "         [[nan, nan, nan,  ..., nan, nan, nan],\n",
      "          [nan, nan, nan,  ..., nan, nan, nan],\n",
      "          [nan, nan, nan,  ..., nan, nan, nan],\n",
      "          ...,\n",
      "          [nan, nan, nan,  ..., nan, nan, nan],\n",
      "          [nan, nan, nan,  ..., nan, nan, nan],\n",
      "          [nan, nan, nan,  ..., nan, nan, nan]],\n",
      "\n",
      "         [[nan, nan, nan,  ..., nan, nan, nan],\n",
      "          [nan, nan, nan,  ..., nan, nan, nan],\n",
      "          [nan, nan, nan,  ..., nan, nan, nan],\n",
      "          ...,\n",
      "          [nan, nan, nan,  ..., nan, nan, nan],\n",
      "          [nan, nan, nan,  ..., nan, nan, nan],\n",
      "          [nan, nan, nan,  ..., nan, nan, nan]],\n",
      "\n",
      "         [[nan, nan, nan,  ..., nan, nan, nan],\n",
      "          [nan, nan, nan,  ..., nan, nan, nan],\n",
      "          [nan, nan, nan,  ..., nan, nan, nan],\n",
      "          ...,\n",
      "          [nan, nan, nan,  ..., nan, nan, nan],\n",
      "          [nan, nan, nan,  ..., nan, nan, nan],\n",
      "          [nan, nan, nan,  ..., nan, nan, nan]]]], device='cuda:0')\n",
      "Loaded tensor shape: torch.Size([8, 256, 23, 23])\n",
      "Contains NaN: True\n"
     ]
    }
   ],
   "source": [
    "import torch\n",
    "\n",
    "# 파일에서 텐서를 불러오기\n",
    "loaded_tensor = torch.load('aa.pt')\n",
    "\n",
    "print(loaded_tensor)\n",
    "print(f\"Loaded tensor shape: {loaded_tensor.shape}\")\n",
    "print(f\"Contains NaN: {torch.isnan(loaded_tensor).any()}\")\n"
   ]
  },
  {
   "cell_type": "code",
   "execution_count": 74,
   "metadata": {},
   "outputs": [
    {
     "data": {
      "text/plain": [
       "tensor(0.5157, device='cuda:0')"
      ]
     },
     "execution_count": 74,
     "metadata": {},
     "output_type": "execute_result"
    }
   ],
   "source": [
    "loaded_tensor.var()"
   ]
  },
  {
   "cell_type": "code",
   "execution_count": 73,
   "metadata": {},
   "outputs": [
    {
     "ename": "TypeError",
     "evalue": "Unexpected type <class 'dataset.ImageLayout'>",
     "output_type": "error",
     "traceback": [
      "\u001b[0;31m---------------------------------------------------------------------------\u001b[0m",
      "\u001b[0;31mTypeError\u001b[0m                                 Traceback (most recent call last)",
      "Cell \u001b[0;32mIn[73], line 1\u001b[0m\n\u001b[0;32m----> 1\u001b[0m src \u001b[38;5;241m=\u001b[39m \u001b[43mtransform\u001b[49m\u001b[43m(\u001b[49m\u001b[43mc\u001b[49m\u001b[43m)\u001b[49m\n",
      "File \u001b[0;32m~/anaconda3/envs/CLDM/lib/python3.9/site-packages/torchvision/transforms/transforms.py:95\u001b[0m, in \u001b[0;36mCompose.__call__\u001b[0;34m(self, img)\u001b[0m\n\u001b[1;32m     93\u001b[0m \u001b[38;5;28;01mdef\u001b[39;00m \u001b[38;5;21m__call__\u001b[39m(\u001b[38;5;28mself\u001b[39m, img):\n\u001b[1;32m     94\u001b[0m     \u001b[38;5;28;01mfor\u001b[39;00m t \u001b[38;5;129;01min\u001b[39;00m \u001b[38;5;28mself\u001b[39m\u001b[38;5;241m.\u001b[39mtransforms:\n\u001b[0;32m---> 95\u001b[0m         img \u001b[38;5;241m=\u001b[39m \u001b[43mt\u001b[49m\u001b[43m(\u001b[49m\u001b[43mimg\u001b[49m\u001b[43m)\u001b[49m\n\u001b[1;32m     96\u001b[0m     \u001b[38;5;28;01mreturn\u001b[39;00m img\n",
      "File \u001b[0;32m~/anaconda3/envs/CLDM/lib/python3.9/site-packages/torch/nn/modules/module.py:1501\u001b[0m, in \u001b[0;36mModule._call_impl\u001b[0;34m(self, *args, **kwargs)\u001b[0m\n\u001b[1;32m   1496\u001b[0m \u001b[38;5;66;03m# If we don't have any hooks, we want to skip the rest of the logic in\u001b[39;00m\n\u001b[1;32m   1497\u001b[0m \u001b[38;5;66;03m# this function, and just call forward.\u001b[39;00m\n\u001b[1;32m   1498\u001b[0m \u001b[38;5;28;01mif\u001b[39;00m \u001b[38;5;129;01mnot\u001b[39;00m (\u001b[38;5;28mself\u001b[39m\u001b[38;5;241m.\u001b[39m_backward_hooks \u001b[38;5;129;01mor\u001b[39;00m \u001b[38;5;28mself\u001b[39m\u001b[38;5;241m.\u001b[39m_backward_pre_hooks \u001b[38;5;129;01mor\u001b[39;00m \u001b[38;5;28mself\u001b[39m\u001b[38;5;241m.\u001b[39m_forward_hooks \u001b[38;5;129;01mor\u001b[39;00m \u001b[38;5;28mself\u001b[39m\u001b[38;5;241m.\u001b[39m_forward_pre_hooks\n\u001b[1;32m   1499\u001b[0m         \u001b[38;5;129;01mor\u001b[39;00m _global_backward_pre_hooks \u001b[38;5;129;01mor\u001b[39;00m _global_backward_hooks\n\u001b[1;32m   1500\u001b[0m         \u001b[38;5;129;01mor\u001b[39;00m _global_forward_hooks \u001b[38;5;129;01mor\u001b[39;00m _global_forward_pre_hooks):\n\u001b[0;32m-> 1501\u001b[0m     \u001b[38;5;28;01mreturn\u001b[39;00m \u001b[43mforward_call\u001b[49m\u001b[43m(\u001b[49m\u001b[38;5;241;43m*\u001b[39;49m\u001b[43margs\u001b[49m\u001b[43m,\u001b[49m\u001b[43m \u001b[49m\u001b[38;5;241;43m*\u001b[39;49m\u001b[38;5;241;43m*\u001b[39;49m\u001b[43mkwargs\u001b[49m\u001b[43m)\u001b[49m\n\u001b[1;32m   1502\u001b[0m \u001b[38;5;66;03m# Do not call functions when jit is used\u001b[39;00m\n\u001b[1;32m   1503\u001b[0m full_backward_hooks, non_full_backward_hooks \u001b[38;5;241m=\u001b[39m [], []\n",
      "File \u001b[0;32m~/anaconda3/envs/CLDM/lib/python3.9/site-packages/torchvision/transforms/transforms.py:361\u001b[0m, in \u001b[0;36mResize.forward\u001b[0;34m(self, img)\u001b[0m\n\u001b[1;32m    353\u001b[0m \u001b[38;5;28;01mdef\u001b[39;00m \u001b[38;5;21mforward\u001b[39m(\u001b[38;5;28mself\u001b[39m, img):\n\u001b[1;32m    354\u001b[0m \u001b[38;5;250m    \u001b[39m\u001b[38;5;124;03m\"\"\"\u001b[39;00m\n\u001b[1;32m    355\u001b[0m \u001b[38;5;124;03m    Args:\u001b[39;00m\n\u001b[1;32m    356\u001b[0m \u001b[38;5;124;03m        img (PIL Image or Tensor): Image to be scaled.\u001b[39;00m\n\u001b[0;32m   (...)\u001b[0m\n\u001b[1;32m    359\u001b[0m \u001b[38;5;124;03m        PIL Image or Tensor: Rescaled image.\u001b[39;00m\n\u001b[1;32m    360\u001b[0m \u001b[38;5;124;03m    \"\"\"\u001b[39;00m\n\u001b[0;32m--> 361\u001b[0m     \u001b[38;5;28;01mreturn\u001b[39;00m \u001b[43mF\u001b[49m\u001b[38;5;241;43m.\u001b[39;49m\u001b[43mresize\u001b[49m\u001b[43m(\u001b[49m\u001b[43mimg\u001b[49m\u001b[43m,\u001b[49m\u001b[43m \u001b[49m\u001b[38;5;28;43mself\u001b[39;49m\u001b[38;5;241;43m.\u001b[39;49m\u001b[43msize\u001b[49m\u001b[43m,\u001b[49m\u001b[43m \u001b[49m\u001b[38;5;28;43mself\u001b[39;49m\u001b[38;5;241;43m.\u001b[39;49m\u001b[43minterpolation\u001b[49m\u001b[43m,\u001b[49m\u001b[43m \u001b[49m\u001b[38;5;28;43mself\u001b[39;49m\u001b[38;5;241;43m.\u001b[39;49m\u001b[43mmax_size\u001b[49m\u001b[43m,\u001b[49m\u001b[43m \u001b[49m\u001b[38;5;28;43mself\u001b[39;49m\u001b[38;5;241;43m.\u001b[39;49m\u001b[43mantialias\u001b[49m\u001b[43m)\u001b[49m\n",
      "File \u001b[0;32m~/anaconda3/envs/CLDM/lib/python3.9/site-packages/torchvision/transforms/functional.py:476\u001b[0m, in \u001b[0;36mresize\u001b[0;34m(img, size, interpolation, max_size, antialias)\u001b[0m\n\u001b[1;32m    470\u001b[0m     \u001b[38;5;28;01mif\u001b[39;00m max_size \u001b[38;5;129;01mis\u001b[39;00m \u001b[38;5;129;01mnot\u001b[39;00m \u001b[38;5;28;01mNone\u001b[39;00m \u001b[38;5;129;01mand\u001b[39;00m \u001b[38;5;28mlen\u001b[39m(size) \u001b[38;5;241m!=\u001b[39m \u001b[38;5;241m1\u001b[39m:\n\u001b[1;32m    471\u001b[0m         \u001b[38;5;28;01mraise\u001b[39;00m \u001b[38;5;167;01mValueError\u001b[39;00m(\n\u001b[1;32m    472\u001b[0m             \u001b[38;5;124m\"\u001b[39m\u001b[38;5;124mmax_size should only be passed if size specifies the length of the smaller edge, \u001b[39m\u001b[38;5;124m\"\u001b[39m\n\u001b[1;32m    473\u001b[0m             \u001b[38;5;124m\"\u001b[39m\u001b[38;5;124mi.e. size should be an int or a sequence of length 1 in torchscript mode.\u001b[39m\u001b[38;5;124m\"\u001b[39m\n\u001b[1;32m    474\u001b[0m         )\n\u001b[0;32m--> 476\u001b[0m _, image_height, image_width \u001b[38;5;241m=\u001b[39m \u001b[43mget_dimensions\u001b[49m\u001b[43m(\u001b[49m\u001b[43mimg\u001b[49m\u001b[43m)\u001b[49m\n\u001b[1;32m    477\u001b[0m \u001b[38;5;28;01mif\u001b[39;00m \u001b[38;5;28misinstance\u001b[39m(size, \u001b[38;5;28mint\u001b[39m):\n\u001b[1;32m    478\u001b[0m     size \u001b[38;5;241m=\u001b[39m [size]\n",
      "File \u001b[0;32m~/anaconda3/envs/CLDM/lib/python3.9/site-packages/torchvision/transforms/functional.py:78\u001b[0m, in \u001b[0;36mget_dimensions\u001b[0;34m(img)\u001b[0m\n\u001b[1;32m     75\u001b[0m \u001b[38;5;28;01mif\u001b[39;00m \u001b[38;5;28misinstance\u001b[39m(img, torch\u001b[38;5;241m.\u001b[39mTensor):\n\u001b[1;32m     76\u001b[0m     \u001b[38;5;28;01mreturn\u001b[39;00m F_t\u001b[38;5;241m.\u001b[39mget_dimensions(img)\n\u001b[0;32m---> 78\u001b[0m \u001b[38;5;28;01mreturn\u001b[39;00m \u001b[43mF_pil\u001b[49m\u001b[38;5;241;43m.\u001b[39;49m\u001b[43mget_dimensions\u001b[49m\u001b[43m(\u001b[49m\u001b[43mimg\u001b[49m\u001b[43m)\u001b[49m\n",
      "File \u001b[0;32m~/anaconda3/envs/CLDM/lib/python3.9/site-packages/torchvision/transforms/_functional_pil.py:31\u001b[0m, in \u001b[0;36mget_dimensions\u001b[0;34m(img)\u001b[0m\n\u001b[1;32m     29\u001b[0m     width, height \u001b[38;5;241m=\u001b[39m img\u001b[38;5;241m.\u001b[39msize\n\u001b[1;32m     30\u001b[0m     \u001b[38;5;28;01mreturn\u001b[39;00m [channels, height, width]\n\u001b[0;32m---> 31\u001b[0m \u001b[38;5;28;01mraise\u001b[39;00m \u001b[38;5;167;01mTypeError\u001b[39;00m(\u001b[38;5;124mf\u001b[39m\u001b[38;5;124m\"\u001b[39m\u001b[38;5;124mUnexpected type \u001b[39m\u001b[38;5;132;01m{\u001b[39;00m\u001b[38;5;28mtype\u001b[39m(img)\u001b[38;5;132;01m}\u001b[39;00m\u001b[38;5;124m\"\u001b[39m)\n",
      "\u001b[0;31mTypeError\u001b[0m: Unexpected type <class 'dataset.ImageLayout'>"
     ]
    }
   ],
   "source": [
    "src = transform(c)"
   ]
  },
  {
   "cell_type": "code",
   "execution_count": 36,
   "metadata": {},
   "outputs": [],
   "source": [
    "ccc =a(src[:3,:,:].unsqueeze(0))"
   ]
  },
  {
   "cell_type": "code",
   "execution_count": 37,
   "metadata": {},
   "outputs": [
    {
     "data": {
      "text/plain": [
       "tensor(0.5083, grad_fn=<VarBackward0>)"
      ]
     },
     "execution_count": 37,
     "metadata": {},
     "output_type": "execute_result"
    }
   ],
   "source": [
    "ccc.var()"
   ]
  },
  {
   "cell_type": "code",
   "execution_count": 71,
   "metadata": {},
   "outputs": [
    {
     "name": "stdout",
     "output_type": "stream",
     "text": [
      "tensor([[[[-2.9630e+19, -3.3050e+19, -3.9364e+19,  ..., -3.4439e+19,\n",
      "           -2.8057e+19, -2.4601e+19],\n",
      "          [-3.2121e+19, -3.4341e+19, -3.8439e+19,  ..., -2.3144e+19,\n",
      "           -1.8305e+19, -1.5684e+19],\n",
      "          [-3.6720e+19, -3.6724e+19, -3.6730e+19,  ..., -2.2924e+18,\n",
      "           -3.0150e+17,  7.7689e+17],\n",
      "          ...,\n",
      "          [-4.9540e+19, -5.6326e+19, -6.8854e+19,  ..., -8.2304e+19,\n",
      "           -6.5890e+19, -5.7000e+19],\n",
      "          [-6.0804e+19, -7.2353e+19, -9.3676e+19,  ..., -7.0358e+19,\n",
      "           -5.5950e+19, -4.8145e+19],\n",
      "          [-6.6905e+19, -8.1035e+19, -1.0712e+20,  ..., -6.3887e+19,\n",
      "           -5.0565e+19, -4.3349e+19]],\n",
      "\n",
      "         [[ 5.0388e+19,  5.0038e+19,  4.9390e+19,  ...,  2.5156e+19,\n",
      "            1.2484e+19,  5.6193e+18],\n",
      "          [ 5.7956e+19,  5.8625e+19,  5.9859e+19,  ...,  3.6168e+19,\n",
      "            2.1697e+19,  1.3858e+19],\n",
      "          [ 7.1927e+19,  7.4478e+19,  7.9187e+19,  ...,  5.6498e+19,\n",
      "            3.8706e+19,  2.9068e+19],\n",
      "          ...,\n",
      "          [ 1.9868e+20,  2.1106e+20,  2.3391e+20,  ...,  1.4612e+20,\n",
      "            1.0904e+20,  8.8950e+19],\n",
      "          [ 1.4550e+20,  1.5526e+20,  1.7326e+20,  ...,  1.3567e+20,\n",
      "            1.0516e+20,  8.8628e+19],\n",
      "          [ 1.1670e+20,  1.2503e+20,  1.4041e+20,  ...,  1.3002e+20,\n",
      "            1.0306e+20,  8.8454e+19]],\n",
      "\n",
      "         [[-6.3407e+18, -1.1402e+18,  8.4607e+18,  ..., -7.9811e+18,\n",
      "           -1.2739e+19, -1.5317e+19],\n",
      "          [ 3.5394e+18,  9.6493e+18,  2.0929e+19,  ..., -3.8015e+16,\n",
      "           -7.1629e+18, -1.1022e+19],\n",
      "          [ 2.1780e+19,  2.9568e+19,  4.3947e+19,  ...,  1.4626e+19,\n",
      "            3.1321e+18, -3.0938e+18],\n",
      "          ...,\n",
      "          [-5.6360e+19, -5.0654e+19, -4.0119e+19,  ...,  1.3902e+19,\n",
      "            1.1762e+19,  1.0602e+19],\n",
      "          [-4.4215e+19, -3.9216e+19, -2.9987e+19,  ..., -1.8726e+18,\n",
      "            3.9229e+18,  7.0621e+18],\n",
      "          [-3.7637e+19, -3.3021e+19, -2.4499e+19,  ..., -1.0417e+19,\n",
      "           -3.2310e+17,  5.1445e+18]],\n",
      "\n",
      "         ...,\n",
      "\n",
      "         [[ 8.2238e+18,  2.0627e+18,  4.5003e+18,  ...,  1.7747e+17,\n",
      "           -5.4322e+18, -2.7790e+18],\n",
      "          [-3.5272e+18, -7.8625e+18, -6.3092e+18,  ..., -1.2900e+19,\n",
      "           -1.3742e+19, -1.2820e+19],\n",
      "          [ 5.1744e+18,  5.2845e+17, -7.3231e+18,  ..., -2.3020e+19,\n",
      "           -2.0021e+19, -1.6113e+19],\n",
      "          ...,\n",
      "          [ 1.0597e+20,  1.0005e+20,  1.1082e+20,  ...,  7.6224e+18,\n",
      "           -8.0449e+18, -9.0019e+18],\n",
      "          [ 7.3032e+19,  7.0853e+19,  8.6254e+19,  ...,  1.6025e+18,\n",
      "           -1.1906e+19, -9.4127e+18],\n",
      "          [ 6.9448e+19,  4.4676e+19,  6.0815e+19,  ..., -1.5596e+19,\n",
      "           -1.9338e+19, -1.5883e+19]],\n",
      "\n",
      "         [[-1.0482e+19,  2.6938e+19,  4.5571e+19,  ...,  4.2577e+19,\n",
      "            3.1856e+19,  1.2313e+19],\n",
      "          [-1.0774e+19,  5.1460e+18,  2.6185e+19,  ...,  1.9998e+19,\n",
      "            1.3360e+19,  1.0369e+19],\n",
      "          [-5.7481e+18,  1.5440e+19,  4.2842e+19,  ...,  2.4761e+19,\n",
      "            2.3437e+19,  1.6368e+19],\n",
      "          ...,\n",
      "          [-1.9142e+20, -2.0463e+20, -2.3027e+20,  ..., -2.0128e+20,\n",
      "           -1.5769e+20, -1.3137e+20],\n",
      "          [-1.7865e+20, -1.6056e+20, -1.9499e+20,  ..., -2.0778e+20,\n",
      "           -1.6765e+20, -1.2022e+20],\n",
      "          [-1.3273e+20, -1.1029e+20, -1.5692e+20,  ..., -1.7620e+20,\n",
      "           -1.3744e+20, -1.0884e+20]],\n",
      "\n",
      "         [[ 9.1114e+18, -2.6983e+18,  5.7334e+18,  ...,  8.0251e+18,\n",
      "            9.7285e+18,  4.7722e+18],\n",
      "          [-2.1429e+19, -1.9754e+19, -6.7772e+18,  ..., -8.6235e+18,\n",
      "            1.8452e+18,  2.7874e+18],\n",
      "          [-1.5282e+19, -1.5711e+19, -5.3343e+18,  ...,  5.0797e+17,\n",
      "            1.1108e+19,  1.2993e+19],\n",
      "          ...,\n",
      "          [-7.0040e+19, -7.0276e+19, -6.2473e+19,  ...,  3.5552e+19,\n",
      "            6.3195e+19,  6.5528e+19],\n",
      "          [-7.0701e+19, -7.9379e+19, -7.1642e+19,  ...,  3.4819e+19,\n",
      "            4.8863e+19,  4.9652e+19],\n",
      "          [-6.9715e+19, -8.1661e+19, -7.3125e+19,  ...,  2.7856e+19,\n",
      "            3.2201e+19,  2.8258e+19]]],\n",
      "\n",
      "\n",
      "        [[[-2.9618e+19, -3.3044e+19, -3.9369e+19,  ..., -3.4622e+19,\n",
      "           -2.8184e+19, -2.4697e+19],\n",
      "          [-3.2117e+19, -3.4330e+19, -3.8417e+19,  ..., -2.3494e+19,\n",
      "           -1.8581e+19, -1.5920e+19],\n",
      "          [-3.6731e+19, -3.6706e+19, -3.6659e+19,  ..., -2.9501e+18,\n",
      "           -8.5159e+17,  2.8510e+17],\n",
      "          ...,\n",
      "          [-4.9544e+19, -5.6331e+19, -6.8861e+19,  ..., -8.1829e+19,\n",
      "           -6.5632e+19, -5.6858e+19],\n",
      "          [-6.0624e+19, -7.1991e+19, -9.2976e+19,  ..., -6.8886e+19,\n",
      "           -5.5222e+19, -4.7822e+19],\n",
      "          [-6.6626e+19, -8.0474e+19, -1.0604e+20,  ..., -6.1875e+19,\n",
      "           -4.9584e+19, -4.2927e+19]],\n",
      "\n",
      "         [[ 5.0372e+19,  5.0022e+19,  4.9375e+19,  ...,  2.5154e+19,\n",
      "            1.2491e+19,  5.6327e+18],\n",
      "          [ 5.7944e+19,  5.8607e+19,  5.9830e+19,  ...,  3.6208e+19,\n",
      "            2.1756e+19,  1.3927e+19],\n",
      "          [ 7.1925e+19,  7.4457e+19,  7.9132e+19,  ...,  5.6616e+19,\n",
      "            3.8859e+19,  2.9240e+19],\n",
      "          ...,\n",
      "          [ 1.9829e+20,  2.1062e+20,  2.3338e+20,  ...,  1.4786e+20,\n",
      "            1.0962e+20,  8.8908e+19],\n",
      "          [ 1.4527e+20,  1.5478e+20,  1.7233e+20,  ...,  1.3647e+20,\n",
      "            1.0547e+20,  8.8670e+19],\n",
      "          [ 1.1654e+20,  1.2453e+20,  1.3926e+20,  ...,  1.3031e+20,\n",
      "            1.0322e+20,  8.8542e+19]],\n",
      "\n",
      "         [[-6.3540e+18, -1.1470e+18,  8.4658e+18,  ..., -7.9988e+18,\n",
      "           -1.2751e+19, -1.5325e+19],\n",
      "          [ 3.5317e+18,  9.6404e+18,  2.0918e+19,  ..., -1.7284e+17,\n",
      "           -7.2637e+18, -1.1105e+19],\n",
      "          [ 2.1782e+19,  2.9556e+19,  4.3907e+19,  ...,  1.4275e+19,\n",
      "            2.8671e+18, -3.3122e+18],\n",
      "          ...,\n",
      "          [-5.5827e+19, -4.9955e+19, -3.9114e+19,  ...,  1.5744e+19,\n",
      "            1.2137e+19,  1.0184e+19],\n",
      "          [-4.3796e+19, -3.8809e+19, -2.9603e+19,  ..., -1.0430e+18,\n",
      "            4.1416e+18,  6.9500e+18],\n",
      "          [-3.7279e+19, -3.2772e+19, -2.4451e+19,  ..., -1.0136e+19,\n",
      "           -1.8929e+17,  5.1985e+18]],\n",
      "\n",
      "         ...,\n",
      "\n",
      "         [[ 8.2069e+18,  2.0417e+18,  4.5149e+18,  ...,  2.5732e+17,\n",
      "           -5.4076e+18, -2.7583e+18],\n",
      "          [-3.5230e+18, -7.8816e+18, -6.3264e+18,  ..., -1.2797e+19,\n",
      "           -1.3697e+19, -1.2813e+19],\n",
      "          [ 5.1640e+18,  5.2751e+17, -7.3892e+18,  ..., -2.2837e+19,\n",
      "           -1.9974e+19, -1.6134e+19],\n",
      "          ...,\n",
      "          [ 1.0550e+20,  1.0015e+20,  1.1195e+20,  ...,  5.8230e+18,\n",
      "           -8.6374e+18, -8.9211e+18],\n",
      "          [ 7.2545e+19,  7.0684e+19,  8.6665e+19,  ...,  6.9198e+17,\n",
      "           -1.2172e+19, -9.3380e+18],\n",
      "          [ 6.8893e+19,  4.4339e+19,  6.0899e+19,  ..., -1.6031e+19,\n",
      "           -1.9469e+19, -1.5788e+19]],\n",
      "\n",
      "         [[-1.0478e+19,  2.6924e+19,  4.5556e+19,  ...,  4.2425e+19,\n",
      "            3.1741e+19,  1.2247e+19],\n",
      "          [-1.0770e+19,  5.1590e+18,  2.6180e+19,  ...,  1.9813e+19,\n",
      "            1.3248e+19,  1.0277e+19],\n",
      "          [-5.7446e+18,  1.5454e+19,  4.2836e+19,  ...,  2.4481e+19,\n",
      "            2.3284e+19,  1.6298e+19],\n",
      "          ...,\n",
      "          [-1.9107e+20, -2.0371e+20, -2.2816e+20,  ..., -1.9730e+20,\n",
      "           -1.5625e+20, -1.3134e+20],\n",
      "          [-1.7842e+20, -1.6008e+20, -1.9392e+20,  ..., -2.0445e+20,\n",
      "           -1.6639e+20, -1.2010e+20],\n",
      "          [-1.3263e+20, -1.1000e+20, -1.5643e+20,  ..., -1.7309e+20,\n",
      "           -1.3626e+20, -1.0870e+20]],\n",
      "\n",
      "         [[ 9.1418e+18, -2.6926e+18,  5.7544e+18,  ...,  8.0905e+18,\n",
      "            9.7715e+18,  4.8108e+18],\n",
      "          [-2.1430e+19, -1.9747e+19, -6.7707e+18,  ..., -8.3788e+18,\n",
      "            1.9949e+18,  2.8593e+18],\n",
      "          [-1.5264e+19, -1.5716e+19, -5.3616e+18,  ...,  1.0521e+18,\n",
      "            1.1395e+19,  1.3147e+19],\n",
      "          ...,\n",
      "          [-6.9578e+19, -7.0524e+19, -6.4139e+19,  ...,  3.8282e+19,\n",
      "            6.4145e+19,  6.5539e+19],\n",
      "          [-7.0491e+19, -7.9389e+19, -7.1931e+19,  ...,  3.6500e+19,\n",
      "            4.9409e+19,  4.9572e+19],\n",
      "          [-6.9738e+19, -8.1511e+19, -7.2774e+19,  ...,  2.9000e+19,\n",
      "            3.2520e+19,  2.8156e+19]]],\n",
      "\n",
      "\n",
      "        [[[-2.9624e+19, -3.3051e+19, -3.9378e+19,  ..., -3.4450e+19,\n",
      "           -2.8062e+19, -2.4601e+19],\n",
      "          [-3.2115e+19, -3.4326e+19, -3.8406e+19,  ..., -2.3162e+19,\n",
      "           -1.8312e+19, -1.5685e+19],\n",
      "          [-3.6715e+19, -3.6678e+19, -3.6611e+19,  ..., -2.3231e+18,\n",
      "           -3.1336e+17,  7.7525e+17],\n",
      "          ...,\n",
      "          [-4.9695e+19, -5.6531e+19, -6.9151e+19,  ..., -8.2325e+19,\n",
      "           -6.5905e+19, -5.7011e+19],\n",
      "          [-6.0959e+19, -7.2625e+19, -9.4161e+19,  ..., -7.0382e+19,\n",
      "           -5.5961e+19, -4.8149e+19],\n",
      "          [-6.7061e+19, -8.1343e+19, -1.0771e+20,  ..., -6.3914e+19,\n",
      "           -5.0574e+19, -4.3349e+19]],\n",
      "\n",
      "         [[ 5.0381e+19,  5.0029e+19,  4.9379e+19,  ...,  2.5142e+19,\n",
      "            1.2476e+19,  5.6151e+18],\n",
      "          [ 5.7947e+19,  5.8605e+19,  5.9820e+19,  ...,  3.6177e+19,\n",
      "            2.1699e+19,  1.3857e+19],\n",
      "          [ 7.1916e+19,  7.4439e+19,  7.9096e+19,  ...,  5.6548e+19,\n",
      "            3.8726e+19,  2.9072e+19],\n",
      "          ...,\n",
      "          [ 1.9912e+20,  2.1161e+20,  2.3467e+20,  ...,  1.4611e+20,\n",
      "            1.0904e+20,  8.8961e+19],\n",
      "          [ 1.4579e+20,  1.5560e+20,  1.7371e+20,  ...,  1.3581e+20,\n",
      "            1.0521e+20,  8.8639e+19],\n",
      "          [ 1.1690e+20,  1.2526e+20,  1.4069e+20,  ...,  1.3024e+20,\n",
      "            1.0314e+20,  8.8465e+19]],\n",
      "\n",
      "         [[-6.3416e+18, -1.1394e+18,  8.4647e+18,  ..., -7.9753e+18,\n",
      "           -1.2739e+19, -1.5319e+19],\n",
      "          [ 3.5390e+18,  9.6450e+18,  2.0918e+19,  ..., -1.8016e+16,\n",
      "           -7.1519e+18, -1.1016e+19],\n",
      "          [ 2.1780e+19,  2.9555e+19,  4.3908e+19,  ...,  1.4672e+19,\n",
      "            3.1624e+18, -3.0721e+18],\n",
      "          ...,\n",
      "          [-5.6558e+19, -5.1303e+19, -4.1603e+19,  ...,  1.3915e+19,\n",
      "            1.1759e+19,  1.0591e+19],\n",
      "          [-4.4270e+19, -3.9454e+19, -3.0563e+19,  ..., -1.8473e+18,\n",
      "            3.9305e+18,  7.0602e+18],\n",
      "          [-3.7615e+19, -3.3036e+19, -2.4582e+19,  ..., -1.0385e+19,\n",
      "           -3.0969e+17,  5.1479e+18]],\n",
      "\n",
      "         ...,\n",
      "\n",
      "         [[ 8.2081e+18,  2.0442e+18,  4.5209e+18,  ...,  1.7571e+17,\n",
      "           -5.4361e+18, -2.7867e+18],\n",
      "          [-3.5303e+18, -7.8882e+18, -6.3156e+18,  ..., -1.2891e+19,\n",
      "           -1.3745e+19, -1.2820e+19],\n",
      "          [ 5.1753e+18,  5.2976e+17, -7.3941e+18,  ..., -2.3011e+19,\n",
      "           -2.0009e+19, -1.6104e+19],\n",
      "          ...,\n",
      "          [ 1.0606e+20,  1.0066e+20,  1.1237e+20,  ...,  7.5886e+18,\n",
      "           -8.1133e+18, -9.0128e+18],\n",
      "          [ 7.3090e+19,  7.1275e+19,  8.7221e+19,  ...,  1.5807e+18,\n",
      "           -1.1891e+19, -9.4376e+18],\n",
      "          [ 6.9452e+19,  4.4931e+19,  6.1587e+19,  ..., -1.5550e+19,\n",
      "           -1.9321e+19, -1.5864e+19]],\n",
      "\n",
      "         [[-1.0486e+19,  2.6929e+19,  4.5542e+19,  ...,  4.2574e+19,\n",
      "            3.1860e+19,  1.2319e+19],\n",
      "          [-1.0767e+19,  5.1498e+18,  2.6174e+19,  ...,  1.9993e+19,\n",
      "            1.3354e+19,  1.0364e+19],\n",
      "          [-5.7481e+18,  1.5451e+19,  4.2840e+19,  ...,  2.4723e+19,\n",
      "            2.3433e+19,  1.6377e+19],\n",
      "          ...,\n",
      "          [-1.9142e+20, -2.0428e+20, -2.2901e+20,  ..., -2.0114e+20,\n",
      "           -1.5759e+20, -1.3137e+20],\n",
      "          [-1.7871e+20, -1.6051e+20, -1.9459e+20,  ..., -2.0763e+20,\n",
      "           -1.6759e+20, -1.2023e+20],\n",
      "          [-1.3279e+20, -1.1039e+20, -1.5699e+20,  ..., -1.7605e+20,\n",
      "           -1.3737e+20, -1.0886e+20]],\n",
      "\n",
      "         [[ 9.1232e+18, -2.7060e+18,  5.7336e+18,  ...,  8.0380e+18,\n",
      "            9.7236e+18,  4.7626e+18],\n",
      "          [-2.1433e+19, -1.9775e+19, -6.8181e+18,  ..., -8.5981e+18,\n",
      "            1.8463e+18,  2.7789e+18],\n",
      "          [-1.5294e+19, -1.5739e+19, -5.4212e+18,  ...,  5.6043e+17,\n",
      "            1.1116e+19,  1.2988e+19],\n",
      "          ...,\n",
      "          [-6.9973e+19, -7.0754e+19, -6.3968e+19,  ...,  3.5545e+19,\n",
      "            6.3222e+19,  6.5540e+19],\n",
      "          [-7.0595e+19, -7.9561e+19, -7.2194e+19,  ...,  3.4884e+19,\n",
      "            4.8869e+19,  4.9639e+19],\n",
      "          [-6.9624e+19, -8.1640e+19, -7.3216e+19,  ...,  2.7940e+19,\n",
      "            3.2215e+19,  2.8238e+19]]],\n",
      "\n",
      "\n",
      "        ...,\n",
      "\n",
      "\n",
      "        [[[-2.9626e+19, -3.3063e+19, -3.9408e+19,  ..., -3.4640e+19,\n",
      "           -2.8189e+19, -2.4695e+19],\n",
      "          [-3.2122e+19, -3.4349e+19, -3.8459e+19,  ..., -2.3517e+19,\n",
      "           -1.8591e+19, -1.5923e+19],\n",
      "          [-3.6731e+19, -3.6722e+19, -3.6707e+19,  ..., -2.9831e+18,\n",
      "           -8.7180e+17,  2.7181e+17],\n",
      "          ...,\n",
      "          [-3.8293e+19, -4.2435e+19, -5.0083e+19,  ..., -8.1762e+19,\n",
      "           -6.5690e+19, -5.6985e+19],\n",
      "          [-5.0848e+19, -5.8691e+19, -7.3170e+19,  ..., -6.9798e+19,\n",
      "           -5.5743e+19, -4.8130e+19],\n",
      "          [-5.7649e+19, -6.7496e+19, -8.5676e+19,  ..., -6.3318e+19,\n",
      "           -5.0355e+19, -4.3333e+19]],\n",
      "\n",
      "         [[ 5.0380e+19,  5.0029e+19,  4.9380e+19,  ...,  2.5160e+19,\n",
      "            1.2492e+19,  5.6299e+18],\n",
      "          [ 5.7955e+19,  5.8610e+19,  5.9820e+19,  ...,  3.6220e+19,\n",
      "            2.1756e+19,  1.3921e+19],\n",
      "          [ 7.1938e+19,  7.4453e+19,  7.9096e+19,  ...,  5.6638e+19,\n",
      "            3.8859e+19,  2.9229e+19],\n",
      "          ...,\n",
      "          [ 1.9599e+20,  2.0899e+20,  2.3300e+20,  ...,  1.4445e+20,\n",
      "            1.0844e+20,  8.8942e+19],\n",
      "          [ 1.3918e+20,  1.5223e+20,  1.7634e+20,  ...,  1.3433e+20,\n",
      "            1.0469e+20,  8.8633e+19],\n",
      "          [ 1.0840e+20,  1.2149e+20,  1.4564e+20,  ...,  1.2884e+20,\n",
      "            1.0265e+20,  8.8466e+19]],\n",
      "\n",
      "         [[-6.3635e+18, -1.1529e+18,  8.4666e+18,  ..., -8.0035e+18,\n",
      "           -1.2753e+19, -1.5326e+19],\n",
      "          [ 3.5262e+18,  9.6395e+18,  2.0926e+19,  ..., -1.6657e+17,\n",
      "           -7.2676e+18, -1.1114e+19],\n",
      "          [ 2.1784e+19,  2.9564e+19,  4.3927e+19,  ...,  1.4302e+19,\n",
      "            2.8602e+18, -3.3372e+18],\n",
      "          ...,\n",
      "          [-7.1188e+19, -7.5428e+19, -8.3256e+19,  ...,  1.4102e+19,\n",
      "            1.1842e+19,  1.0618e+19],\n",
      "          [-5.4765e+19, -6.1356e+19, -7.3526e+19,  ..., -1.7243e+18,\n",
      "            3.9843e+18,  7.0765e+18],\n",
      "          [-4.5869e+19, -5.3734e+19, -6.8255e+19,  ..., -1.0297e+19,\n",
      "           -2.7213e+17,  5.1579e+18]],\n",
      "\n",
      "         ...,\n",
      "\n",
      "         [[ 8.2316e+18,  2.0619e+18,  4.5378e+18,  ...,  2.5171e+17,\n",
      "           -5.3983e+18, -2.7543e+18],\n",
      "          [-3.5193e+18, -7.8703e+18, -6.3093e+18,  ..., -1.2802e+19,\n",
      "           -1.3694e+19, -1.2814e+19],\n",
      "          [ 5.1556e+18,  5.3899e+17, -7.3528e+18,  ..., -2.2839e+19,\n",
      "           -1.9951e+19, -1.6134e+19],\n",
      "          ...,\n",
      "          [ 1.1773e+20,  1.2313e+20,  1.5486e+20,  ...,  7.1382e+18,\n",
      "           -8.2406e+18, -9.0262e+18],\n",
      "          [ 8.4413e+19,  8.9896e+19,  1.1960e+20,  ...,  1.1154e+18,\n",
      "           -1.2057e+19, -9.4354e+18],\n",
      "          [ 8.0524e+19,  6.1585e+19,  8.8495e+19,  ..., -1.6071e+19,\n",
      "           -1.9520e+19, -1.5872e+19]],\n",
      "\n",
      "         [[-1.0464e+19,  2.6935e+19,  4.5555e+19,  ...,  4.2425e+19,\n",
      "            3.1754e+19,  1.2247e+19],\n",
      "          [-1.0764e+19,  5.1549e+18,  2.6171e+19,  ...,  1.9821e+19,\n",
      "            1.3250e+19,  1.0287e+19],\n",
      "          [-5.7377e+18,  1.5460e+19,  4.2868e+19,  ...,  2.4502e+19,\n",
      "            2.3304e+19,  1.6299e+19],\n",
      "          ...,\n",
      "          [-2.0580e+20, -2.0863e+20, -2.1486e+20,  ..., -2.0062e+20,\n",
      "           -1.5742e+20, -1.3136e+20],\n",
      "          [-1.9414e+20, -1.6618e+20, -1.8224e+20,  ..., -2.0697e+20,\n",
      "           -1.6736e+20, -1.2017e+20],\n",
      "          [-1.4886e+20, -1.1677e+20, -1.4562e+20,  ..., -1.7526e+20,\n",
      "           -1.3707e+20, -1.0881e+20]],\n",
      "\n",
      "         [[ 9.1404e+18, -2.6864e+18,  5.7140e+18,  ...,  8.0841e+18,\n",
      "            9.7706e+18,  4.8089e+18],\n",
      "          [-2.1438e+19, -1.9758e+19, -6.8133e+18,  ..., -8.3794e+18,\n",
      "            1.9876e+18,  2.8573e+18],\n",
      "          [-1.5262e+19, -1.5731e+19, -5.3888e+18,  ...,  1.0629e+18,\n",
      "            1.1403e+19,  1.3162e+19],\n",
      "          ...,\n",
      "          [-8.4217e+19, -9.0436e+19, -9.3616e+19,  ...,  3.6097e+19,\n",
      "            6.3398e+19,  6.5518e+19],\n",
      "          [-8.1611e+19, -9.4207e+19, -9.3700e+19,  ...,  3.5133e+19,\n",
      "            4.8953e+19,  4.9661e+19],\n",
      "          [-7.8941e+19, -9.3562e+19, -9.0032e+19,  ...,  2.8003e+19,\n",
      "            3.2279e+19,  2.8249e+19]]],\n",
      "\n",
      "\n",
      "        [[[-2.9632e+19, -3.3048e+19, -3.9354e+19,  ..., -3.4628e+19,\n",
      "           -2.8186e+19, -2.4697e+19],\n",
      "          [-3.2123e+19, -3.4334e+19, -3.8417e+19,  ..., -2.3485e+19,\n",
      "           -1.8579e+19, -1.5922e+19],\n",
      "          [-3.6722e+19, -3.6710e+19, -3.6687e+19,  ..., -2.9140e+18,\n",
      "           -8.4334e+17,  2.7829e+17],\n",
      "          ...,\n",
      "          [-4.9862e+19, -5.6782e+19, -6.9558e+19,  ..., -8.2330e+19,\n",
      "           -6.5895e+19, -5.6993e+19],\n",
      "          [-6.1098e+19, -7.2878e+19, -9.4627e+19,  ..., -7.0390e+19,\n",
      "           -5.5959e+19, -4.8143e+19],\n",
      "          [-6.7184e+19, -8.1597e+19, -1.0821e+20,  ..., -6.3923e+19,\n",
      "           -5.0577e+19, -4.3349e+19]],\n",
      "\n",
      "         [[ 5.0387e+19,  5.0034e+19,  4.9382e+19,  ...,  2.5155e+19,\n",
      "            1.2487e+19,  5.6254e+18],\n",
      "          [ 5.7954e+19,  5.8616e+19,  5.9839e+19,  ...,  3.6176e+19,\n",
      "            2.1739e+19,  1.3918e+19],\n",
      "          [ 7.1924e+19,  7.4461e+19,  7.9143e+19,  ...,  5.6524e+19,\n",
      "            3.8819e+19,  2.9228e+19],\n",
      "          ...,\n",
      "          [ 1.9934e+20,  2.1193e+20,  2.3516e+20,  ...,  1.4602e+20,\n",
      "            1.0904e+20,  8.9009e+19],\n",
      "          [ 1.4592e+20,  1.5577e+20,  1.7397e+20,  ...,  1.3577e+20,\n",
      "            1.0521e+20,  8.8659e+19],\n",
      "          [ 1.1698e+20,  1.2536e+20,  1.4082e+20,  ...,  1.3022e+20,\n",
      "            1.0314e+20,  8.8469e+19]],\n",
      "\n",
      "         [[-6.3396e+18, -1.1312e+18,  8.4842e+18,  ..., -7.9967e+18,\n",
      "           -1.2755e+19, -1.5333e+19],\n",
      "          [ 3.5452e+18,  9.6675e+18,  2.0970e+19,  ..., -1.9335e+17,\n",
      "           -7.2777e+18, -1.1115e+19],\n",
      "          [ 2.1794e+19,  2.9604e+19,  4.4021e+19,  ...,  1.4213e+19,\n",
      "            2.8346e+18, -3.3286e+18],\n",
      "          ...,\n",
      "          [-5.6474e+19, -5.1077e+19, -4.1115e+19,  ...,  1.4032e+19,\n",
      "            1.1817e+19,  1.0617e+19],\n",
      "          [-4.4259e+19, -3.9417e+19, -3.0478e+19,  ..., -1.7822e+18,\n",
      "            3.9539e+18,  7.0610e+18],\n",
      "          [-3.7643e+19, -3.3101e+19, -2.4716e+19,  ..., -1.0348e+19,\n",
      "           -3.0513e+17,  5.1348e+18]],\n",
      "\n",
      "         ...,\n",
      "\n",
      "         [[ 8.2266e+18,  2.0581e+18,  4.5214e+18,  ...,  2.6622e+17,\n",
      "           -5.3972e+18, -2.7504e+18],\n",
      "          [-3.5349e+18, -7.8862e+18, -6.3208e+18,  ..., -1.2813e+19,\n",
      "           -1.3702e+19, -1.2816e+19],\n",
      "          [ 5.1502e+18,  5.2589e+17, -7.3805e+18,  ..., -2.2890e+19,\n",
      "           -1.9996e+19, -1.6163e+19],\n",
      "          ...,\n",
      "          [ 1.0610e+20,  1.0100e+20,  1.1328e+20,  ...,  7.5666e+18,\n",
      "           -8.0681e+18, -8.9844e+18],\n",
      "          [ 7.3111e+19,  7.1466e+19,  8.7847e+19,  ...,  1.5872e+18,\n",
      "           -1.1875e+19, -9.4007e+18],\n",
      "          [ 6.9470e+19,  4.5132e+19,  6.1971e+19,  ..., -1.5572e+19,\n",
      "           -1.9342e+19, -1.5870e+19]],\n",
      "\n",
      "         [[-1.0485e+19,  2.6927e+19,  4.5548e+19,  ...,  4.2422e+19,\n",
      "            3.1742e+19,  1.2243e+19],\n",
      "          [-1.0768e+19,  5.1477e+18,  2.6172e+19,  ...,  1.9824e+19,\n",
      "            1.3263e+19,  1.0280e+19],\n",
      "          [-5.7235e+18,  1.5447e+19,  4.2855e+19,  ...,  2.4536e+19,\n",
      "            2.3320e+19,  1.6306e+19],\n",
      "          ...,\n",
      "          [-1.9146e+20, -2.0429e+20, -2.2915e+20,  ..., -2.0101e+20,\n",
      "           -1.5757e+20, -1.3137e+20],\n",
      "          [-1.7871e+20, -1.6061e+20, -1.9492e+20,  ..., -2.0760e+20,\n",
      "           -1.6757e+20, -1.2021e+20],\n",
      "          [-1.3289e+20, -1.1055e+20, -1.5743e+20,  ..., -1.7598e+20,\n",
      "           -1.3734e+20, -1.0887e+20]],\n",
      "\n",
      "         [[ 9.1128e+18, -2.7021e+18,  5.7486e+18,  ...,  8.0766e+18,\n",
      "            9.7567e+18,  4.8147e+18],\n",
      "          [-2.1439e+19, -1.9761e+19, -6.7853e+18,  ..., -8.4147e+18,\n",
      "            1.9843e+18,  2.8589e+18],\n",
      "          [-1.5279e+19, -1.5742e+19, -5.3652e+18,  ...,  1.0242e+18,\n",
      "            1.1385e+19,  1.3141e+19],\n",
      "          ...,\n",
      "          [-6.9956e+19, -7.1250e+19, -6.5374e+19,  ...,  3.5573e+19,\n",
      "            6.3174e+19,  6.5527e+19],\n",
      "          [-7.0587e+19, -7.9764e+19, -7.2745e+19,  ...,  3.4895e+19,\n",
      "            4.8866e+19,  4.9641e+19],\n",
      "          [-6.9631e+19, -8.1647e+19, -7.3332e+19,  ...,  2.7969e+19,\n",
      "            3.2224e+19,  2.8216e+19]]],\n",
      "\n",
      "\n",
      "        [[[-2.9623e+19, -3.3046e+19, -3.9366e+19,  ..., -3.4636e+19,\n",
      "           -2.8192e+19, -2.4701e+19],\n",
      "          [-3.2122e+19, -3.4344e+19, -3.8447e+19,  ..., -2.3510e+19,\n",
      "           -1.8594e+19, -1.5932e+19],\n",
      "          [-3.6735e+19, -3.6741e+19, -3.6751e+19,  ..., -2.9711e+18,\n",
      "           -8.7633e+17,  2.5836e+17],\n",
      "          ...,\n",
      "          [-4.8979e+19, -5.4567e+19, -6.4883e+19,  ..., -8.2457e+19,\n",
      "           -6.5946e+19, -5.7002e+19],\n",
      "          [-5.9557e+19, -7.0949e+19, -9.1981e+19,  ..., -7.0569e+19,\n",
      "           -5.6018e+19, -4.8136e+19],\n",
      "          [-6.5287e+19, -7.9823e+19, -1.0666e+20,  ..., -6.4129e+19,\n",
      "           -5.0641e+19, -4.3334e+19]],\n",
      "\n",
      "         [[ 5.0380e+19,  5.0027e+19,  4.9377e+19,  ...,  2.5155e+19,\n",
      "            1.2489e+19,  5.6277e+18],\n",
      "          [ 5.7952e+19,  5.8609e+19,  5.9823e+19,  ...,  3.6208e+19,\n",
      "            2.1756e+19,  1.3928e+19],\n",
      "          [ 7.1932e+19,  7.4453e+19,  7.9106e+19,  ...,  5.6613e+19,\n",
      "            3.8866e+19,  2.9252e+19],\n",
      "          ...,\n",
      "          [ 1.9829e+20,  2.1101e+20,  2.3449e+20,  ...,  1.4591e+20,\n",
      "            1.0898e+20,  8.8977e+19],\n",
      "          [ 1.4534e+20,  1.5519e+20,  1.7338e+20,  ...,  1.3571e+20,\n",
      "            1.0518e+20,  8.8637e+19],\n",
      "          [ 1.1666e+20,  1.2496e+20,  1.4028e+20,  ...,  1.3018e+20,\n",
      "            1.0312e+20,  8.8453e+19]],\n",
      "\n",
      "         [[-6.3417e+18, -1.1277e+18,  8.4980e+18,  ..., -7.9971e+18,\n",
      "           -1.2752e+19, -1.5327e+19],\n",
      "          [ 3.5398e+18,  9.6568e+18,  2.0950e+19,  ..., -1.4924e+17,\n",
      "           -7.2582e+18, -1.1109e+19],\n",
      "          [ 2.1782e+19,  2.9567e+19,  4.3938e+19,  ...,  1.4339e+19,\n",
      "            2.8833e+18, -3.3219e+18],\n",
      "          ...,\n",
      "          [-5.4752e+19, -5.1755e+19, -4.6223e+19,  ...,  1.3731e+19,\n",
      "            1.1698e+19,  1.0597e+19],\n",
      "          [-4.2628e+19, -3.9280e+19, -3.3098e+19,  ..., -2.0365e+18,\n",
      "            3.8667e+18,  7.0643e+18],\n",
      "          [-3.6061e+19, -3.2523e+19, -2.5989e+19,  ..., -1.0577e+19,\n",
      "           -3.7533e+17,  5.1508e+18]],\n",
      "\n",
      "         ...,\n",
      "\n",
      "         [[ 8.2138e+18,  2.0526e+18,  4.5092e+18,  ...,  2.6149e+17,\n",
      "           -5.3928e+18, -2.7517e+18],\n",
      "          [-3.5391e+18, -7.8949e+18, -6.3090e+18,  ..., -1.2798e+19,\n",
      "           -1.3685e+19, -1.2819e+19],\n",
      "          [ 5.1556e+18,  5.3827e+17, -7.3390e+18,  ..., -2.2811e+19,\n",
      "           -1.9967e+19, -1.6143e+19],\n",
      "          ...,\n",
      "          [ 1.0491e+20,  1.0168e+20,  1.1750e+20,  ...,  7.5310e+18,\n",
      "           -8.1186e+18, -9.0450e+18],\n",
      "          [ 7.1774e+19,  7.1283e+19,  8.9759e+19,  ...,  1.5766e+18,\n",
      "           -1.1943e+19, -9.4202e+18],\n",
      "          [ 6.8124e+19,  4.4487e+19,  6.2654e+19,  ..., -1.5568e+19,\n",
      "           -1.9346e+19, -1.5886e+19]],\n",
      "\n",
      "         [[-1.0480e+19,  2.6929e+19,  4.5548e+19,  ...,  4.2414e+19,\n",
      "            3.1745e+19,  1.2245e+19],\n",
      "          [-1.0765e+19,  5.1530e+18,  2.6178e+19,  ...,  1.9812e+19,\n",
      "            1.3242e+19,  1.0276e+19],\n",
      "          [-5.7509e+18,  1.5453e+19,  4.2841e+19,  ...,  2.4454e+19,\n",
      "            2.3278e+19,  1.6286e+19],\n",
      "          ...,\n",
      "          [-1.9066e+20, -2.0271e+20, -2.2622e+20,  ..., -2.0117e+20,\n",
      "           -1.5763e+20, -1.3137e+20],\n",
      "          [-1.7800e+20, -1.5932e+20, -1.9269e+20,  ..., -2.0768e+20,\n",
      "           -1.6758e+20, -1.2019e+20],\n",
      "          [-1.3212e+20, -1.0942e+20, -1.5553e+20,  ..., -1.7606e+20,\n",
      "           -1.3738e+20, -1.0881e+20]],\n",
      "\n",
      "         [[ 9.1255e+18, -2.7019e+18,  5.7307e+18,  ...,  8.0747e+18,\n",
      "            9.7630e+18,  4.8146e+18],\n",
      "          [-2.1442e+19, -1.9760e+19, -6.8017e+18,  ..., -8.3899e+18,\n",
      "            1.9881e+18,  2.8547e+18],\n",
      "          [-1.5274e+19, -1.5735e+19, -5.4057e+18,  ...,  1.0571e+18,\n",
      "            1.1410e+19,  1.3156e+19],\n",
      "          ...,\n",
      "          [-6.9153e+19, -7.1915e+19, -6.8666e+19,  ...,  3.5616e+19,\n",
      "            6.3231e+19,  6.5528e+19],\n",
      "          [-7.0248e+19, -8.0514e+19, -7.5565e+19,  ...,  3.4884e+19,\n",
      "            4.8847e+19,  4.9640e+19],\n",
      "          [-6.9544e+19, -8.2506e+19, -7.5833e+19,  ...,  2.7973e+19,\n",
      "            3.2220e+19,  2.8245e+19]]]], device='cuda:0')\n",
      "Loaded tensor shape: torch.Size([8, 256, 23, 23])\n",
      "Contains NaN: False\n"
     ]
    }
   ],
   "source": [
    "import torch\n",
    "\n",
    "# 파일에서 텐서를 불러오기\n",
    "loaded_tensor_ = torch.load('11.pt')\n",
    "\n",
    "print(loaded_tensor_)\n",
    "print(f\"Loaded tensor shape: {loaded_tensor_.shape}\")\n",
    "print(f\"Contains NaN: {torch.isnan(loaded_tensor_).any()}\")"
   ]
  },
  {
   "cell_type": "code",
   "execution_count": 3,
   "metadata": {},
   "outputs": [
    {
     "data": {
      "text/plain": [
       "tensor(0.5164, device='cuda:0')"
      ]
     },
     "execution_count": 3,
     "metadata": {},
     "output_type": "execute_result"
    }
   ],
   "source": [
    "loaded_tensor_.var()"
   ]
  },
  {
   "cell_type": "code",
   "execution_count": 64,
   "metadata": {},
   "outputs": [],
   "source": [
    "from LayoutDM import CLDM"
   ]
  },
  {
   "cell_type": "code",
   "execution_count": 65,
   "metadata": {},
   "outputs": [],
   "source": [
    "a = CLDM()"
   ]
  },
  {
   "cell_type": "code",
   "execution_count": 68,
   "metadata": {},
   "outputs": [
    {
     "data": {
      "text/plain": [
       "Conv2d(3, 64, kernel_size=(7, 7), stride=(2, 2), padding=(3, 3), bias=False)"
      ]
     },
     "execution_count": 68,
     "metadata": {},
     "output_type": "execute_result"
    }
   ],
   "source": [
    "a.extractor.body"
   ]
  },
  {
   "cell_type": "code",
   "execution_count": 69,
   "metadata": {},
   "outputs": [],
   "source": [
    "def check_requires_grad(model):\n",
    "    for name, param in model.named_parameters():\n",
    "        if param.requires_grad:\n",
    "            print(f\"Parameter '{name}' requires gradient.\")\n",
    "            return False\n",
    "    print(\"All parameters require_grad = False.\")\n",
    "    return True"
   ]
  },
  {
   "cell_type": "code",
   "execution_count": 70,
   "metadata": {},
   "outputs": [
    {
     "name": "stdout",
     "output_type": "stream",
     "text": [
      "All parameters require_grad = False.\n"
     ]
    },
    {
     "data": {
      "text/plain": [
       "True"
      ]
     },
     "execution_count": 70,
     "metadata": {},
     "output_type": "execute_result"
    }
   ],
   "source": [
    "check_requires_grad(a.extractor.body)"
   ]
  },
  {
   "cell_type": "code",
   "execution_count": null,
   "metadata": {},
   "outputs": [],
   "source": []
  }
 ],
 "metadata": {
  "kernelspec": {
   "display_name": "layout",
   "language": "python",
   "name": "python3"
  },
  "language_info": {
   "codemirror_mode": {
    "name": "ipython",
    "version": 3
   },
   "file_extension": ".py",
   "mimetype": "text/x-python",
   "name": "python",
   "nbconvert_exporter": "python",
   "pygments_lexer": "ipython3",
   "version": "3.9.19"
  }
 },
 "nbformat": 4,
 "nbformat_minor": 2
}

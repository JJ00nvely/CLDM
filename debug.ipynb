{
 "cells": [
  {
   "cell_type": "code",
   "execution_count": 1,
   "metadata": {},
   "outputs": [
    {
     "name": "stderr",
     "output_type": "stream",
     "text": [
      "/workspace/joonsm/anaconda3/envs/CLDM/lib/python3.9/site-packages/tqdm/auto.py:21: TqdmWarning: IProgress not found. Please update jupyter and ipywidgets. See https://ipywidgets.readthedocs.io/en/stable/user_install.html\n",
      "  from .autonotebook import tqdm as notebook_tqdm\n"
     ]
    }
   ],
   "source": [
    "from datavideo import VideoLayout\n",
    "from torch.utils.data import DataLoader"
   ]
  },
  {
   "cell_type": "code",
   "execution_count": 2,
   "metadata": {},
   "outputs": [],
   "source": [
    "import matplotlib.pyplot as plt\n",
    "import torch\n",
    "import matplotlib.patches as patches"
   ]
  },
  {
   "cell_type": "code",
   "execution_count": 3,
   "metadata": {},
   "outputs": [],
   "source": [
    "vid = VideoLayout(type='train')"
   ]
  },
  {
   "cell_type": "code",
   "execution_count": 4,
   "metadata": {},
   "outputs": [],
   "source": [
    "loader = DataLoader(vid, batch_size=2)"
   ]
  },
  {
   "cell_type": "code",
   "execution_count": 5,
   "metadata": {},
   "outputs": [],
   "source": [
    "src = next(iter(loader))"
   ]
  },
  {
   "cell_type": "code",
   "execution_count": 10,
   "metadata": {},
   "outputs": [],
   "source": [
    "bbox = src['box_cond']"
   ]
  },
  {
   "cell_type": "code",
   "execution_count": 11,
   "metadata": {},
   "outputs": [
    {
     "data": {
      "text/plain": [
       "tensor([[[ 0.4750,  0.2367, -0.8025, -0.7300],\n",
       "         [ 0.4675,  0.2367, -0.7975, -0.7300],\n",
       "         [ 0.4550,  0.2467, -0.7850, -0.7200],\n",
       "         [ 0.4350,  0.2633, -0.7700, -0.7033],\n",
       "         [ 0.4050,  0.2833, -0.7525, -0.6767],\n",
       "         [ 0.3725,  0.3100, -0.7325, -0.6467],\n",
       "         [ 0.3325,  0.3400, -0.7025, -0.6133],\n",
       "         [ 0.2825,  0.3767, -0.6650, -0.5700],\n",
       "         [ 0.2175,  0.4267, -0.6150, -0.5133],\n",
       "         [ 0.1250,  0.4733, -0.5275, -0.4667],\n",
       "         [ 0.0050,  0.4867, -0.4525, -0.4867],\n",
       "         [-0.1500,  0.4600, -0.4275, -0.5833],\n",
       "         [-0.2475,  0.4433, -0.4675, -0.5700],\n",
       "         [-0.3225,  0.4200, -0.5350, -0.5567],\n",
       "         [-0.3925,  0.3833, -0.6125, -0.5800],\n",
       "         [-0.4550,  0.3433, -0.6750, -0.6167]],\n",
       "\n",
       "        [[-0.5100,  0.3067, -0.7175, -0.6567],\n",
       "         [-0.5600,  0.2733, -0.7475, -0.6933],\n",
       "         [-0.6025,  0.2433, -0.7700, -0.7233],\n",
       "         [-0.6425,  0.2200, -0.7900, -0.7500],\n",
       "         [-0.6775,  0.1967, -0.8050, -0.7733],\n",
       "         [-0.7075,  0.1800, -0.8200, -0.7900],\n",
       "         [-0.7350,  0.1633, -0.8325, -0.8067],\n",
       "         [-0.7600,  0.1467, -0.8425, -0.8200],\n",
       "         [-0.7800,  0.1333, -0.8525, -0.8333],\n",
       "         [-0.8000,  0.1233, -0.8600, -0.8433],\n",
       "         [-0.8175,  0.1133, -0.8700, -0.8500],\n",
       "         [-0.8300,  0.1033, -0.8750, -0.8600],\n",
       "         [-0.8350,  0.1033, -0.8775, -0.8600],\n",
       "         [-0.8425,  0.1000, -0.8800, -0.8633],\n",
       "         [-0.8475,  0.0967, -0.8825, -0.8667],\n",
       "         [-0.8500,  0.0933, -0.8825, -0.8700]]])"
      ]
     },
     "execution_count": 11,
     "metadata": {},
     "output_type": "execute_result"
    }
   ],
   "source": [
    "bbox"
   ]
  },
  {
   "cell_type": "code",
   "execution_count": 28,
   "metadata": {},
   "outputs": [],
   "source": [
    "index = 0"
   ]
  },
  {
   "cell_type": "code",
   "execution_count": 7,
   "metadata": {},
   "outputs": [],
   "source": [
    "import torch\n",
    "import torch.nn as nn"
   ]
  },
  {
   "cell_type": "code",
   "execution_count": 8,
   "metadata": {},
   "outputs": [],
   "source": [
    "from loss import bbox_pair_tv_loss"
   ]
  },
  {
   "cell_type": "code",
   "execution_count": 19,
   "metadata": {},
   "outputs": [],
   "source": [
    "from einops import rearrange"
   ]
  },
  {
   "cell_type": "code",
   "execution_count": 12,
   "metadata": {},
   "outputs": [
    {
     "data": {
      "text/plain": [
       "torch.Size([2, 16, 4])"
      ]
     },
     "execution_count": 12,
     "metadata": {},
     "output_type": "execute_result"
    }
   ],
   "source": [
    "bbox.size()"
   ]
  },
  {
   "cell_type": "code",
   "execution_count": 20,
   "metadata": {},
   "outputs": [],
   "source": [
    "bbb = rearrange(bbox, 'b c d -> (b c) d')"
   ]
  },
  {
   "cell_type": "code",
   "execution_count": 15,
   "metadata": {},
   "outputs": [
    {
     "data": {
      "text/plain": [
       "torch.Size([2, 16, 4])"
      ]
     },
     "execution_count": 15,
     "metadata": {},
     "output_type": "execute_result"
    }
   ],
   "source": [
    "bbox"
   ]
  },
  {
   "cell_type": "code",
   "execution_count": 22,
   "metadata": {},
   "outputs": [
    {
     "data": {
      "text/plain": [
       "torch.Size([32, 4])"
      ]
     },
     "execution_count": 22,
     "metadata": {},
     "output_type": "execute_result"
    }
   ],
   "source": [
    "bbb.size()"
   ]
  },
  {
   "cell_type": "code",
   "execution_count": 22,
   "metadata": {},
   "outputs": [
    {
     "data": {
      "text/plain": [
       "torch.Size([32, 4])"
      ]
     },
     "execution_count": 22,
     "metadata": {},
     "output_type": "execute_result"
    }
   ],
   "source": [
    "bbb.size()"
   ]
  },
  {
   "cell_type": "code",
   "execution_count": 20,
   "metadata": {},
   "outputs": [
    {
     "data": {
      "text/plain": [
       "tensor(0.1115)"
      ]
     },
     "execution_count": 20,
     "metadata": {},
     "output_type": "execute_result"
    }
   ],
   "source": [
    "bbox_pair_tv_loss(bbb)"
   ]
  },
  {
   "cell_type": "code",
   "execution_count": null,
   "metadata": {},
   "outputs": [
    {
     "data": {
      "text/plain": [
       "2"
      ]
     },
     "execution_count": 44,
     "metadata": {},
     "output_type": "execute_result"
    }
   ],
   "source": [
    "bbb.shape[0]//16"
   ]
  },
  {
   "cell_type": "code",
   "execution_count": null,
   "metadata": {},
   "outputs": [],
   "source": []
  }
 ],
 "metadata": {
  "kernelspec": {
   "display_name": "layout",
   "language": "python",
   "name": "python3"
  },
  "language_info": {
   "codemirror_mode": {
    "name": "ipython",
    "version": 3
   },
   "file_extension": ".py",
   "mimetype": "text/x-python",
   "name": "python",
   "nbconvert_exporter": "python",
   "pygments_lexer": "ipython3",
   "version": "3.9.19"
  }
 },
 "nbformat": 4,
 "nbformat_minor": 2
}

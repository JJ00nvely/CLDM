{
 "cells": [
  {
   "cell_type": "code",
   "execution_count": 1,
   "metadata": {},
   "outputs": [
    {
     "name": "stderr",
     "output_type": "stream",
     "text": [
      "/data1/joonsm/anaconda3/envs/CLDM/lib/python3.9/site-packages/tqdm/auto.py:21: TqdmWarning: IProgress not found. Please update jupyter and ipywidgets. See https://ipywidgets.readthedocs.io/en/stable/user_install.html\n",
      "  from .autonotebook import tqdm as notebook_tqdm\n"
     ]
    }
   ],
   "source": [
    "import torch.nn.functional as F\n",
    "import torch.nn as nn\n",
    "from einops import rearrange\n",
    "from torch import Tensor\n",
    "import torch\n",
    "from torch.utils.data import DataLoader\n",
    "from dataset import ImageLayout\n",
    "from extractor.image import ImageEncoder, ImageFeatureExtractor\n",
    "from extractor.positional_encoding import build_position_encoding_1d\n",
    "from cgllike import CLDM\n",
    "from diffusers import DDPMScheduler\n",
    "import os\n",
    "from PIL import Image\n",
    "from PIL import ImageDraw\n",
    "from cgllike import CLDM"
   ]
  },
  {
   "cell_type": "code",
   "execution_count": 2,
   "metadata": {},
   "outputs": [
    {
     "name": "stderr",
     "output_type": "stream",
     "text": [
      "\u001b[32m2024-09-09 23:32:54.223\u001b[0m \u001b[1;30mINFO    \u001b[0m \u001b[34mlogger_set:26\u001b[0m -> Loading the resnet50 encoder\n",
      "/data1/joonsm/anaconda3/envs/CLDM/lib/python3.9/site-packages/torch/overrides.py:110: UserWarning: 'has_cuda' is deprecated, please use 'torch.backends.cuda.is_built()'\n",
      "  torch.has_cuda,\n",
      "/data1/joonsm/anaconda3/envs/CLDM/lib/python3.9/site-packages/torch/overrides.py:111: UserWarning: 'has_cudnn' is deprecated, please use 'torch.backends.cudnn.is_available()'\n",
      "  torch.has_cudnn,\n",
      "/data1/joonsm/anaconda3/envs/CLDM/lib/python3.9/site-packages/torch/overrides.py:117: UserWarning: 'has_mps' is deprecated, please use 'torch.backends.mps.is_built()'\n",
      "  torch.has_mps,\n",
      "/data1/joonsm/anaconda3/envs/CLDM/lib/python3.9/site-packages/torch/overrides.py:118: UserWarning: 'has_mkldnn' is deprecated, please use 'torch.backends.mkldnn.is_available()'\n",
      "  torch.has_mkldnn,\n",
      "/data1/joonsm/anaconda3/envs/CLDM/lib/python3.9/site-packages/torch/nn/modules/transformer.py:282: UserWarning: enable_nested_tensor is True, but self.use_nested_tensor is False because encoder_layer.norm_first was True\n",
      "  warnings.warn(f\"enable_nested_tensor is True, but self.use_nested_tensor is False because {why_not_sparsity_fast_path}\")\n"
     ]
    }
   ],
   "source": [
    "model = CLDM(backbone_name='resnet50')"
   ]
  },
  {
   "cell_type": "code",
   "execution_count": 3,
   "metadata": {},
   "outputs": [],
   "source": [
    "num_params = sum(p.numel() for p in model.parameters() if p.requires_grad)"
   ]
  },
  {
   "cell_type": "code",
   "execution_count": 4,
   "metadata": {},
   "outputs": [],
   "source": [
    "def log_layer_params(model):\n",
    "    print(\"Layer-wise parameter count:\")\n",
    "    for name, layer in model.named_children():\n",
    "        # 각 레이어의 파라미터 수 계산\n",
    "        num_params = sum(p.numel() for p in layer.parameters() if p.requires_grad)\n",
    "        print(f\"{name}: {num_params} parameters\")"
   ]
  },
  {
   "cell_type": "code",
   "execution_count": 5,
   "metadata": {},
   "outputs": [
    {
     "name": "stdout",
     "output_type": "stream",
     "text": [
      "Layer-wise parameter count:\n",
      "encoder: 28656576 parameters\n",
      "pos_emb_1d: 0 parameters\n",
      "embed_timestep: 131584 parameters\n",
      "decoder: 4745216 parameters\n",
      "x_emb: 512 parameters\n",
      "y_emb: 512 parameters\n",
      "w_emb: 512 parameters\n",
      "h_emb: 512 parameters\n",
      "decode: 257 parameters\n"
     ]
    }
   ],
   "source": [
    "log_layer_params(model)"
   ]
  }
 ],
 "metadata": {
  "kernelspec": {
   "display_name": "layout",
   "language": "python",
   "name": "python3"
  },
  "language_info": {
   "codemirror_mode": {
    "name": "ipython",
    "version": 3
   },
   "file_extension": ".py",
   "mimetype": "text/x-python",
   "name": "python",
   "nbconvert_exporter": "python",
   "pygments_lexer": "ipython3",
   "version": "3.9.19"
  }
 },
 "nbformat": 4,
 "nbformat_minor": 2
}

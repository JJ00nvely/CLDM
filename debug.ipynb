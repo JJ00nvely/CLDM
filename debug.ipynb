{
 "cells": [
  {
   "cell_type": "code",
   "execution_count": 22,
   "metadata": {},
   "outputs": [],
   "source": [
    "import torch\n",
    "from LayoutDM import CLDM"
   ]
  },
  {
   "cell_type": "code",
   "execution_count": 23,
   "metadata": {},
   "outputs": [],
   "source": [
    "dict =torch.load('/workspace/joonsm/City_Layout/log_dir/baseline_512/checkpoints/checkpoint-150/pytorch_model.bin')"
   ]
  },
  {
   "cell_type": "code",
   "execution_count": 24,
   "metadata": {},
   "outputs": [],
   "source": [
    "a = CLDM(use_temp=True)"
   ]
  },
  {
   "cell_type": "code",
   "execution_count": 31,
   "metadata": {},
   "outputs": [
    {
     "data": {
      "text/plain": [
       "tempcoder(\n",
       "  (self_attention): MultiHeadAttentionLayer(\n",
       "    (q_fc): Linear(in_features=256, out_features=256, bias=True)\n",
       "    (k_fc): Linear(in_features=256, out_features=256, bias=True)\n",
       "    (v_fc): Linear(in_features=256, out_features=256, bias=True)\n",
       "    (out_fc): Linear(in_features=256, out_features=256, bias=True)\n",
       "    (dropout): Dropout(p=0.0, inplace=False)\n",
       "  )\n",
       "  (temp_attention): MultiHeadAttentionLayer(\n",
       "    (q_fc): Linear(in_features=256, out_features=256, bias=True)\n",
       "    (k_fc): Linear(in_features=256, out_features=256, bias=True)\n",
       "    (v_fc): Linear(in_features=256, out_features=256, bias=True)\n",
       "    (out_fc): Linear(in_features=256, out_features=256, bias=True)\n",
       "    (dropout): Dropout(p=0.0, inplace=False)\n",
       "  )\n",
       "  (position_ff): PositionWiseFeedForwardLayer(\n",
       "    (fc1): Linear(in_features=256, out_features=512, bias=True)\n",
       "    (relu): ReLU()\n",
       "    (dropout): Dropout(p=0.0, inplace=False)\n",
       "    (fc2): Linear(in_features=512, out_features=256, bias=True)\n",
       "  )\n",
       "  (residual1): ResidualConnectionLayer(\n",
       "    (norm): LayerNorm((256,), eps=1e-05, elementwise_affine=True)\n",
       "    (dropout): Dropout(p=0.0, inplace=False)\n",
       "  )\n",
       "  (residual2): ResidualConnectionLayer(\n",
       "    (norm): LayerNorm((256,), eps=1e-05, elementwise_affine=True)\n",
       "    (dropout): Dropout(p=0.0, inplace=False)\n",
       "  )\n",
       "  (residual3): ResidualConnectionLayer(\n",
       "    (norm): LayerNorm((256,), eps=1e-05, elementwise_affine=True)\n",
       "    (dropout): Dropout(p=0.0, inplace=False)\n",
       "  )\n",
       ")"
      ]
     },
     "execution_count": 31,
     "metadata": {},
     "output_type": "execute_result"
    }
   ],
   "source": [
    "a.transformer.encoder.layers[0]"
   ]
  },
  {
   "cell_type": "code",
   "execution_count": 19,
   "metadata": {},
   "outputs": [],
   "source": [
    "a =torch.rand(1,2)"
   ]
  },
  {
   "cell_type": "code",
   "execution_count": 21,
   "metadata": {},
   "outputs": [
    {
     "data": {
      "text/plain": [
       "torch.Size([1, 2])"
      ]
     },
     "execution_count": 21,
     "metadata": {},
     "output_type": "execute_result"
    }
   ],
   "source": [
    "\n",
    "\n",
    "a.size()"
   ]
  },
  {
   "cell_type": "code",
   "execution_count": null,
   "metadata": {},
   "outputs": [],
   "source": []
  }
 ],
 "metadata": {
  "kernelspec": {
   "display_name": "layout",
   "language": "python",
   "name": "python3"
  },
  "language_info": {
   "codemirror_mode": {
    "name": "ipython",
    "version": 3
   },
   "file_extension": ".py",
   "mimetype": "text/x-python",
   "name": "python",
   "nbconvert_exporter": "python",
   "pygments_lexer": "ipython3",
   "version": "3.9.19"
  }
 },
 "nbformat": 4,
 "nbformat_minor": 2
}

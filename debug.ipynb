{
 "cells": [
  {
   "cell_type": "code",
   "execution_count": 1,
   "metadata": {},
   "outputs": [],
   "source": [
    "from loss import giou"
   ]
  },
  {
   "cell_type": "code",
   "execution_count": 2,
   "metadata": {},
   "outputs": [
    {
     "name": "stderr",
     "output_type": "stream",
     "text": [
      "/workspace/joonsm/anaconda3/envs/CLDM/lib/python3.9/site-packages/tqdm/auto.py:21: TqdmWarning: IProgress not found. Please update jupyter and ipywidgets. See https://ipywidgets.readthedocs.io/en/stable/user_install.html\n",
      "  from .autonotebook import tqdm as notebook_tqdm\n"
     ]
    }
   ],
   "source": [
    "from dataset import ImageLayout\n",
    "from torch.utils.data import DataLoader"
   ]
  },
  {
   "cell_type": "code",
   "execution_count": 3,
   "metadata": {},
   "outputs": [],
   "source": [
    "a = ImageLayout()"
   ]
  },
  {
   "cell_type": "code",
   "execution_count": 4,
   "metadata": {},
   "outputs": [],
   "source": [
    "loader = DataLoader(a, batch_size=512)"
   ]
  },
  {
   "cell_type": "code",
   "execution_count": 5,
   "metadata": {},
   "outputs": [],
   "source": [
    "sample = next(iter(loader))"
   ]
  },
  {
   "cell_type": "code",
   "execution_count": 6,
   "metadata": {},
   "outputs": [],
   "source": [
    "a_box = sample['box_cond'][:256]"
   ]
  },
  {
   "cell_type": "code",
   "execution_count": 7,
   "metadata": {},
   "outputs": [],
   "source": [
    "b_box = sample['box_cond'][256:]"
   ]
  },
  {
   "cell_type": "code",
   "execution_count": 10,
   "metadata": {},
   "outputs": [
    {
     "name": "stdout",
     "output_type": "stream",
     "text": [
      "256\n"
     ]
    }
   ],
   "source": [
    "giou_loss =giou(a_box,a_box)"
   ]
  },
  {
   "cell_type": "code",
   "execution_count": 16,
   "metadata": {},
   "outputs": [
    {
     "data": {
      "text/plain": [
       "tensor(6.4936e-05)"
      ]
     },
     "execution_count": 16,
     "metadata": {},
     "output_type": "execute_result"
    }
   ],
   "source": [
    "(1 - giou_loss).sum() / 256"
   ]
  },
  {
   "cell_type": "code",
   "execution_count": 23,
   "metadata": {},
   "outputs": [],
   "source": [
    "giou_loss = giou(a_box,b_box)"
   ]
  },
  {
   "cell_type": "code",
   "execution_count": 25,
   "metadata": {},
   "outputs": [
    {
     "data": {
      "text/plain": [
       "tensor([-0.1693, -0.1219, -0.0904, -0.0580, -0.0510, -0.0400, -0.0289, -0.0165,\n",
       "        -0.0202, -0.0368, -0.0573, -0.0759, -0.0717, -0.0366,  0.0573,  0.1253,\n",
       "         0.1811,  0.2210,  0.2446,  0.2726,  0.2696,  0.2906,  0.2887,  0.2871,\n",
       "         0.2667,  0.1293, -0.0533, -0.1068, -0.0732, -0.0830, -0.0505,  0.0056,\n",
       "         0.1014,  0.2062, -0.0230, -0.1496, -0.2747, -0.2829, -0.3608, -0.1852,\n",
       "        -0.2451, -0.3725, -0.5286, -0.6302, -0.7755, -0.7689, -0.7665, -0.7643,\n",
       "        -0.7621, -0.7559, -0.7498, -0.7433, -0.7355, -0.7216, -0.7134, -0.7026,\n",
       "        -0.6931, -0.9577, -0.9581, -0.9563, -0.9558, -0.9522, -0.9504, -0.9442,\n",
       "        -0.9429, -0.9424, -0.9393, -0.9388, -0.9440, -0.9485, -0.9519, -0.9537,\n",
       "        -0.9562, -0.9578, -0.9599, -0.9623, -0.9643, -0.9651, -0.9633, -0.9622,\n",
       "        -0.9596, -0.8726, -0.8723, -0.8671, -0.8853, -0.9113, -0.9216, -0.9353,\n",
       "        -0.9423, -0.9478, -0.9505, -0.9518, -0.9498, -0.9480, -0.9417, -0.9326,\n",
       "        -0.9186, -0.9042, -0.9051, -0.9096, -0.9190, -0.9202, -0.9179, -0.9123,\n",
       "        -0.9050, -0.8884, -0.8647, -0.8175, -0.7948, -0.7419, -0.7456, -0.7454,\n",
       "        -0.7358, -0.7216, -0.7060, -0.6863, -0.6723, -0.6657, -0.6371, -0.6172,\n",
       "        -0.5836, -0.5652, -0.5185, -0.4261, -0.3103, -0.2771, -0.3268, -0.3356,\n",
       "        -0.2485,  0.0357, -0.1442, -0.4479, -0.6114, -0.6929, -0.9621, -0.9604,\n",
       "        -0.9569, -0.9535, -0.9519, -0.9499, -0.9505, -0.9566, -0.9419, -0.9441,\n",
       "        -0.9506, -0.9553, -0.3365, -0.3021, -0.3176, -0.4904, -0.6135, -0.7116,\n",
       "        -0.7699, -0.8013, -0.8269, -0.8472, -0.8615, -0.8676, -0.8727, -0.8743,\n",
       "        -0.8753, -0.8735, -0.8981, -0.8979, -0.8732, -0.8633, -0.8463, -0.8199,\n",
       "        -0.7772, -0.7231, -0.6197, -0.3979, -0.2989, -0.3350, -0.2785, -0.2388,\n",
       "        -0.3281, -0.5120, -0.6089, -0.6617, -0.6949, -0.7220, -0.7874, -0.8552,\n",
       "        -0.8639, -0.8957, -0.9214, -0.9359, -0.9438, -0.9494, -0.9530, -0.9572,\n",
       "        -0.9593, -0.9601, -0.9608, -0.9565, -0.9515, -0.9417, -0.9512, -0.9630,\n",
       "        -0.9705, -0.9740, -0.6654, -0.6790, -0.6996, -0.7121, -0.7227, -0.7309,\n",
       "        -0.7075, -0.6513, -0.6000, -0.5928, -0.9430, -0.9294, -0.9288, -0.9289,\n",
       "        -0.9248, -0.9205, -0.9131, -0.9020, -0.8873, -0.8759, -0.8523, -0.7481,\n",
       "        -0.6710, -0.6281, -0.5265, -0.3868, -0.3580, -0.4319, -0.4139, -0.2757,\n",
       "        -0.5266, -0.6659, -0.7455, -0.7823, -0.8004, -0.8125, -0.8168, -0.8717,\n",
       "        -0.8813, -0.9101, -0.9254, -0.9363, -0.9435, -0.9485, -0.9528, -0.9545,\n",
       "        -0.9555, -0.9549, -0.9538, -0.9508, -0.9441, -0.9374, -0.9280, -0.9098])"
      ]
     },
     "execution_count": 25,
     "metadata": {},
     "output_type": "execute_result"
    }
   ],
   "source": [
    "giou_loss"
   ]
  },
  {
   "cell_type": "code",
   "execution_count": 156,
   "metadata": {},
   "outputs": [],
   "source": [
    "import torch"
   ]
  },
  {
   "cell_type": "code",
   "execution_count": 157,
   "metadata": {},
   "outputs": [],
   "source": [
    "b= torch.rand(1,2)"
   ]
  },
  {
   "cell_type": "code",
   "execution_count": 158,
   "metadata": {},
   "outputs": [],
   "source": [
    "c = torch.rand(1,2)"
   ]
  },
  {
   "cell_type": "code",
   "execution_count": 159,
   "metadata": {},
   "outputs": [
    {
     "data": {
      "text/plain": [
       "tensor([[0.7613, 0.9863]])"
      ]
     },
     "execution_count": 159,
     "metadata": {},
     "output_type": "execute_result"
    }
   ],
   "source": [
    "(b+c)"
   ]
  },
  {
   "cell_type": "code",
   "execution_count": null,
   "metadata": {},
   "outputs": [],
   "source": []
  }
 ],
 "metadata": {
  "kernelspec": {
   "display_name": "layout",
   "language": "python",
   "name": "python3"
  },
  "language_info": {
   "codemirror_mode": {
    "name": "ipython",
    "version": 3
   },
   "file_extension": ".py",
   "mimetype": "text/x-python",
   "name": "python",
   "nbconvert_exporter": "python",
   "pygments_lexer": "ipython3",
   "version": "3.9.19"
  }
 },
 "nbformat": 4,
 "nbformat_minor": 2
}
